{
 "cells": [
  {
   "cell_type": "code",
   "execution_count": 5,
   "metadata": {},
   "outputs": [],
   "source": [
    "from tqdm import tqdm\n",
    "from collections import Counter\n",
    "import random"
   ]
  },
  {
   "cell_type": "code",
   "execution_count": 6,
   "metadata": {},
   "outputs": [],
   "source": [
    "FILE_NAME=\"clustering1.txt\""
   ]
  },
  {
   "cell_type": "code",
   "execution_count": 61,
   "metadata": {},
   "outputs": [],
   "source": [
    "%%bash\n",
    "FILE_NAME=\"clustering_big.txt\"\n",
    "LINK=\"https://d3c33hcgiwev3.cloudfront.net/_fe8d0202cd20a808db6a4d5d06be62f4_clustering_big.txt?Expires=1616457600&Signature=D1Za35jPlT4iil01J-4T~cb0e1YBVm9OkLYWQ2nXPMJnFrVTw6AHa4oQ51aQEeAw3XRFQbpC6gxCi1BZVvakGDUxjpDm9yxGR2T4ezRxkAcGYu2Nnb8EfeuYcn9S5RhlPsAVZXzWv8hujMd-~ULgpE2zGSz8sV3Y4soiqwwCsAY_&Key-Pair-Id=APKAJLTNE6QMUY6HBC5A\"\n",
    "\n",
    "wget -O $FILE_NAME $LINK "
   ]
  },
  {
   "cell_type": "code",
   "execution_count": 62,
   "metadata": {},
   "outputs": [],
   "source": [
    "%%bash\n",
    "FILE_NAME=\"clustering1.txt\"\n",
    "LINK=\"https://d3c33hcgiwev3.cloudfront.net/_fe8d0202cd20a808db6a4d5d06be62f4_clustering1.txt?Expires=1616457600&Signature=elw6Wj3zWPq7H8s3qlm09vT~D9tWtV~uWW4ak3o6vi3OOIG1Pf-lk9Nd0gR~n2xzxMXG4bEZBB-Oh2tdvFueHcQt1lWCoaHuqbZzFkZsJM51cxnB7EgXRwp-Uia~hbM38NaeHiPIb0CM3PFZkJMAk~Hi8qeCROcZFcnDtsVNL6Y_&Key-Pair-Id=APKAJLTNE6QMUY6HBC5A\"\n",
    "\n",
    "wget -O $FILE_NAME $LINK "
   ]
  },
  {
   "cell_type": "code",
   "execution_count": 63,
   "metadata": {},
   "outputs": [
    {
     "name": "stdout",
     "output_type": "stream",
     "text": [
      "total 24712\n",
      "-rw-r--r--  1 Alexander  staff    28K Mar 21 20:19 clustering.ipynb\n",
      "-rw-r--r--  1 Alexander  staff   1.5M Mar 29  2016 clustering1.txt\n",
      "-rw-r--r--  1 Alexander  staff   9.3M Mar 29  2016 clustering_big.txt\n"
     ]
    }
   ],
   "source": [
    "! ls -lh"
   ]
  },
  {
   "cell_type": "code",
   "execution_count": 7,
   "metadata": {},
   "outputs": [],
   "source": [
    "with open(FILE_NAME) as file:\n",
    "    a = file.read().splitlines()"
   ]
  },
  {
   "cell_type": "code",
   "execution_count": 8,
   "metadata": {},
   "outputs": [],
   "source": [
    "n_nodes = int(a[0])\n",
    "k_clusters = 4"
   ]
  },
  {
   "cell_type": "code",
   "execution_count": 9,
   "metadata": {},
   "outputs": [],
   "source": [
    "edges = [tuple(map(int, edge.split(' '))) for edge in a[1:]]"
   ]
  },
  {
   "cell_type": "code",
   "execution_count": 10,
   "metadata": {},
   "outputs": [
    {
     "data": {
      "text/plain": [
       "[(1, 2, 6808),\n",
       " (1, 3, 5250),\n",
       " (1, 4, 74),\n",
       " (1, 5, 3659),\n",
       " (1, 6, 8931),\n",
       " (1, 7, 1273),\n",
       " (1, 8, 7545),\n",
       " (1, 9, 879),\n",
       " (1, 10, 7924),\n",
       " (1, 11, 7710)]"
      ]
     },
     "execution_count": 10,
     "metadata": {},
     "output_type": "execute_result"
    }
   ],
   "source": [
    "edges[:10]"
   ]
  },
  {
   "cell_type": "code",
   "execution_count": 14,
   "metadata": {},
   "outputs": [],
   "source": [
    "class UnionFind:\n",
    "    def __init__(self,n):\n",
    "        self.parent = list(range(n))\n",
    "        self.rank = [0] * n\n",
    "    \n",
    "    def find(self, x):\n",
    "        if self.parent[x] != x:\n",
    "            # path compression\n",
    "            self.parent[x] = self.find(self.parent[x])\n",
    "        return self.parent[x]\n",
    "    \n",
    "    def count(self):\n",
    "        return self.n_clusters\n",
    "        \n",
    "    def union(self, x,y):\n",
    "        root1 = self.find(x)\n",
    "        root2 = self.find(y)\n",
    "        \n",
    "        if root1 == root2:\n",
    "            return False\n",
    "        \n",
    "        # lazy union + union by rank\n",
    "        if self.rank[root1] == self.rank[root2]:\n",
    "            self.parent[root2] = root1\n",
    "            self.rank[root1] += 1\n",
    "        elif self.rank[root1] > self.rank[root2]:\n",
    "            self.parent[root2] = root1\n",
    "        else:\n",
    "            self.parent[root1] = root2\n",
    "        return True\n",
    "            \n",
    "    def connected(self, x, y):\n",
    "        return self.find(x) == self.find(y)"
   ]
  },
  {
   "cell_type": "code",
   "execution_count": 17,
   "metadata": {},
   "outputs": [],
   "source": [
    "from dataclasses import dataclass\n",
    "@dataclass\n",
    "class Edge:\n",
    "    src: int\n",
    "    dst: int\n",
    "    weight: int\n",
    "\n",
    "\n",
    "def clustering(num_nodes, k_clusters, edgelist):\n",
    "    num_clusters = num_nodes\n",
    "    edgelist.sort(key=lambda Edge : Edge.weight)\n",
    "    U = UnionFind(num_nodes)\n",
    "    spacing = 0\n",
    "    for edge in tqdm(edgelist):\n",
    "        united = U.union(edge.src, edge.dst)\n",
    "        if united:\n",
    "            num_clusters -= 1\n",
    "            # k_clusters - 1 because I need to c\n",
    "            # calculate next edge weigth as spacing\n",
    "            if num_clusters == k_clusters - 1:\n",
    "                spacing = edge.weight\n",
    "                break\n",
    "    return spacing"
   ]
  },
  {
   "cell_type": "code",
   "execution_count": 18,
   "metadata": {},
   "outputs": [
    {
     "name": "stderr",
     "output_type": "stream",
     "text": [
      "  1%|          | 1217/124750 [00:00<00:00, 383650.35it/s]\n"
     ]
    },
    {
     "data": {
      "text/plain": [
       "97"
      ]
     },
     "execution_count": 18,
     "metadata": {},
     "output_type": "execute_result"
    }
   ],
   "source": [
    "# subtract one so vertices start from 0\n",
    "clustering(n_nodes, k_clusters, [Edge(x[0]-1, x[1]-1, x[2]) for x in edges])"
   ]
  },
  {
   "cell_type": "markdown",
   "metadata": {},
   "source": [
    "# 2"
   ]
  },
  {
   "cell_type": "code",
   "execution_count": 79,
   "metadata": {},
   "outputs": [],
   "source": [
    "vertices = [\"\".join(x.split(' ')) for x in open('clustering_big.txt', 'r').read().split('\\n')[1:-1]]\n"
   ]
  },
  {
   "cell_type": "code",
   "execution_count": 81,
   "metadata": {},
   "outputs": [
    {
     "data": {
      "text/plain": [
       "['111000001101001111001111',\n",
       " '011001100101111110101101',\n",
       " '011100000001001011100101',\n",
       " '111010111011111010011000',\n",
       " '010011101011001111100100',\n",
       " '010010100001001110110101',\n",
       " '000110001101101010100000',\n",
       " '000010000111110111011000',\n",
       " '111001100100011111111001',\n",
       " '011110101101010000111111']"
      ]
     },
     "execution_count": 81,
     "metadata": {},
     "output_type": "execute_result"
    }
   ],
   "source": [
    "vertices[:10]"
   ]
  },
  {
   "cell_type": "code",
   "execution_count": 83,
   "metadata": {},
   "outputs": [
    {
     "name": "stderr",
     "output_type": "stream",
     "text": [
      "100%|██████████| 200000/200000 [53:00<00:00, 62.88it/s] "
     ]
    },
    {
     "name": "stdout",
     "output_type": "stream",
     "text": [
      "6118\n"
     ]
    },
    {
     "name": "stderr",
     "output_type": "stream",
     "text": [
      "\n"
     ]
    }
   ],
   "source": [
    "def invert(bit):\n",
    "    if bit != '0' and bit != '1':\n",
    "        raise ValueError\n",
    "    return '1' if bit == '0' else '0'\n",
    "\n",
    "def similar(v):\n",
    "    out = []\n",
    "    for i in range(len(v)):\n",
    "        out.append(v[:i]+invert(v[i]) + v[i+1:])\n",
    "        for j in range(i+1, len(v)):\n",
    "            out.append(v[:i]+invert(v[i])+v[i+1:j]+invert(v[j])+v[j+1:])\n",
    "    return out\n",
    " \n",
    "heads = {}\n",
    "for v in vertices:\n",
    "    heads[v] = v\n",
    "clusters = len(heads) \n",
    "#print clusters\n",
    "for v in tqdm(vertices):\n",
    "    v_head = heads[v]\n",
    "    while heads[v_head] != v_head:\n",
    "        v_head = heads[v_head]\n",
    "\n",
    "    for friend in similar(v):\n",
    "        if heads.get(friend):\n",
    "            head = heads[friend]\n",
    "            while heads[head] != head:\n",
    "                head = heads[head]\n",
    "            if v_head != head:\n",
    "                heads[head] = v_head\n",
    "                clusters -= 1\n",
    "print(clusters)"
   ]
  },
  {
   "cell_type": "code",
   "execution_count": null,
   "metadata": {},
   "outputs": [],
   "source": [
    "# 16508\n",
    "# 6118"
   ]
  },
  {
   "cell_type": "code",
   "execution_count": null,
   "metadata": {},
   "outputs": [],
   "source": []
  },
  {
   "cell_type": "code",
   "execution_count": null,
   "metadata": {},
   "outputs": [],
   "source": []
  }
 ],
 "metadata": {
  "kernelspec": {
   "display_name": "venv3.9",
   "language": "python",
   "name": "venv3.9"
  },
  "language_info": {
   "codemirror_mode": {
    "name": "ipython",
    "version": 3
   },
   "file_extension": ".py",
   "mimetype": "text/x-python",
   "name": "python",
   "nbconvert_exporter": "python",
   "pygments_lexer": "ipython3",
   "version": "3.9.0"
  }
 },
 "nbformat": 4,
 "nbformat_minor": 4
}
