{
 "cells": [
  {
   "cell_type": "markdown",
   "metadata": {},
   "source": [
    "test on https://leetcode.com/problems/edit-distance/submissions/"
   ]
  },
  {
   "cell_type": "code",
   "execution_count": 83,
   "metadata": {},
   "outputs": [],
   "source": [
    "from dataclasses import dataclass\n",
    "\n",
    "@dataclass\n",
    "class TestCase:\n",
    "    input: str\n",
    "    output: int"
   ]
  },
  {
   "cell_type": "code",
   "execution_count": 84,
   "metadata": {},
   "outputs": [],
   "source": [
    "test_cases = [\n",
    "    TestCase(input={'X':'AAGACG', 'Y':'CAGAGCTC'}, output=14),\n",
    "    TestCase(input={'X':'AGTGCTGAAAGTTGCGCCAGTGAC', 'Y':'AGTGCTGAAGTTCGCCAGTTGACG'}, output=12),\n",
    "    TestCase(input={'X':'CACAATTTTTCCCAGAGAGA', 'Y':'CGAATTTTTCCCAGAGAGA'}, output=7)\n",
    "]"
   ]
  },
  {
   "cell_type": "code",
   "execution_count": 85,
   "metadata": {},
   "outputs": [],
   "source": [
    "import numpy as np\n",
    "\n",
    "def reconstruct_seq_align(X, Y, A, p_gap, p_mis):\n",
    "    i, j = len(X), len(Y)\n",
    "    res_x = []\n",
    "    res_y = []\n",
    "    while i > 0 and j > 0:\n",
    "        x, y = X[i-1], Y[j-1]\n",
    "        result = A[i][j]\n",
    "        \n",
    "        a1 = A[i-1, j-1] + (p_mis if x!=y else 0)\n",
    "        a2 = A[i-1, j] + p_gap\n",
    "        a3 = A[i, j-1] + p_gap\n",
    "        \n",
    "        if result == a1:\n",
    "            res_x.append(x)\n",
    "            res_y.append(y)\n",
    "            i -= 1\n",
    "            j -= 1\n",
    "        elif result == a2:\n",
    "            res_x.append(x)\n",
    "            res_y.append('-')\n",
    "            i -= 1\n",
    "        elif result == a3:\n",
    "            res_x.append('-')\n",
    "            res_y.append(y)\n",
    "            j -= 1\n",
    "        else:\n",
    "            raise\n",
    "    return (''.join(res_x)[::-1], ''.join(res_y)[::-1])\n",
    "\n",
    "\n",
    "def seq_align(X: str, Y: str, p_gap=3, p_mis=4):\n",
    "    A = np.zeros( (len(X)+1, len(Y)+1) , dtype=int)\n",
    "    A[0,:] = np.arange(len(Y)+1) * p_gap\n",
    "    A[:,0] = np.arange(len(X)+1) * p_gap\n",
    "    for i, x in enumerate(X, 1):\n",
    "        for j, y in enumerate(Y, 1):\n",
    "            a1 = A[i-1, j-1] + (p_mis if x!=y else 0)\n",
    "            a2 = A[i-1, j] + p_gap\n",
    "            a3 = A[i, j-1] + p_gap\n",
    "            A[i, j] = min(a1, a2, a3)\n",
    "    sequences = reconstruct_seq_align(X, Y, A, p_gap, p_mis)\n",
    "    print(sequences)\n",
    "    return A"
   ]
  },
  {
   "cell_type": "code",
   "execution_count": 86,
   "metadata": {},
   "outputs": [
    {
     "name": "stdout",
     "output_type": "stream",
     "text": [
      "('AAGA-C-G', 'CAGAGCTC')\n",
      "OK: pred 14 == real 14\n",
      "('AGTGCTGAAAGTTGCGCCAG-TGAC-', 'AGTGCTG-AAGTT-CGCCAGTTGACG')\n",
      "OK: pred 12 == real 12\n",
      "('CACAATTTTTCCCAGAGAGA', 'C-GAATTTTTCCCAGAGAGA')\n",
      "OK: pred 7 == real 7\n"
     ]
    }
   ],
   "source": [
    "for test in test_cases:\n",
    "    output = seq_align(**test.input)\n",
    "    output = output[-1, -1]\n",
    "    if output == test.output:\n",
    "        print( f'OK: pred {output} == real {test.output}' )\n",
    "    else:\n",
    "        print( f'ERROR: pred {output} == real {test.output}' )"
   ]
  },
  {
   "cell_type": "code",
   "execution_count": 88,
   "metadata": {},
   "outputs": [
    {
     "name": "stdout",
     "output_type": "stream",
     "text": [
      "('AAGA-C-G', 'CAGAGCTC')\n"
     ]
    },
    {
     "data": {
      "text/plain": [
       "array([[ 0,  3,  6,  9, 12, 15, 18, 21, 24],\n",
       "       [ 3,  4,  3,  6,  9, 12, 15, 18, 21],\n",
       "       [ 6,  7,  4,  7,  6,  9, 12, 15, 18],\n",
       "       [ 9, 10,  7,  4,  7,  6,  9, 12, 15],\n",
       "       [12, 13, 10,  7,  4,  7, 10, 13, 16],\n",
       "       [15, 12, 13, 10,  7,  8,  7, 10, 13],\n",
       "       [18, 15, 16, 13, 10,  7, 10, 11, 14]])"
      ]
     },
     "execution_count": 88,
     "metadata": {},
     "output_type": "execute_result"
    }
   ],
   "source": [
    "output = seq_align(**test_cases[0].input)\n",
    "output"
   ]
  },
  {
   "cell_type": "code",
   "execution_count": null,
   "metadata": {},
   "outputs": [],
   "source": []
  }
 ],
 "metadata": {
  "kernelspec": {
   "display_name": "venv3.9",
   "language": "python",
   "name": "venv3.9"
  },
  "language_info": {
   "codemirror_mode": {
    "name": "ipython",
    "version": 3
   },
   "file_extension": ".py",
   "mimetype": "text/x-python",
   "name": "python",
   "nbconvert_exporter": "python",
   "pygments_lexer": "ipython3",
   "version": "3.9.0"
  }
 },
 "nbformat": 4,
 "nbformat_minor": 4
}
