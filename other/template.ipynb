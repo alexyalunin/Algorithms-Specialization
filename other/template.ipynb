{
 "cells": [
  {
   "cell_type": "code",
   "execution_count": 1,
   "metadata": {},
   "outputs": [],
   "source": [
    "from tqdm.notebook import tqdm\n",
    "from collections import Counter\n",
    "import random\n",
    "from copy import copy\n",
    "import numpy as np\n",
    "from dataclasses import dataclass, field"
   ]
  },
  {
   "cell_type": "code",
   "execution_count": 3,
   "metadata": {},
   "outputs": [],
   "source": [
    "FILE_NAME=\"dijkstraData.txt\""
   ]
  },
  {
   "cell_type": "code",
   "execution_count": 2,
   "metadata": {},
   "outputs": [
    {
     "name": "stderr",
     "output_type": "stream",
     "text": [
      "--2021-03-11 21:29:58--  https://d3c33hcgiwev3.cloudfront.net/_dcf1d02570e57d23ab526b1e33ba6f12_dijkstraData.txt?Expires=1615593600&Signature=WaYioWg5Yjcnn4gtFwY7UXfBvvPp1aZBgiDX~l716bsnD-G5yJIizDzUYSWhp2RgIdAeG0s1UbuJJKLmUfXM1izmZcckSEuiPy7exrYDDLbtwYctuaJ~QgBRYsFfohUSbmbOJiizGBrEL07KVDnkWF1sO-qzDm8e-ZN4CgGGyUs_&Key-Pair-Id=APKAJLTNE6QMUY6HBC5A\n",
      "Resolving d3c33hcgiwev3.cloudfront.net (d3c33hcgiwev3.cloudfront.net)... 52.85.114.40, 52.85.114.74, 52.85.114.45, ...\n",
      "Connecting to d3c33hcgiwev3.cloudfront.net (d3c33hcgiwev3.cloudfront.net)|52.85.114.40|:443... connected.\n",
      "HTTP request sent, awaiting response... 200 OK\n",
      "Length: 32237 (31K) [text/plain]\n",
      "Saving to: ‘dijkstraData.txt’\n",
      "\n",
      "     0K .......... .......... .......... .                    100%  333K=0,09s\n",
      "\n",
      "2021-03-11 21:29:59 (333 KB/s) - ‘dijkstraData.txt’ saved [32237/32237]\n",
      "\n"
     ]
    }
   ],
   "source": [
    "%%bash\n",
    "FILE_NAME=\"dijkstraData.txt\"\n",
    "LINK=\"https://d3c33hcgiwev3.cloudfront.net/_dcf1d02570e57d23ab526b1e33ba6f12_dijkstraData.txt?Expires=1615593600&Signature=WaYioWg5Yjcnn4gtFwY7UXfBvvPp1aZBgiDX~l716bsnD-G5yJIizDzUYSWhp2RgIdAeG0s1UbuJJKLmUfXM1izmZcckSEuiPy7exrYDDLbtwYctuaJ~QgBRYsFfohUSbmbOJiizGBrEL07KVDnkWF1sO-qzDm8e-ZN4CgGGyUs_&Key-Pair-Id=APKAJLTNE6QMUY6HBC5A\"\n",
    "\n",
    "wget -O $FILE_NAME $LINK "
   ]
  },
  {
   "cell_type": "code",
   "execution_count": 3,
   "metadata": {},
   "outputs": [
    {
     "name": "stdout",
     "output_type": "stream",
     "text": [
      "total 1464\n",
      "drwxr-xr-x  2 Alexander  staff    64B Mar 11 21:26 \u001b[1m\u001b[36mDijkstra\u001b[m\u001b[m\n",
      "-rw-r--r--@ 1 Alexander  staff   673K Apr  4  2016 IntegerArray.txt\n",
      "-rw-r--r--@ 1 Alexander  staff   4.2K Mar  3 17:02 algorithms.ipynb\n",
      "-rw-r--r--  1 Alexander  staff   3.4K Mar  4 21:16 closest_pair.py\n",
      "-rw-r--r--  1 Alexander  staff   2.6K Mar  4 01:56 course_1.py\n",
      "-rw-r--r--  1 Alexander  staff    31K Apr  4  2016 dijkstraData.txt\n",
      "drwxr-xr-x  7 Alexander  staff   224B Mar  8 19:11 \u001b[1m\u001b[36mmincut\u001b[m\u001b[m\n",
      "drwxr-xr-x  5 Alexander  staff   160B Mar  6 15:12 \u001b[1m\u001b[36mquicksort\u001b[m\u001b[m\n",
      "-rw-r--r--  1 Alexander  staff   1.1K Mar  7 14:21 rselect.py\n",
      "drwxr-xr-x  5 Alexander  staff   160B Mar 11 02:46 \u001b[1m\u001b[36mscc\u001b[m\u001b[m\n",
      "-rw-r--r--  1 Alexander  staff   3.7K Mar 11 22:02 template.ipynb\n",
      "-rw-r--r--  1 Alexander  staff     0B Mar  4 01:58 test.txt\n"
     ]
    }
   ],
   "source": [
    "! ls -lh"
   ]
  },
  {
   "cell_type": "code",
   "execution_count": 23,
   "metadata": {},
   "outputs": [],
   "source": [
    "with open(FILE_NAME) as file:\n",
    "    a = file.read().splitlines()"
   ]
  },
  {
   "cell_type": "code",
   "execution_count": null,
   "metadata": {},
   "outputs": [],
   "source": []
  }
 ],
 "metadata": {
  "kernelspec": {
   "display_name": "venv3.9",
   "language": "python",
   "name": "venv3.9"
  },
  "language_info": {
   "codemirror_mode": {
    "name": "ipython",
    "version": 3
   },
   "file_extension": ".py",
   "mimetype": "text/x-python",
   "name": "python",
   "nbconvert_exporter": "python",
   "pygments_lexer": "ipython3",
   "version": "3.9.0"
  }
 },
 "nbformat": 4,
 "nbformat_minor": 4
}
