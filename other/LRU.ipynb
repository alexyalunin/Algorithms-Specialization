{
 "cells": [
  {
   "cell_type": "code",
   "execution_count": 1,
   "metadata": {},
   "outputs": [
    {
     "ename": "IndentationError",
     "evalue": "expected an indented block (<ipython-input-1-1a891f0a6e63>, line 19)",
     "output_type": "error",
     "traceback": [
      "\u001b[0;36m  File \u001b[0;32m\"<ipython-input-1-1a891f0a6e63>\"\u001b[0;36m, line \u001b[0;32m19\u001b[0m\n\u001b[0;31m    def put(self, key: int, value: int) -> None:\u001b[0m\n\u001b[0m    ^\u001b[0m\n\u001b[0;31mIndentationError\u001b[0m\u001b[0;31m:\u001b[0m expected an indented block\n"
     ]
    }
   ],
   "source": [
    "class ListNode():\n",
    "    def __init__(self, key, value, prev, next):\n",
    "        self.key = key\n",
    "        self.value = value\n",
    "        self.prev = prev\n",
    "        self.next = next\n",
    "\n",
    "        \n",
    "class LRUCache:\n",
    "\n",
    "    def __init__(self, capacity: int):\n",
    "        self.capacity = capacity\n",
    "        self.D = dict()\n",
    "        self.head = ListNode(None, None, None, None)\n",
    "        self.tail = ListNode(None, None, None, None)\n",
    "        self.head.next = self.tail\n",
    "        self.tail.prev = self.head\n",
    "\n",
    "    def get(self, key: int) -> int:\n",
    "        if key in D:\n",
    "            node = D[key]\n",
    "            self.delete_node(node)\n",
    "            self.add_node_to_tail(node)\n",
    "            return node.value\n",
    "        else:\n",
    "            return -1\n",
    "\n",
    "        \n",
    "    def put(self, key: int, value: int) -> None:\n",
    "        if key in self.D:\n",
    "            node = self.D[key]\n",
    "            self.delete_node(node)\n",
    "            self.add_node_to_tail(node)\n",
    "            node.value = value \n",
    "        else:\n",
    "            if len(self.D) >= self.capacity:\n",
    "                self.delete_node(head.next)\n",
    "            node = ListNode(key, value, None, None)\n",
    "            self.D[key] = node\n",
    "            self.add_node_to_tail(node)\n",
    "\n",
    "\n",
    "    def delete_node(self, node):\n",
    "        prev = node.prev\n",
    "        next = node.next\n",
    "        prev.next = next\n",
    "        next.prev = prev\n",
    "        \n",
    "        \n",
    "    def add_node_to_tail(self, node):\n",
    "        node_before_tail = self.tail.prev\n",
    "        node_before_tail.next = node\n",
    "        node.prev = node_before_tail\n",
    "        self.tail.prev = node\n",
    "        "
   ]
  },
  {
   "cell_type": "code",
   "execution_count": null,
   "metadata": {},
   "outputs": [],
   "source": []
  }
 ],
 "metadata": {
  "kernelspec": {
   "display_name": "venv3.9",
   "language": "python",
   "name": "venv3.9"
  },
  "language_info": {
   "codemirror_mode": {
    "name": "ipython",
    "version": 3
   },
   "file_extension": ".py",
   "mimetype": "text/x-python",
   "name": "python",
   "nbconvert_exporter": "python",
   "pygments_lexer": "ipython3",
   "version": "3.9.0"
  }
 },
 "nbformat": 4,
 "nbformat_minor": 4
}
