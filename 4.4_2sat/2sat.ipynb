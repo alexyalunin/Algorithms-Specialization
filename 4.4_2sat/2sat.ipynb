{
 "cells": [
  {
   "cell_type": "code",
   "execution_count": 1,
   "metadata": {},
   "outputs": [],
   "source": [
    "from tqdm.notebook import tqdm\n",
    "from collections import Counter, defaultdict\n",
    "from itertools import chain\n",
    "import random\n",
    "from copy import copy\n",
    "import numpy as np\n",
    "from dataclasses import dataclass, field"
   ]
  },
  {
   "cell_type": "code",
   "execution_count": 2,
   "metadata": {},
   "outputs": [
    {
     "name": "stdout",
     "output_type": "stream",
     "text": [
      "total 91728\n",
      "-rw-r--r--  1 Alexander  staff    23K Apr 27 19:38 2sat.ipynb\n",
      "-rw-r--r--  1 Alexander  staff   1.2M Apr 27 03:28 2sat1.txt\n",
      "-rw-r--r--  1 Alexander  staff   2.6M Apr 27 03:28 2sat2.txt\n",
      "-rw-r--r--  1 Alexander  staff   5.5M Apr 27 03:28 2sat3.txt\n",
      "-rw-r--r--  1 Alexander  staff   8.4M Apr 27 03:28 2sat4.txt\n",
      "-rw-r--r--  1 Alexander  staff    11M Apr 27 03:28 2sat5.txt\n",
      "-rw-r--r--  1 Alexander  staff    14M Apr 27 03:28 2sat6.txt\n",
      "-rw-r--r--  1 Alexander  staff   4.5K Apr 27 19:02 papa_2sat.py\n",
      "-rw-r--r--  1 Alexander  staff   131B Apr 27 18:16 test1_false.txt\n",
      "-rw-r--r--  1 Alexander  staff   264B Apr 27 18:16 test2_true.txt\n"
     ]
    }
   ],
   "source": [
    "! ls -lh"
   ]
  },
  {
   "cell_type": "code",
   "execution_count": 3,
   "metadata": {},
   "outputs": [],
   "source": [
    "with open('2sat1.txt') as file:\n",
    "    lines = file.read().splitlines()"
   ]
  },
  {
   "cell_type": "code",
   "execution_count": 4,
   "metadata": {},
   "outputs": [
    {
     "data": {
      "text/plain": [
       "['100000', '-16808 75250', '43659 8931', '-27545 -50879', '-37710 64441']"
      ]
     },
     "execution_count": 4,
     "metadata": {},
     "output_type": "execute_result"
    }
   ],
   "source": [
    "lines[:5]"
   ]
  },
  {
   "cell_type": "code",
   "execution_count": 5,
   "metadata": {},
   "outputs": [
    {
     "data": {
      "text/plain": [
       "('Number of vars', 86569)"
      ]
     },
     "execution_count": 5,
     "metadata": {},
     "output_type": "execute_result"
    }
   ],
   "source": [
    "'Number of vars', len(set([abs(int(x)) for x in ' '.join(lines[1:]).split(' ')]))"
   ]
  },
  {
   "cell_type": "markdown",
   "metadata": {},
   "source": [
    "# Papadimitrion"
   ]
  },
  {
   "cell_type": "code",
   "execution_count": 6,
   "metadata": {},
   "outputs": [],
   "source": [
    "@dataclass\n",
    "class Clause:\n",
    "    first: int\n",
    "    second: int\n",
    "\n",
    "        \n",
    "class Formula:\n",
    "    def __init__(self, clauses):\n",
    "        self.clauses = clauses\n",
    "        \n",
    "        self.vs = set()\n",
    "        for c in self.clauses:\n",
    "            self.vs.add(abs(c.first))\n",
    "            self.vs.add(abs(c.second))\n",
    "        self.n_vars = len(self.vs)\n",
    "        print('Number of variables:', self.n_vars)\n",
    "        self.D = dict()\n",
    "        \n",
    "        \n",
    "    def init_random_sol(self):\n",
    "        for v in self.vs:\n",
    "            self.D[v] = bool(random.getrandbits(1))\n",
    "\n",
    "            \n",
    "    def switch_var(self, literal):\n",
    "        self.D[abs(literal)] = not self.D[abs(literal)]\n",
    "    \n",
    "    \n",
    "    def check_literal(self, literal):\n",
    "        if literal > 0:\n",
    "            return self.D[literal]\n",
    "        else:\n",
    "            return not self.D[-literal]\n",
    "    \n",
    "    \n",
    "    def check_clause(self, clause):\n",
    "        return self.check_literal(clause.first) \\\n",
    "            or self.check_literal(clause.second)\n",
    "    \n",
    "    \n",
    "    def get_false_clauses(self):\n",
    "        return [x for x in self.clauses if self.check_clause(x) == False]"
   ]
  },
  {
   "cell_type": "code",
   "execution_count": 7,
   "metadata": {},
   "outputs": [],
   "source": [
    "# https://github.com/ChuntaoLu/Algorithms-Design-and-Analysis/blob/eedab75c5dd2fafd1123150209d174cf6f64914f/week12%20local%20search%20and%202SAT%20problem/papa_2sat.py#L43\n",
    "def reduce_clause(all_clause_pairs):\n",
    "    singular_var = set()\n",
    "    clause_var_dict = {} \n",
    "    var_clause_dict = defaultdict(set)\n",
    "    for x, y in all_clause_pairs:\n",
    "        var_clause_dict[x].add((x, y))\n",
    "        var_clause_dict[y].add((x, y))\n",
    "        clause_var_dict[(x,y)] = [x, y]\n",
    "    while True:\n",
    "        for var in singular_var:\n",
    "            for clause in var_clause_dict[var].copy():\n",
    "                del clause_var_dict[clause]\n",
    "                var_clause_dict[clause[0]] -= set([clause])\n",
    "                var_clause_dict[clause[1]] -= set([clause])\n",
    "        reduced_var = set(chain(*clause_var_dict.values()))\n",
    "        singular_var = set([i for i in reduced_var if -i not in reduced_var])\n",
    "        if singular_var == set():\n",
    "            break\n",
    "    return set(clause_var_dict.keys())\n",
    "\n",
    "\n",
    "def Papadimitrion_2SAT(formula):\n",
    "    for _ in tqdm(range(int(np.log2(formula.n_vars)))):\n",
    "        formula.init_random_sol()\n",
    "        for _ in tqdm(range(2 * formula.n_vars**2)):\n",
    "            false_clauses = formula.get_false_clauses()\n",
    "            if len(false_clauses) == 0: \n",
    "                return True\n",
    "            chosen_clause = random.choice(false_clauses)\n",
    "            chosen_var = abs(random.choice((chosen_clause.first, chosen_clause.second)))\n",
    "            formula.switch_var(chosen_var)\n",
    "    return False"
   ]
  },
  {
   "cell_type": "code",
   "execution_count": 8,
   "metadata": {},
   "outputs": [
    {
     "name": "stdout",
     "output_type": "stream",
     "text": [
      "Number of clauses before: 100000\n",
      "Number of clauses after: 6\n",
      "Number of variables: 6\n"
     ]
    }
   ],
   "source": [
    "with open('2sat1.txt') as file:\n",
    "    lines = file.read().splitlines()\n",
    "clauses = []\n",
    "for line in lines[1:]:\n",
    "    a, b = tuple(line.split(' '))\n",
    "    clauses.append( Clause(first=int(a), second=int(b)) )\n",
    "\n",
    "print('Number of clauses before:', len(clauses))\n",
    "clauses = reduce_clause( set((x.first, x.second) for x in clauses) )\n",
    "clauses = [Clause(x[0], x[1]) for x in clauses]\n",
    "print('Number of clauses after:', len(clauses))\n",
    "formula = Formula(clauses)"
   ]
  },
  {
   "cell_type": "code",
   "execution_count": 9,
   "metadata": {},
   "outputs": [
    {
     "data": {
      "application/vnd.jupyter.widget-view+json": {
       "model_id": "8e7af35afa014ac2936608c4db974d6e",
       "version_major": 2,
       "version_minor": 0
      },
      "text/plain": [
       "HBox(children=(HTML(value=''), FloatProgress(value=0.0, max=2.0), HTML(value='')))"
      ]
     },
     "metadata": {},
     "output_type": "display_data"
    },
    {
     "data": {
      "application/vnd.jupyter.widget-view+json": {
       "model_id": "f57f68268c0148888ec996ab26221da2",
       "version_major": 2,
       "version_minor": 0
      },
      "text/plain": [
       "HBox(children=(HTML(value=''), FloatProgress(value=0.0, max=72.0), HTML(value='')))"
      ]
     },
     "metadata": {},
     "output_type": "display_data"
    },
    {
     "name": "stdout",
     "output_type": "stream",
     "text": [
      "\n",
      "\n"
     ]
    },
    {
     "data": {
      "text/plain": [
       "True"
      ]
     },
     "execution_count": 9,
     "metadata": {},
     "output_type": "execute_result"
    }
   ],
   "source": [
    "bool_res = Papadimitrion_2SAT(formula)\n",
    "bool_res"
   ]
  },
  {
   "cell_type": "code",
   "execution_count": 10,
   "metadata": {},
   "outputs": [
    {
     "name": "stdout",
     "output_type": "stream",
     "text": [
      "Number of clauses before: 100000\n",
      "Number of clauses after: 6\n",
      "Number of variables: 6\n"
     ]
    },
    {
     "data": {
      "application/vnd.jupyter.widget-view+json": {
       "model_id": "3116a73a6c57466a99d13d18960f6b2a",
       "version_major": 2,
       "version_minor": 0
      },
      "text/plain": [
       "HBox(children=(HTML(value=''), FloatProgress(value=0.0, max=2.0), HTML(value='')))"
      ]
     },
     "metadata": {},
     "output_type": "display_data"
    },
    {
     "data": {
      "application/vnd.jupyter.widget-view+json": {
       "model_id": "b7bec7738de040fc8defde7b275d3f27",
       "version_major": 2,
       "version_minor": 0
      },
      "text/plain": [
       "HBox(children=(HTML(value=''), FloatProgress(value=0.0, max=72.0), HTML(value='')))"
      ]
     },
     "metadata": {},
     "output_type": "display_data"
    },
    {
     "name": "stdout",
     "output_type": "stream",
     "text": [
      "\n",
      "\n",
      "1 True\n",
      "Number of clauses before: 200000\n",
      "Number of clauses after: 57\n",
      "Number of variables: 54\n"
     ]
    },
    {
     "data": {
      "application/vnd.jupyter.widget-view+json": {
       "model_id": "4f89d617b8c14432ae3e388ea6a8329f",
       "version_major": 2,
       "version_minor": 0
      },
      "text/plain": [
       "HBox(children=(HTML(value=''), FloatProgress(value=0.0, max=5.0), HTML(value='')))"
      ]
     },
     "metadata": {},
     "output_type": "display_data"
    },
    {
     "data": {
      "application/vnd.jupyter.widget-view+json": {
       "model_id": "96d0d80920fe4e55b65d163d9070f49c",
       "version_major": 2,
       "version_minor": 0
      },
      "text/plain": [
       "HBox(children=(HTML(value=''), FloatProgress(value=0.0, max=5832.0), HTML(value='')))"
      ]
     },
     "metadata": {},
     "output_type": "display_data"
    },
    {
     "name": "stdout",
     "output_type": "stream",
     "text": [
      "\n"
     ]
    },
    {
     "data": {
      "application/vnd.jupyter.widget-view+json": {
       "model_id": "31dbf7698ecf466991c4cd7c636960c4",
       "version_major": 2,
       "version_minor": 0
      },
      "text/plain": [
       "HBox(children=(HTML(value=''), FloatProgress(value=0.0, max=5832.0), HTML(value='')))"
      ]
     },
     "metadata": {},
     "output_type": "display_data"
    },
    {
     "name": "stdout",
     "output_type": "stream",
     "text": [
      "\n"
     ]
    },
    {
     "data": {
      "application/vnd.jupyter.widget-view+json": {
       "model_id": "f818add34bd946398d4a9b3a59289143",
       "version_major": 2,
       "version_minor": 0
      },
      "text/plain": [
       "HBox(children=(HTML(value=''), FloatProgress(value=0.0, max=5832.0), HTML(value='')))"
      ]
     },
     "metadata": {},
     "output_type": "display_data"
    },
    {
     "name": "stdout",
     "output_type": "stream",
     "text": [
      "\n"
     ]
    },
    {
     "data": {
      "application/vnd.jupyter.widget-view+json": {
       "model_id": "5a9b09b3e17d40fc9c8fca7012546da5",
       "version_major": 2,
       "version_minor": 0
      },
      "text/plain": [
       "HBox(children=(HTML(value=''), FloatProgress(value=0.0, max=5832.0), HTML(value='')))"
      ]
     },
     "metadata": {},
     "output_type": "display_data"
    },
    {
     "name": "stdout",
     "output_type": "stream",
     "text": [
      "\n"
     ]
    },
    {
     "data": {
      "application/vnd.jupyter.widget-view+json": {
       "model_id": "1fb94cfe796e4cf1a4a9e70e6c665d69",
       "version_major": 2,
       "version_minor": 0
      },
      "text/plain": [
       "HBox(children=(HTML(value=''), FloatProgress(value=0.0, max=5832.0), HTML(value='')))"
      ]
     },
     "metadata": {},
     "output_type": "display_data"
    },
    {
     "name": "stdout",
     "output_type": "stream",
     "text": [
      "\n",
      "\n",
      "2 False\n",
      "Number of clauses before: 400000\n",
      "Number of clauses after: 295\n",
      "Number of variables: 288\n"
     ]
    },
    {
     "data": {
      "application/vnd.jupyter.widget-view+json": {
       "model_id": "9af710ff337644ffb38a5d5104974183",
       "version_major": 2,
       "version_minor": 0
      },
      "text/plain": [
       "HBox(children=(HTML(value=''), FloatProgress(value=0.0, max=8.0), HTML(value='')))"
      ]
     },
     "metadata": {},
     "output_type": "display_data"
    },
    {
     "data": {
      "application/vnd.jupyter.widget-view+json": {
       "model_id": "d64fa180f54d4f0c9e2c85f0843ba619",
       "version_major": 2,
       "version_minor": 0
      },
      "text/plain": [
       "HBox(children=(HTML(value=''), FloatProgress(value=0.0, max=165888.0), HTML(value='')))"
      ]
     },
     "metadata": {},
     "output_type": "display_data"
    },
    {
     "name": "stdout",
     "output_type": "stream",
     "text": [
      "\n",
      "\n",
      "3 True\n",
      "Number of clauses before: 600000\n",
      "Number of clauses after: 11\n",
      "Number of variables: 11\n"
     ]
    },
    {
     "data": {
      "application/vnd.jupyter.widget-view+json": {
       "model_id": "2c8806aed5854a07acb0547956900644",
       "version_major": 2,
       "version_minor": 0
      },
      "text/plain": [
       "HBox(children=(HTML(value=''), FloatProgress(value=0.0, max=3.0), HTML(value='')))"
      ]
     },
     "metadata": {},
     "output_type": "display_data"
    },
    {
     "data": {
      "application/vnd.jupyter.widget-view+json": {
       "model_id": "f8b38c423aab4328812f90039ae7d248",
       "version_major": 2,
       "version_minor": 0
      },
      "text/plain": [
       "HBox(children=(HTML(value=''), FloatProgress(value=0.0, max=242.0), HTML(value='')))"
      ]
     },
     "metadata": {},
     "output_type": "display_data"
    },
    {
     "name": "stdout",
     "output_type": "stream",
     "text": [
      "\n",
      "\n",
      "4 True\n",
      "Number of clauses before: 800000\n",
      "Number of clauses after: 101\n",
      "Number of variables: 98\n"
     ]
    },
    {
     "data": {
      "application/vnd.jupyter.widget-view+json": {
       "model_id": "8269e564376a4b55ad046a74b991a81b",
       "version_major": 2,
       "version_minor": 0
      },
      "text/plain": [
       "HBox(children=(HTML(value=''), FloatProgress(value=0.0, max=6.0), HTML(value='')))"
      ]
     },
     "metadata": {},
     "output_type": "display_data"
    },
    {
     "data": {
      "application/vnd.jupyter.widget-view+json": {
       "model_id": "b1a28360893a4e10ac7fafddcc9efeef",
       "version_major": 2,
       "version_minor": 0
      },
      "text/plain": [
       "HBox(children=(HTML(value=''), FloatProgress(value=0.0, max=19208.0), HTML(value='')))"
      ]
     },
     "metadata": {},
     "output_type": "display_data"
    },
    {
     "name": "stdout",
     "output_type": "stream",
     "text": [
      "\n"
     ]
    },
    {
     "data": {
      "application/vnd.jupyter.widget-view+json": {
       "model_id": "bcc9beb8923144e9b0564714223e7128",
       "version_major": 2,
       "version_minor": 0
      },
      "text/plain": [
       "HBox(children=(HTML(value=''), FloatProgress(value=0.0, max=19208.0), HTML(value='')))"
      ]
     },
     "metadata": {},
     "output_type": "display_data"
    },
    {
     "name": "stdout",
     "output_type": "stream",
     "text": [
      "\n"
     ]
    },
    {
     "data": {
      "application/vnd.jupyter.widget-view+json": {
       "model_id": "31a7a18918784e3ca52a7c8b8ec577e0",
       "version_major": 2,
       "version_minor": 0
      },
      "text/plain": [
       "HBox(children=(HTML(value=''), FloatProgress(value=0.0, max=19208.0), HTML(value='')))"
      ]
     },
     "metadata": {},
     "output_type": "display_data"
    },
    {
     "name": "stdout",
     "output_type": "stream",
     "text": [
      "\n"
     ]
    },
    {
     "data": {
      "application/vnd.jupyter.widget-view+json": {
       "model_id": "9b6305bc95b443a193e70e8d262e0409",
       "version_major": 2,
       "version_minor": 0
      },
      "text/plain": [
       "HBox(children=(HTML(value=''), FloatProgress(value=0.0, max=19208.0), HTML(value='')))"
      ]
     },
     "metadata": {},
     "output_type": "display_data"
    },
    {
     "name": "stdout",
     "output_type": "stream",
     "text": [
      "\n"
     ]
    },
    {
     "data": {
      "application/vnd.jupyter.widget-view+json": {
       "model_id": "11ece69fc9aa48aebf888f6059955078",
       "version_major": 2,
       "version_minor": 0
      },
      "text/plain": [
       "HBox(children=(HTML(value=''), FloatProgress(value=0.0, max=19208.0), HTML(value='')))"
      ]
     },
     "metadata": {},
     "output_type": "display_data"
    },
    {
     "name": "stdout",
     "output_type": "stream",
     "text": [
      "\n"
     ]
    },
    {
     "data": {
      "application/vnd.jupyter.widget-view+json": {
       "model_id": "bdb620868e8b4d92b287281ebc746dc8",
       "version_major": 2,
       "version_minor": 0
      },
      "text/plain": [
       "HBox(children=(HTML(value=''), FloatProgress(value=0.0, max=19208.0), HTML(value='')))"
      ]
     },
     "metadata": {},
     "output_type": "display_data"
    },
    {
     "name": "stdout",
     "output_type": "stream",
     "text": [
      "\n",
      "\n",
      "5 False\n",
      "Number of clauses before: 1000000\n",
      "Number of clauses after: 26\n",
      "Number of variables: 25\n"
     ]
    },
    {
     "data": {
      "application/vnd.jupyter.widget-view+json": {
       "model_id": "2fc0e8f416cc4d748c69af125e763a3c",
       "version_major": 2,
       "version_minor": 0
      },
      "text/plain": [
       "HBox(children=(HTML(value=''), FloatProgress(value=0.0, max=4.0), HTML(value='')))"
      ]
     },
     "metadata": {},
     "output_type": "display_data"
    },
    {
     "data": {
      "application/vnd.jupyter.widget-view+json": {
       "model_id": "8e1931da58a1479a9b8f3d720734d9c0",
       "version_major": 2,
       "version_minor": 0
      },
      "text/plain": [
       "HBox(children=(HTML(value=''), FloatProgress(value=0.0, max=1250.0), HTML(value='')))"
      ]
     },
     "metadata": {},
     "output_type": "display_data"
    },
    {
     "name": "stdout",
     "output_type": "stream",
     "text": [
      "\n"
     ]
    },
    {
     "data": {
      "application/vnd.jupyter.widget-view+json": {
       "model_id": "04e67dd035424a89b31dcf46ef5741f6",
       "version_major": 2,
       "version_minor": 0
      },
      "text/plain": [
       "HBox(children=(HTML(value=''), FloatProgress(value=0.0, max=1250.0), HTML(value='')))"
      ]
     },
     "metadata": {},
     "output_type": "display_data"
    },
    {
     "name": "stdout",
     "output_type": "stream",
     "text": [
      "\n"
     ]
    },
    {
     "data": {
      "application/vnd.jupyter.widget-view+json": {
       "model_id": "843cf289802a471fa5c5c15a6cbceb14",
       "version_major": 2,
       "version_minor": 0
      },
      "text/plain": [
       "HBox(children=(HTML(value=''), FloatProgress(value=0.0, max=1250.0), HTML(value='')))"
      ]
     },
     "metadata": {},
     "output_type": "display_data"
    },
    {
     "name": "stdout",
     "output_type": "stream",
     "text": [
      "\n"
     ]
    },
    {
     "data": {
      "application/vnd.jupyter.widget-view+json": {
       "model_id": "e457322c3a3b43b781b989e90a4c644a",
       "version_major": 2,
       "version_minor": 0
      },
      "text/plain": [
       "HBox(children=(HTML(value=''), FloatProgress(value=0.0, max=1250.0), HTML(value='')))"
      ]
     },
     "metadata": {},
     "output_type": "display_data"
    },
    {
     "name": "stdout",
     "output_type": "stream",
     "text": [
      "\n",
      "\n",
      "6 False\n"
     ]
    }
   ],
   "source": [
    "for i in range(1,7):\n",
    "    with open(f'2sat{i}.txt') as file:\n",
    "        lines = file.read().splitlines()\n",
    "    clauses = []\n",
    "    for line in lines[1:]:\n",
    "        a, b = tuple(line.split(' '))\n",
    "        clauses.append( Clause(first=int(a), second=int(b)) )\n",
    "\n",
    "    print('Number of clauses before:', len(clauses))\n",
    "    clauses = reduce_clause( set((x.first, x.second) for x in clauses) )\n",
    "    clauses = [Clause(x[0], x[1]) for x in clauses]\n",
    "    print('Number of clauses after:', len(clauses))\n",
    "    formula = Formula(clauses)\n",
    "    bool_res = Papadimitrion_2SAT(formula)\n",
    "    print(i, bool_res)"
   ]
  },
  {
   "cell_type": "markdown",
   "metadata": {},
   "source": [
    "small cases"
   ]
  },
  {
   "cell_type": "code",
   "execution_count": 11,
   "metadata": {},
   "outputs": [],
   "source": [
    "# for file_name in ['test1_false.txt', 'test2_true.txt']:\n",
    "#     with open(file_name) as file:\n",
    "#         lines = file.read().splitlines()\n",
    "#     n_vars = int(lines[0])\n",
    "#     clauses = []\n",
    "#     for line in lines[1:]:\n",
    "#         a, b = tuple(line.split(' '))\n",
    "#         clauses.append( Clause(first=int(a), second=int(b)) )\n",
    "\n",
    "#     formula = Formula(n_vars=n_vars, clauses=clauses, D={})\n",
    "#     bool_res = Paradimitrion_2SAT(formula, int(np.log2(formula.n_vars)))\n",
    "#     print(file_name, bool_res)"
   ]
  }
 ],
 "metadata": {
  "kernelspec": {
   "display_name": "venv3.9",
   "language": "python",
   "name": "venv3.9"
  },
  "language_info": {
   "codemirror_mode": {
    "name": "ipython",
    "version": 3
   },
   "file_extension": ".py",
   "mimetype": "text/x-python",
   "name": "python",
   "nbconvert_exporter": "python",
   "pygments_lexer": "ipython3",
   "version": "3.9.0"
  }
 },
 "nbformat": 4,
 "nbformat_minor": 4
}
