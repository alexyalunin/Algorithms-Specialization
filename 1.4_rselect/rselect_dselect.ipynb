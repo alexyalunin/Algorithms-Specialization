{
 "cells": [
  {
   "cell_type": "markdown",
   "metadata": {},
   "source": [
    "test on https://leetcode.com/problems/kth-largest-element-in-an-array/submissions/"
   ]
  },
  {
   "cell_type": "code",
   "execution_count": 1,
   "metadata": {},
   "outputs": [],
   "source": [
    "def findMedian(A):\n",
    "    A.sort()\n",
    "    m = len(A) // 2\n",
    "    return A[m]\n",
    "\n",
    "\n",
    "def median_of_medians(A):\n",
    "    if len(A) == 1:\n",
    "        return A[0]\n",
    "    ms = []\n",
    "    for i in range(0, len(A), 5):\n",
    "        m = findMedian(A[i:i + 5])\n",
    "        ms.append(m)\n",
    "    return median_of_medians(ms)\n",
    "\n",
    "\n",
    "def find_median_of_medians_index(A, l, r):\n",
    "    p = median_of_medians(A[l:r])\n",
    "    for i in range(l, r):\n",
    "        if A[i] == p:\n",
    "            A[l], A[i] = A[i], A[l]\n",
    "            break\n",
    "    return A[l]\n",
    "            \n",
    "\n",
    "def partition(A, l, r):\n",
    "    # p = find_median_of_medians_index(A, l, r) # DSelect\n",
    "    p = A[l]\n",
    "    i = l + 1 # keeps bigger\n",
    "    for j in range(i, r):\n",
    "        if A[j] < p:\n",
    "            A[i], A[j] = A[j], A[i]\n",
    "            i += 1\n",
    "    A[i-1], A[l] = A[l], A[i-1]\n",
    "    return i-1\n",
    "\n",
    "\n",
    "def findK(A, l, r, k):\n",
    "    if r - l < 1:\n",
    "        return A[l]\n",
    "    p_i = partition(A, l, r)\n",
    "    if p_i == k:\n",
    "        return A[p_i]\n",
    "    elif p_i < k:  # e.g. 3 < 4 -> search in right\n",
    "        return findK(A, p_i+1, r, k)\n",
    "    elif p_i > k:  # e.g. 4 > 3 -> search in left\n",
    "        return findK(A, l, p_i, k)"
   ]
  },
  {
   "cell_type": "code",
   "execution_count": 2,
   "metadata": {},
   "outputs": [
    {
     "data": {
      "text/plain": [
       "1"
      ]
     },
     "execution_count": 2,
     "metadata": {},
     "output_type": "execute_result"
    }
   ],
   "source": [
    "class Solution:\n",
    "    def findKthLargest(self, nums, k: int) -> int:\n",
    "        i = findK(nums, 0, len(nums), k - 1)\n",
    "        return i\n",
    "\n",
    "Solution().findKthLargest([3,2,1,5,6,4,10,-1], k = 2)"
   ]
  },
  {
   "cell_type": "code",
   "execution_count": null,
   "metadata": {},
   "outputs": [],
   "source": []
  }
 ],
 "metadata": {
  "kernelspec": {
   "display_name": "venv3.9",
   "language": "python",
   "name": "venv3.9"
  },
  "language_info": {
   "codemirror_mode": {
    "name": "ipython",
    "version": 3
   },
   "file_extension": ".py",
   "mimetype": "text/x-python",
   "name": "python",
   "nbconvert_exporter": "python",
   "pygments_lexer": "ipython3",
   "version": "3.9.0"
  }
 },
 "nbformat": 4,
 "nbformat_minor": 4
}
