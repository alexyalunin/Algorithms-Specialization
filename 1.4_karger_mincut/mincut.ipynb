{
 "cells": [
  {
   "cell_type": "code",
   "execution_count": 14,
   "metadata": {},
   "outputs": [],
   "source": [
    "import matplotlib.pyplot as plt"
   ]
  },
  {
   "cell_type": "code",
   "execution_count": 10,
   "metadata": {},
   "outputs": [],
   "source": [
    "a = None\n",
    "with open('kargerMinCut.txt', 'r') as file:\n",
    "    a = file.read().splitlines()\n",
    "    a = [list(map(int, x.split('\\t')[:-1])) for x in a]"
   ]
  },
  {
   "cell_type": "code",
   "execution_count": 12,
   "metadata": {},
   "outputs": [
    {
     "data": {
      "text/plain": [
       "200"
      ]
     },
     "execution_count": 12,
     "metadata": {},
     "output_type": "execute_result"
    }
   ],
   "source": [
    "len(a)"
   ]
  },
  {
   "cell_type": "code",
   "execution_count": 16,
   "metadata": {},
   "outputs": [
    {
     "data": {
      "image/png": "[encoded data removed]",
      "text/plain": [
       "<Figure size 432x288 with 1 Axes>"
      ]
     },
     "metadata": {
      "needs_background": "light"
     },
     "output_type": "display_data"
    }
   ],
   "source": [
    "_ = plt.hist([len(x) for x in a])"
   ]
  },
  {
   "cell_type": "code",
   "execution_count": 19,
   "metadata": {},
   "outputs": [],
   "source": [
    "# a"
   ]
  },
  {
   "cell_type": "code",
   "execution_count": 20,
   "metadata": {},
   "outputs": [],
   "source": [
    "G = {x[0]: x[1:] for x in a}"
   ]
  },
  {
   "cell_type": "code",
   "execution_count": 22,
   "metadata": {},
   "outputs": [],
   "source": [
    "# G"
   ]
  },
  {
   "cell_type": "code",
   "execution_count": null,
   "metadata": {},
   "outputs": [],
   "source": []
  },
  {
   "cell_type": "code",
   "execution_count": 25,
   "metadata": {},
   "outputs": [
    {
     "name": "stdout",
     "output_type": "stream",
     "text": [
      "2517\n"
     ]
    }
   ],
   "source": [
    "import numpy as np\n",
    "import copy\n",
    "import tqdm\n",
    "\n",
    "\n",
    "FILE = \"kargerMinCut.txt\"\n",
    "SEP = \"\\t\"\n",
    "\n",
    "# FILE = \"input_random_14_50.txt\"\n",
    "# SEP = \" \"\n",
    "\n",
    "def get_edge_id(l,m):\n",
    "    l = int(l)\n",
    "    m = int(m)\n",
    "    a,b = (l,m) if l<m else (m,l)\n",
    "\n",
    "    return str(a)+\"-\"+str(b)\n",
    "\n",
    "def get_edge_id_create_if_absent(edge_index, l,m):\n",
    "    edge_id = get_edge_id(l,m)\n",
    "    \n",
    "    if edge_index not in index:\n",
    "        l = len(index)\n",
    "        index[edge_index] = l\n",
    "        ret = l\n",
    "    else:\n",
    "        ret = index[edge_index]\n",
    "        \n",
    "    return ret\n",
    "\n",
    "fp = open(FILE, \"r+\")\n",
    "\n",
    "\n",
    "# Data Structures\n",
    "min_cut_data = dict()  # Adjacancy List as a dictionary\n",
    "min_cut_edges = []   # List of Edges\n",
    "min_cut_edges_to_idx = {}  # Edge Id to List index\n",
    "min_cut_idx_to_edge = {}  # Edge Id to List index\n",
    "\n",
    "for line in (fp.readlines()):\n",
    "    row = line.strip().split(SEP)\n",
    "    min_cut_data[row[0]] = row[1:]\n",
    "\n",
    "N = len(min_cut_data) # Number of Vertices\n",
    "\n",
    "# Create edge list\n",
    "\n",
    "for key, dt in min_cut_data.items():\n",
    "    all_keys = min_cut_edges_to_idx.keys()\n",
    "    for d in dt:\n",
    "        edge_id = get_edge_id(key,d)\n",
    "        if edge_id not in min_cut_edges_to_idx:\n",
    "            l = len(min_cut_edges_to_idx)\n",
    "            min_cut_edges_to_idx[edge_id] = l\n",
    "            min_cut_edges.append(1)\n",
    "            min_cut_idx_to_edge[l] = edge_id\n",
    "\n",
    "\n",
    "print (np.sum(min_cut_edges))"
   ]
  },
  {
   "cell_type": "code",
   "execution_count": null,
   "metadata": {},
   "outputs": [],
   "source": []
  }
 ],
 "metadata": {
  "kernelspec": {
   "display_name": "venv3.9",
   "language": "python",
   "name": "venv3.9"
  },
  "language_info": {
   "codemirror_mode": {
    "name": "ipython",
    "version": 3
   },
   "file_extension": ".py",
   "mimetype": "text/x-python",
   "name": "python",
   "nbconvert_exporter": "python",
   "pygments_lexer": "ipython3",
   "version": "3.9.0"
  }
 },
 "nbformat": 4,
 "nbformat_minor": 4
}
