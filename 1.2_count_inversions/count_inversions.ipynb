{
 "cells": [
  {
   "cell_type": "code",
   "execution_count": 43,
   "metadata": {},
   "outputs": [],
   "source": [
    "import time "
   ]
  },
  {
   "cell_type": "code",
   "execution_count": 2,
   "metadata": {},
   "outputs": [],
   "source": [
    "FILE_NAME=\"IntegerArray.txt\""
   ]
  },
  {
   "cell_type": "code",
   "execution_count": 1,
   "metadata": {},
   "outputs": [
    {
     "name": "stderr",
     "output_type": "stream",
     "text": [
      "--2021-04-11 16:56:37--  https://d3c33hcgiwev3.cloudfront.net/_bcb5c6658381416d19b01bfc1d3993b5_IntegerArray.txt?Expires=1618272000&Signature=STGsCxPeCdXws1JL0cqt7~ofYFQQ7IdJ40N3n0F7C3q1O9LbvrPWytEdVdmRhLDk9xb3xICYopwB-YdavyQCKqPfhu~3OBP9mmON12JRF3DW84nyhA7egWT8kzCSXBAADrTl3pum6h3UxkfWBwXEsO1HVlbBRCnR6OK4Ft~TNt0_&Key-Pair-Id=APKAJLTNE6QMUY6HBC5A\n",
      "Resolving d3c33hcgiwev3.cloudfront.net (d3c33hcgiwev3.cloudfront.net)... 52.85.114.45, 52.85.114.22, 52.85.114.40, ...\n",
      "Connecting to d3c33hcgiwev3.cloudfront.net (d3c33hcgiwev3.cloudfront.net)|52.85.114.45|:443... connected.\n",
      "HTTP request sent, awaiting response... 200 OK\n",
      "Length: 688895 (673K) [text/plain]\n",
      "Saving to: ‘IntegerArray.txt’\n",
      "\n",
      "     0K .......... .......... .......... .......... ..........  7%  420K 1s\n",
      "    50K .......... .......... .......... .......... .......... 14%  569K 1s\n",
      "   100K .......... .......... .......... .......... .......... 22% 3,78M 1s\n",
      "   150K .......... .......... .......... .......... .......... 29% 1,77M 1s\n",
      "   200K .......... .......... .......... .......... .......... 37%  853K 1s\n",
      "   250K .......... .......... .......... .......... .......... 44% 4,80M 0s\n",
      "   300K .......... .......... .......... .......... .......... 52% 13,7M 0s\n",
      "   350K .......... .......... .......... .......... .......... 59% 2,48M 0s\n",
      "   400K .......... .......... .......... .......... .......... 66%  939K 0s\n",
      "   450K .......... .......... .......... .......... .......... 74% 13,0M 0s\n",
      "   500K .......... .......... .......... .......... .......... 81% 2,61M 0s\n",
      "   550K .......... .......... .......... .......... .......... 89% 8,38M 0s\n",
      "   600K .......... .......... .......... .......... .......... 96% 17,3M 0s\n",
      "   650K .......... .......... ..                              100% 13,2M=0,4s\n",
      "\n",
      "2021-04-11 16:56:41 (1,54 MB/s) - ‘IntegerArray.txt’ saved [688895/688895]\n",
      "\n"
     ]
    }
   ],
   "source": [
    "%%bash\n",
    "FILE_NAME=\"IntegerArray.txt\"\n",
    "LINK=\"https://d3c33hcgiwev3.cloudfront.net/_bcb5c6658381416d19b01bfc1d3993b5_IntegerArray.txt?Expires=1618272000&Signature=STGsCxPeCdXws1JL0cqt7~ofYFQQ7IdJ40N3n0F7C3q1O9LbvrPWytEdVdmRhLDk9xb3xICYopwB-YdavyQCKqPfhu~3OBP9mmON12JRF3DW84nyhA7egWT8kzCSXBAADrTl3pum6h3UxkfWBwXEsO1HVlbBRCnR6OK4Ft~TNt0_&Key-Pair-Id=APKAJLTNE6QMUY6HBC5A\"\n",
    "\n",
    "wget -O $FILE_NAME $LINK "
   ]
  },
  {
   "cell_type": "code",
   "execution_count": 37,
   "metadata": {},
   "outputs": [],
   "source": [
    "with open(FILE_NAME, mode='r') as file:\n",
    "    l = file.read().split('\\n')"
   ]
  },
  {
   "cell_type": "code",
   "execution_count": 38,
   "metadata": {},
   "outputs": [],
   "source": [
    "data = list(map(int, l[:-1]))"
   ]
  },
  {
   "cell_type": "markdown",
   "metadata": {},
   "source": [
    "test on https://www.hackerrank.com/challenges/ctci-merge-sort/problem"
   ]
  },
  {
   "cell_type": "code",
   "execution_count": 32,
   "metadata": {},
   "outputs": [],
   "source": [
    "def count_inv(A, l, r):\n",
    "    if r - l <= 1: return 0\n",
    "    m = int((l+r) / 2)\n",
    "    cl = count_inv(A, l, m)\n",
    "    cr = count_inv(A, m, r)\n",
    "    c = merge_count(A, l, m, r)\n",
    "    return cl + cr + c\n",
    "         \n",
    "def merge_count(A, l, m, r):\n",
    "    c = 0\n",
    "    res = []\n",
    "    i1, i2 = l, m\n",
    "    while i1 != m and i2 != r: \n",
    "        if A[i1] <= A[i2]:\n",
    "            res.append(A[i1])\n",
    "            i1 += 1\n",
    "        else:\n",
    "            c += m - i1\n",
    "            res.append(A[i2])\n",
    "            i2 += 1\n",
    "    res.extend(A[i1:m])\n",
    "    res.extend(A[i2:r])\n",
    "    A[l:r] = res\n",
    "    return c"
   ]
  },
  {
   "cell_type": "code",
   "execution_count": 44,
   "metadata": {},
   "outputs": [
    {
     "name": "stdout",
     "output_type": "stream",
     "text": [
      "2407905288\n",
      "CPU times: user 561 ms, sys: 6.18 ms, total: 567 ms\n",
      "Wall time: 568 ms\n"
     ]
    }
   ],
   "source": [
    "%%time \n",
    "A = data\n",
    "n_inv = count_inv(A, 0, len(A))\n",
    "print(n_inv)"
   ]
  },
  {
   "cell_type": "code",
   "execution_count": null,
   "metadata": {},
   "outputs": [],
   "source": []
  }
 ],
 "metadata": {
  "kernelspec": {
   "display_name": "venv3.9",
   "language": "python",
   "name": "venv3.9"
  },
  "language_info": {
   "codemirror_mode": {
    "name": "ipython",
    "version": 3
   },
   "file_extension": ".py",
   "mimetype": "text/x-python",
   "name": "python",
   "nbconvert_exporter": "python",
   "pygments_lexer": "ipython3",
   "version": "3.9.0"
  }
 },
 "nbformat": 4,
 "nbformat_minor": 4
}
