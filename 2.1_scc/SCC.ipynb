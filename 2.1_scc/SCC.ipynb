{
 "cells": [
  {
   "cell_type": "code",
   "execution_count": 3,
   "metadata": {},
   "outputs": [],
   "source": [
    "from tqdm import tqdm\n",
    "from collections import Counter"
   ]
  },
  {
   "cell_type": "markdown",
   "metadata": {},
   "source": [
    "problem with memory limit (this is a bad notebook, because of bad data)"
   ]
  },
  {
   "cell_type": "code",
   "execution_count": 8,
   "metadata": {},
   "outputs": [],
   "source": [
    "t = 0 \n",
    "s = None\n",
    "\n",
    "def main():\n",
    "    with open('SCC.txt') as file:\n",
    "        a = file.read().splitlines()\n",
    "        a = list(map(lambda x: x.strip().split(\" \"), a))\n",
    "        \n",
    "    D = {}\n",
    "    D_r = {}\n",
    "    for x in a:\n",
    "        v0, v1 = int(x[0]), int(x[1])\n",
    "        if v0 not in D:\n",
    "            D[v0] = [v1]\n",
    "        else:\n",
    "            D[v0].append(v1)\n",
    "\n",
    "        if v1 not in D_r:\n",
    "            D_r[v1] = [v0]\n",
    "        else:\n",
    "            D_r[v1].append(v0)\n",
    "            \n",
    "    for i in range(1, 875714+1):\n",
    "        if i not in D:\n",
    "            D[i] = []\n",
    "        if i not in D_r:\n",
    "            D_r[i] = []\n",
    "        \n",
    "    n = 875714\n",
    "    m = len(a)\n",
    "    \n",
    "    \n",
    "    t = 0 \n",
    "    s = None\n",
    "    \n",
    "    D_explored = set()\n",
    "    Leader = dict()\n",
    "    Finish_time = dict()\n",
    "\n",
    "\n",
    "    def DFS(D, i):\n",
    "        global t, s\n",
    "        D_explored.add(i)\n",
    "        Leader[i] = s\n",
    "        for j in D_r[i]:\n",
    "            if j not in D_explored:\n",
    "                DFS(D, j)\n",
    "        t += 1\n",
    "        Finish_time[i] = t\n",
    "\n",
    "\n",
    "    for i in tqdm(range(n,0, -1)):\n",
    "        if i not in D_explored:\n",
    "            s = i\n",
    "            DFS(D, i)\n"
   ]
  },
  {
   "cell_type": "code",
   "execution_count": null,
   "metadata": {},
   "outputs": [],
   "source": [
    "import sys\n",
    "sys.setrecursionlimit(300000)\n",
    "source='SCC.txt'\n",
    "N=875714\n",
    "def getG():\n",
    "    G={}\n",
    "    Grev={}\n",
    "    for i in range(1,N+1):\n",
    "        G[i]=[]\n",
    "        Grev[i]=[]\n",
    "    fin=open(source)\n",
    "    for line in fin:\n",
    "        v1=int(line.split()[0])\n",
    "        v2=int(line.split()[1])\n",
    "        G[v1].append(v2)\n",
    "        Grev[v2].append(v1)\n",
    "    fin.close()\n",
    "    return G, Grev\n",
    "\n",
    "#globals\n",
    "visited={}\n",
    "finish={}\n",
    "leader={}\n",
    "\n",
    "def init():\n",
    "    for i in range(1,N+1):\n",
    "        visited[i]=0\n",
    "        finish[i]=0\n",
    "        leader[i]=0\n",
    "\n",
    "def dfs(G, i):\n",
    "    global t\n",
    "    visited[i]=1\n",
    "    leader[i]=s\n",
    "    for j in G[i]:\n",
    "        if(visited[j]==0): dfs(G,j)\n",
    "    t=t+1\n",
    "    finish[i]=t\n",
    "\n",
    "def dfs_loop(G):\n",
    "    global t\n",
    "    global s\n",
    "    t=0 #number of nodes processed so far\n",
    "    s=0 #current source vertex\n",
    "    i=N\n",
    "    while(i>0):\n",
    "        if(visited[i]==0):\n",
    "            s=i\n",
    "            dfs(G,i)\n",
    "        i=i-1\n",
    "\n",
    "if __name__ == \"__main__\":\n",
    "    init()\n",
    "    g, grev=getG()\n",
    "    dfs_loop(grev) #THE FIRST LOOP ON REVERSE GRAPH\n",
    "\n",
    "    # construct new graph\n",
    "    newGraph={}\n",
    "    for i in range(1,N+1):\n",
    "        temp=[]\n",
    "        for x in g[i]: temp.append(finish[x])\n",
    "        newGraph[finish[i]]=temp\n",
    "\n",
    "    init()    \n",
    "    dfs_loop(newGraph) #THE SECOND LOOP \n",
    "\n",
    "    # statistics\n",
    "    lst= sorted(leader.values())\n",
    "    stat=[]\n",
    "    pre=0\n",
    "    for i in range(0,N-1):\n",
    "        if lst[i]!=lst[i+1]:\n",
    "            stat.append(i+1-pre)\n",
    "            pre=i+1\n",
    "    stat.append(N-pre)\n",
    "    L= sorted(stat)\n",
    "    L.reverse()\n",
    "    print(L[0:5])"
   ]
  },
  {
   "cell_type": "code",
   "execution_count": 9,
   "metadata": {},
   "outputs": [],
   "source": [
    "import sys, threading\n",
    "sys.setrecursionlimit(4000000)\n",
    "threading.stack_size(67108864)\n",
    "thread = threading.Thread(target=main)\n",
    "thread.start()"
   ]
  },
  {
   "cell_type": "code",
   "execution_count": null,
   "metadata": {},
   "outputs": [
    {
     "name": "stderr",
     "output_type": "stream",
     "text": [
      "  0%|          | 0/875714 [00:00<?, ?it/s]\n",
      "  0%|          | 0/875714 [00:00<?, ?it/s]\u001b[A"
     ]
    }
   ],
   "source": [
    "main()"
   ]
  },
  {
   "cell_type": "code",
   "execution_count": 5,
   "metadata": {},
   "outputs": [],
   "source": []
  },
  {
   "cell_type": "code",
   "execution_count": 6,
   "metadata": {},
   "outputs": [
    {
     "data": {
      "text/plain": [
       "(875714, 5105043)"
      ]
     },
     "execution_count": 6,
     "metadata": {},
     "output_type": "execute_result"
    }
   ],
   "source": [
    "n = 875714\n",
    "m = len(a)\n",
    "n, m"
   ]
  },
  {
   "cell_type": "code",
   "execution_count": null,
   "metadata": {},
   "outputs": [
    {
     "name": "stderr",
     "output_type": "stream",
     "text": [
      "  0%|          | 0/875714 [00:00<?, ?it/s]"
     ]
    }
   ],
   "source": []
  },
  {
   "cell_type": "code",
   "execution_count": null,
   "metadata": {},
   "outputs": [],
   "source": [
    "C = Counter(Leader.values())"
   ]
  },
  {
   "cell_type": "code",
   "execution_count": null,
   "metadata": {},
   "outputs": [],
   "source": [
    "C.most_common(5)"
   ]
  },
  {
   "cell_type": "code",
   "execution_count": 2,
   "metadata": {},
   "outputs": [],
   "source": [
    "import time"
   ]
  },
  {
   "cell_type": "code",
   "execution_count": null,
   "metadata": {},
   "outputs": [],
   "source": [
    "%%time\n",
    "\n",
    "import collections\n",
    "import sys\n",
    "import random\n",
    " \n",
    "def return_emptylist():\n",
    "  return []\n",
    " \n",
    "def return_false():\n",
    "  return False\n",
    " \n",
    "def ParseGraph(filename):\n",
    "    #algo4SCC.txt\n",
    "  \"\"\"Parse a graph into a list of edges for programming Q.4\n",
    " \n",
    "Args:\n",
    "- filename: the on-disk graph representation\n",
    "Returns:\n",
    "- edges = [(vertex_1, vertex_2), ...]\n",
    "\"\"\"\n",
    "  edges = []\n",
    "  for l in open(filename):\n",
    "    fields = [int(f) for f in l.split()]\n",
    "    edges.append(tuple(fields))\n",
    " \n",
    "  adjacency = collections.defaultdict(return_emptylist)\n",
    "  reverse_adjacency = collections.defaultdict(return_emptylist)\n",
    "  for e in edges:\n",
    "    adjacency[e[0]] = adjacency[e[0]] + [e]\n",
    "    reverse_adjacency[e[1]] = reverse_adjacency[e[1]] + [(e[1], e[0])]\n",
    " \n",
    "  return adjacency, reverse_adjacency, edges\n",
    " \n",
    "t = 0\n",
    "s = 0\n",
    "finishing = {}\n",
    "leader = {}\n",
    "explored = collections.defaultdict(return_false)\n",
    "def ResetState():\n",
    "  global t, s, finishing, leader, explored\n",
    "  t = 0\n",
    "  s = 0\n",
    "  finishing = {}\n",
    "  leader = {}\n",
    "  explored = collections.defaultdict(return_false)\n",
    " \n",
    "def DFSLoop(edges, labeling, reversed = False):\n",
    "  global s\n",
    "  for i in labeling:\n",
    "    if not explored[i]:\n",
    "      s = i\n",
    "      DFS(edges, i, reversed)\n",
    " \n",
    "forward_adjacency = {}\n",
    "reverse_adjacency = {}\n",
    "def DFS(edges, start, reversed = False):\n",
    "  global t\n",
    "  if reversed:\n",
    "    adjacency = reverse_adjacency\n",
    "  else:\n",
    "    adjacency = forward_adjacency\n",
    " \n",
    "  # Iterative (i.e. manually managing a stack) solution.\n",
    "  stack = []\n",
    "  stack.append((start, 1))\n",
    " \n",
    "  while len(stack) > 0:\n",
    "    current, phase = stack.pop()\n",
    "    if phase == 1:\n",
    "      explored[current] = True\n",
    "      leader[current] = s\n",
    "      edge_found = False\n",
    "      for edge in adjacency[current]:\n",
    "        if not explored[edge[1]]:\n",
    "          stack.append((current, 1))\n",
    "          stack.append((edge[1], 1))\n",
    "          edge_found = True\n",
    "          break\n",
    "      if not edge_found:\n",
    "        stack.append((current, 2))\n",
    "    if phase == 2:\n",
    "      t += 1\n",
    "      finishing[current] = t\n",
    " \n",
    "forward_adjacency, reverse_adjacency, edges = ParseGraph(\"SCC.txt\")\n",
    " \n",
    "sys.stderr.write('Graph parsed\\n')\n",
    " \n",
    "num_nodes = max([e[0] for e in edges] + [e[1] for e in edges])\n",
    "labeling = range(num_nodes, 0, -1)\n",
    "DFSLoop(edges, labeling, True)\n",
    " \n",
    "sys.stderr.write('Reverse DFSLoop done\\n')\n",
    " \n",
    "inverse_finishing = dict((v, k) for k, v in finishing.items())\n",
    "finish_labeling = [inverse_finishing[i] for i in range(num_nodes, 0, -1)]\n",
    " \n",
    "ResetState()\n",
    "DFSLoop(edges, finish_labeling)\n",
    " \n",
    "sys.stderr.write('Forward DFSLoop done\\n')\n",
    " \n",
    "sccs = {}\n",
    "for i in leader:\n",
    "  if leader[i] not in sccs:\n",
    "    sccs[leader[i]] = [i]\n",
    "  else:\n",
    "    sccs[leader[i]].append(i)\n",
    " \n"
   ]
  },
  {
   "cell_type": "code",
   "execution_count": 7,
   "metadata": {},
   "outputs": [
    {
     "data": {
      "text/plain": [
       "371762"
      ]
     },
     "execution_count": 7,
     "metadata": {},
     "output_type": "execute_result"
    }
   ],
   "source": [
    "from collection import Counter "
   ]
  },
  {
   "cell_type": "code",
   "execution_count": 8,
   "metadata": {},
   "outputs": [
    {
     "data": {
      "text/plain": [
       "[4]"
      ]
     },
     "execution_count": 8,
     "metadata": {},
     "output_type": "execute_result"
    }
   ],
   "source": [
    "sccs[4]"
   ]
  },
  {
   "cell_type": "code",
   "execution_count": null,
   "metadata": {},
   "outputs": [],
   "source": []
  },
  {
   "cell_type": "code",
   "execution_count": null,
   "metadata": {},
   "outputs": [],
   "source": []
  },
  {
   "cell_type": "code",
   "execution_count": null,
   "metadata": {},
   "outputs": [],
   "source": []
  },
  {
   "cell_type": "code",
   "execution_count": null,
   "metadata": {},
   "outputs": [],
   "source": []
  }
 ],
 "metadata": {
  "kernelspec": {
   "display_name": "venv3.9",
   "language": "python",
   "name": "venv3.9"
  },
  "language_info": {
   "codemirror_mode": {
    "name": "ipython",
    "version": 3
   },
   "file_extension": ".py",
   "mimetype": "text/x-python",
   "name": "python",
   "nbconvert_exporter": "python",
   "pygments_lexer": "ipython3",
   "version": "3.9.0"
  }
 },
 "nbformat": 4,
 "nbformat_minor": 4
}
