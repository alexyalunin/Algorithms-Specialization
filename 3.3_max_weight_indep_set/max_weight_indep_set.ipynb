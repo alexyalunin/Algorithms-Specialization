{
 "cells": [
  {
   "cell_type": "code",
   "execution_count": 1,
   "metadata": {},
   "outputs": [],
   "source": [
    "from tqdm import tqdm\n",
    "from collections import Counter\n",
    "import random\n",
    "from copy import copy\n",
    "import numpy as np\n",
    "from dataclasses import dataclass, field"
   ]
  },
  {
   "cell_type": "code",
   "execution_count": 2,
   "metadata": {},
   "outputs": [],
   "source": [
    "FILE_NAME=\"mwis.txt\""
   ]
  },
  {
   "cell_type": "code",
   "execution_count": 3,
   "metadata": {},
   "outputs": [
    {
     "name": "stderr",
     "output_type": "stream",
     "text": [
      "--2021-04-15 18:13:26--  https://d3c33hcgiwev3.cloudfront.net/_790eb8b186eefb5b63d0bf38b5096873_mwis.txt?Expires=1618617600&Signature=dQBqWwrBNUk4Hq1BZPRfZ7EjV8zeRzSBq-~H7Ix6YP1BQjC8ySIIWrze7qusWLorD7bupheiZ8O5o3QMgbRI6yRcD8fsinx1dQstnOa2HqVfOXZKumZb75YkRlLH266YYinZIvh6ywHd7ziYOJn-u40sDiGJ8HXLS~Zs9KSWhvY_&Key-Pair-Id=APKAJLTNE6QMUY6HBC5A\n",
      "Resolving d3c33hcgiwev3.cloudfront.net (d3c33hcgiwev3.cloudfront.net)... 52.85.114.45, 52.85.114.22, 52.85.114.74, ...\n",
      "Connecting to d3c33hcgiwev3.cloudfront.net (d3c33hcgiwev3.cloudfront.net)|52.85.114.45|:443... connected.\n",
      "HTTP request sent, awaiting response... 200 OK\n",
      "Length: 7891 (7,7K) [text/plain]\n",
      "Saving to: ‘mwis.txt’\n",
      "\n",
      "     0K .......                                               100%  836M=0s\n",
      "\n",
      "2021-04-15 18:13:27 (836 MB/s) - ‘mwis.txt’ saved [7891/7891]\n",
      "\n"
     ]
    }
   ],
   "source": [
    "%%bash\n",
    "FILE_NAME=\"mwis.txt\"\n",
    "LINK=\"https://d3c33hcgiwev3.cloudfront.net/_790eb8b186eefb5b63d0bf38b5096873_mwis.txt?Expires=1618617600&Signature=dQBqWwrBNUk4Hq1BZPRfZ7EjV8zeRzSBq-~H7Ix6YP1BQjC8ySIIWrze7qusWLorD7bupheiZ8O5o3QMgbRI6yRcD8fsinx1dQstnOa2HqVfOXZKumZb75YkRlLH266YYinZIvh6ywHd7ziYOJn-u40sDiGJ8HXLS~Zs9KSWhvY_&Key-Pair-Id=APKAJLTNE6QMUY6HBC5A\"\n",
    "\n",
    "wget -O $FILE_NAME $LINK "
   ]
  },
  {
   "cell_type": "code",
   "execution_count": 4,
   "metadata": {},
   "outputs": [
    {
     "name": "stdout",
     "output_type": "stream",
     "text": [
      "total 24\n",
      "-rw-r--r--  1 Alexander  staff   7.7K Dec  2  2016 mwis.txt\n",
      "-rw-r--r--  1 Alexander  staff   3.9K Apr 15 18:13 template-Copy1.ipynb\n"
     ]
    }
   ],
   "source": [
    "! ls -lh"
   ]
  },
  {
   "cell_type": "code",
   "execution_count": 5,
   "metadata": {},
   "outputs": [],
   "source": [
    "with open(FILE_NAME) as file:\n",
    "    a = file.read().splitlines()"
   ]
  },
  {
   "cell_type": "code",
   "execution_count": 8,
   "metadata": {},
   "outputs": [
    {
     "data": {
      "text/plain": [
       "(1000,\n",
       " [4962786,\n",
       "  6395702,\n",
       "  5601590,\n",
       "  3803402,\n",
       "  6784626,\n",
       "  4944482,\n",
       "  2882725,\n",
       "  9310662,\n",
       "  5247184,\n",
       "  9819854])"
      ]
     },
     "execution_count": 8,
     "metadata": {},
     "output_type": "execute_result"
    }
   ],
   "source": [
    "num_vs = int(a[0])\n",
    "weights = [int(x) for x in a[1:]]\n",
    "num_vs, weights[:10]"
   ]
  },
  {
   "cell_type": "code",
   "execution_count": 15,
   "metadata": {},
   "outputs": [],
   "source": [
    "def max_weight_indep_set(W):\n",
    "    # нумерация вершин с единицы\n",
    "    W = [0] + W\n",
    "    n = len(W)\n",
    "    \n",
    "    A = [None] * n \n",
    "    A[0], A[1] = W[0], W[1]\n",
    "    for i in range(2, n):\n",
    "        A[i] = max( A[i-1], A[i-2] + W[i] )\n",
    "    S = []\n",
    "    i = n - 1\n",
    "    while i >= 1: \n",
    "        if A[i-2] + W[i] > A[i-1]: \n",
    "            S.append(i)\n",
    "            i -= 2\n",
    "        else:\n",
    "            i -= 1\n",
    "    return S"
   ]
  },
  {
   "cell_type": "code",
   "execution_count": 18,
   "metadata": {},
   "outputs": [],
   "source": [
    "wis = max_weight_indep_set(weights)\n",
    "wis = set(wis)\n",
    "# wis"
   ]
  },
  {
   "cell_type": "code",
   "execution_count": 23,
   "metadata": {},
   "outputs": [
    {
     "data": {
      "text/plain": [
       "'10100110'"
      ]
     },
     "execution_count": 23,
     "metadata": {},
     "output_type": "execute_result"
    }
   ],
   "source": [
    "''.join([ '1' if x in wis else '0' for x in [1,2,3,4,17,117,517,997] ])"
   ]
  },
  {
   "cell_type": "code",
   "execution_count": null,
   "metadata": {},
   "outputs": [],
   "source": []
  }
 ],
 "metadata": {
  "kernelspec": {
   "display_name": "venv3.9",
   "language": "python",
   "name": "venv3.9"
  },
  "language_info": {
   "codemirror_mode": {
    "name": "ipython",
    "version": 3
   },
   "file_extension": ".py",
   "mimetype": "text/x-python",
   "name": "python",
   "nbconvert_exporter": "python",
   "pygments_lexer": "ipython3",
   "version": "3.9.0"
  }
 },
 "nbformat": 4,
 "nbformat_minor": 4
}
