{
 "cells": [
  {
   "cell_type": "code",
   "execution_count": 1,
   "metadata": {},
   "outputs": [
    {
     "name": "stdout",
     "output_type": "stream",
     "text": [
      "5363186826023524\n",
      "5363186826023524\n",
      "8539734222673567065463550869546574495034888535765114961879601127067743044893204848617875072216249073013374895871952806582723184\n"
     ]
    }
   ],
   "source": [
    "import math\n",
    "\n",
    "def karatsuba_mult(num1, num2):\n",
    "    def base10_size(num):\n",
    "        if num == 0: return 1\n",
    "        n_digits = 0\n",
    "        residual = num\n",
    "        while residual != 0:\n",
    "            residual = residual // 10\n",
    "            n_digits += 1\n",
    "        return n_digits\n",
    "    n_d = min(base10_size(num1), base10_size(num2))\n",
    "    if n_d <= 1: return num1 * num2\n",
    "    # mid = n_d // 2\n",
    "    mid = math.floor(n_d / 2)\n",
    "    a = num1 // (10 ** mid)\n",
    "    b = num1 % (10 ** mid)\n",
    "    c = num2 // (10 ** mid)\n",
    "    d = num2 % (10 ** mid)\n",
    "    ac = karatsuba_mult(a, c)\n",
    "    assert ac==a*c, f\"{a}, {c}, {ac}\"\n",
    "    bd = karatsuba_mult(b, d)\n",
    "    all = karatsuba_mult(a+b, c+d)\n",
    "    ad_bc = all - bd - ac\n",
    "\n",
    "    res = 10 ** (mid*2) * ac + (10 ** mid) * ad_bc + bd\n",
    "    return res\n",
    "\n",
    "\n",
    "print(karatsuba_mult(73233782, 73233782))\n",
    "print(73233782 * 73233782)\n",
    "\n",
    "print(karatsuba_mult(3141592653589793238462643383279502884197169399375105820974944592,\n",
    "                     2718281828459045235360287471352662497757247093699959574966967627))\n",
    "\n",
    "# 8539734222673567065463550869546574495034888535765114961879601127067743044893204848617875072216249073013374895871952806582723184\n"
   ]
  },
  {
   "cell_type": "code",
   "execution_count": null,
   "metadata": {},
   "outputs": [],
   "source": []
  }
 ],
 "metadata": {
  "kernelspec": {
   "display_name": "venv3.9",
   "language": "python",
   "name": "venv3.9"
  },
  "language_info": {
   "codemirror_mode": {
    "name": "ipython",
    "version": 3
   },
   "file_extension": ".py",
   "mimetype": "text/x-python",
   "name": "python",
   "nbconvert_exporter": "python",
   "pygments_lexer": "ipython3",
   "version": "3.9.0"
  }
 },
 "nbformat": 4,
 "nbformat_minor": 4
}
