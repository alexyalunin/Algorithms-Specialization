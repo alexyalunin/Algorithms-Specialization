{
 "cells": [
  {
   "cell_type": "code",
   "execution_count": 1,
   "metadata": {},
   "outputs": [],
   "source": [
    "from tqdm import tqdm\n",
    "from collections import Counter\n",
    "import random"
   ]
  },
  {
   "cell_type": "code",
   "execution_count": 2,
   "metadata": {},
   "outputs": [],
   "source": [
    "FILE_NAME=\"jobs.txt\""
   ]
  },
  {
   "cell_type": "code",
   "execution_count": 3,
   "metadata": {},
   "outputs": [
    {
     "name": "stderr",
     "output_type": "stream",
     "text": [
      "--2021-03-19 14:32:19--  https://d3c33hcgiwev3.cloudfront.net/_642c2ce8f3abe387bdff636d708cdb26_jobs.txt?Expires=1616284800&Signature=N-hErs87G0gDki1QKpuoHHH1CVahFzjpIcAEECubuV~JtGNNFZVqbJlgiuvWrzPOxNYMDf~D1l6l4~~fLrHkuoC-Glp2~EmtL0hSZobzeAwoMaYG~ISEhH-zJdYfqC8fP7aBHPkhL59Ko9M5GOwLFWRKRleNCm3aQc8~Y6rhcYo_&Key-Pair-Id=APKAJLTNE6QMUY6HBC5A\n",
      "Resolving d3c33hcgiwev3.cloudfront.net (d3c33hcgiwev3.cloudfront.net)... 52.85.114.40, 52.85.114.45, 52.85.114.22, ...\n",
      "Connecting to d3c33hcgiwev3.cloudfront.net (d3c33hcgiwev3.cloudfront.net)|52.85.114.40|:443... connected.\n",
      "HTTP request sent, awaiting response... 200 OK\n",
      "Length: 58399 (57K) [text/plain]\n",
      "Saving to: ‘jobs.txt’\n",
      "\n",
      "     0K .......... .......... .......... .......... .......... 87%  268K 0s\n",
      "    50K .......                                               100%  141K=0,2s\n",
      "\n",
      "2021-03-19 14:32:20 (306 KB/s) - ‘jobs.txt’ saved [58399/58399]\n",
      "\n"
     ]
    }
   ],
   "source": [
    "%%bash\n",
    "FILE_NAME=\"jobs.txt\"\n",
    "LINK=\"https://d3c33hcgiwev3.cloudfront.net/_642c2ce8f3abe387bdff636d708cdb26_jobs.txt?Expires=1616284800&Signature=N-hErs87G0gDki1QKpuoHHH1CVahFzjpIcAEECubuV~JtGNNFZVqbJlgiuvWrzPOxNYMDf~D1l6l4~~fLrHkuoC-Glp2~EmtL0hSZobzeAwoMaYG~ISEhH-zJdYfqC8fP7aBHPkhL59Ko9M5GOwLFWRKRleNCm3aQc8~Y6rhcYo_&Key-Pair-Id=APKAJLTNE6QMUY6HBC5A\"\n",
    "\n",
    "wget -O $FILE_NAME $LINK "
   ]
  },
  {
   "cell_type": "code",
   "execution_count": 3,
   "metadata": {},
   "outputs": [
    {
     "name": "stdout",
     "output_type": "stream",
     "text": [
      "total 136\n",
      "-rw-r--r--  1 Alexander  staff    57K Mar 25  2016 jobs.txt\n",
      "-rw-r--r--  1 Alexander  staff   6.6K Mar 19 14:47 min_complete_time.ipynb\n"
     ]
    }
   ],
   "source": [
    "! ls -lh"
   ]
  },
  {
   "cell_type": "code",
   "execution_count": 4,
   "metadata": {},
   "outputs": [],
   "source": [
    "with open(FILE_NAME) as file:\n",
    "    a = file.read().splitlines()"
   ]
  },
  {
   "cell_type": "code",
   "execution_count": 5,
   "metadata": {},
   "outputs": [],
   "source": [
    "n_jobs = int(a[0])\n",
    "jobs_w_l = [tuple([int(y) for y in x.split(' ')]) for x in a[1:]]"
   ]
  },
  {
   "cell_type": "code",
   "execution_count": 6,
   "metadata": {},
   "outputs": [
    {
     "data": {
      "text/plain": [
       "[(8, 50),\n",
       " (74, 59),\n",
       " (31, 73),\n",
       " (45, 79),\n",
       " (24, 10),\n",
       " (41, 66),\n",
       " (93, 43),\n",
       " (88, 4),\n",
       " (28, 30),\n",
       " (41, 13)]"
      ]
     },
     "execution_count": 6,
     "metadata": {},
     "output_type": "execute_result"
    }
   ],
   "source": [
    "jobs_w_l[:10]"
   ]
  },
  {
   "cell_type": "markdown",
   "metadata": {},
   "source": [
    "# Using difference"
   ]
  },
  {
   "cell_type": "code",
   "execution_count": 11,
   "metadata": {},
   "outputs": [],
   "source": [
    "jobs_diff_w_l = [tuple([x[0]-x[1], x[0], x[1]]) for x in jobs_w_l]"
   ]
  },
  {
   "cell_type": "code",
   "execution_count": 17,
   "metadata": {},
   "outputs": [],
   "source": [
    "jobs_diff_w_l = sorted(jobs_diff_w_l, key = lambda x: (x[0], x[1]), reverse=True)"
   ]
  },
  {
   "cell_type": "code",
   "execution_count": 18,
   "metadata": {},
   "outputs": [
    {
     "data": {
      "text/plain": [
       "[(98, 99, 1),\n",
       " (97, 100, 3),\n",
       " (97, 100, 3),\n",
       " (97, 99, 2),\n",
       " (97, 99, 2),\n",
       " (97, 98, 1),\n",
       " (96, 98, 2),\n",
       " (96, 98, 2),\n",
       " (96, 98, 2),\n",
       " (95, 99, 4)]"
      ]
     },
     "execution_count": 18,
     "metadata": {},
     "output_type": "execute_result"
    }
   ],
   "source": [
    "jobs_diff_w_l[:10]"
   ]
  },
  {
   "cell_type": "code",
   "execution_count": 7,
   "metadata": {},
   "outputs": [],
   "source": [
    "from dataclasses import dataclass\n",
    "\n",
    "@dataclass\n",
    "class Job:\n",
    "    weight: int\n",
    "    length: int\n",
    "    diff: int\n",
    "    ratio: float"
   ]
  },
  {
   "cell_type": "code",
   "execution_count": 9,
   "metadata": {},
   "outputs": [],
   "source": [
    "jobs = [Job(weight=x[0], length=x[1], diff=x[0]-x[1], ratio=x[0]/x[1]) for x in jobs_w_l]"
   ]
  },
  {
   "cell_type": "code",
   "execution_count": 10,
   "metadata": {},
   "outputs": [
    {
     "data": {
      "text/plain": [
       "[Job(weight=8, length=50, diff=-42, ratio=0.16),\n",
       " Job(weight=74, length=59, diff=15, ratio=1.2542372881355932),\n",
       " Job(weight=31, length=73, diff=-42, ratio=0.4246575342465753),\n",
       " Job(weight=45, length=79, diff=-34, ratio=0.569620253164557),\n",
       " Job(weight=24, length=10, diff=14, ratio=2.4)]"
      ]
     },
     "execution_count": 10,
     "metadata": {},
     "output_type": "execute_result"
    }
   ],
   "source": [
    "jobs[:5]"
   ]
  },
  {
   "cell_type": "code",
   "execution_count": 22,
   "metadata": {},
   "outputs": [],
   "source": [
    "completion_time = 0\n",
    "s = 0\n",
    "\n",
    "for x in sorted(jobs, key=lambda job: (job.diff, job.weight), reverse=True):\n",
    "    completion_time += x.length\n",
    "    score = x.weight * completion_time\n",
    "    s += score"
   ]
  },
  {
   "cell_type": "code",
   "execution_count": 23,
   "metadata": {},
   "outputs": [
    {
     "data": {
      "text/plain": [
       "69119377652"
      ]
     },
     "execution_count": 23,
     "metadata": {},
     "output_type": "execute_result"
    }
   ],
   "source": [
    "s"
   ]
  },
  {
   "cell_type": "markdown",
   "metadata": {},
   "source": [
    "# Using ratio"
   ]
  },
  {
   "cell_type": "code",
   "execution_count": 17,
   "metadata": {},
   "outputs": [],
   "source": [
    "completion_time = 0\n",
    "s = 0\n",
    "\n",
    "for x in sorted(jobs, key=lambda job: job.ratio, reverse=True):\n",
    "    completion_time += x.length\n",
    "    score = x.weight * completion_time\n",
    "    s += score"
   ]
  },
  {
   "cell_type": "code",
   "execution_count": 19,
   "metadata": {},
   "outputs": [
    {
     "data": {
      "text/plain": [
       "67311454237"
      ]
     },
     "execution_count": 19,
     "metadata": {},
     "output_type": "execute_result"
    }
   ],
   "source": [
    "s"
   ]
  },
  {
   "cell_type": "code",
   "execution_count": null,
   "metadata": {},
   "outputs": [],
   "source": []
  }
 ],
 "metadata": {
  "kernelspec": {
   "display_name": "venv3.9",
   "language": "python",
   "name": "venv3.9"
  },
  "language_info": {
   "codemirror_mode": {
    "name": "ipython",
    "version": 3
   },
   "file_extension": ".py",
   "mimetype": "text/x-python",
   "name": "python",
   "nbconvert_exporter": "python",
   "pygments_lexer": "ipython3",
   "version": "3.9.0"
  }
 },
 "nbformat": 4,
 "nbformat_minor": 4
}
