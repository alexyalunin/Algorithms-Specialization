{
 "cells": [
  {
   "cell_type": "code",
   "execution_count": 26,
   "metadata": {},
   "outputs": [],
   "source": [
    "from tqdm.notebook import tqdm\n",
    "from collections import Counter\n",
    "import random\n",
    "from copy import copy\n",
    "import numpy as np\n",
    "from dataclasses import dataclass, field"
   ]
  },
  {
   "cell_type": "code",
   "execution_count": 2,
   "metadata": {},
   "outputs": [],
   "source": [
    "with open(\"nn.txt\") as file:\n",
    "    a = file.read().splitlines()"
   ]
  },
  {
   "cell_type": "code",
   "execution_count": 5,
   "metadata": {},
   "outputs": [
    {
     "data": {
      "text/plain": [
       "(33708,\n",
       " ['33708',\n",
       "  '1 9983.3333 98550.0000',\n",
       "  '2 10000.0000 98533.3333',\n",
       "  '3 10000.0000 98550.0000',\n",
       "  '4 10000.0000 98566.6667'])"
      ]
     },
     "execution_count": 5,
     "metadata": {},
     "output_type": "execute_result"
    }
   ],
   "source": [
    "num_v = int(a[0])\n",
    "num_v, a[:5]"
   ]
  },
  {
   "cell_type": "code",
   "execution_count": 29,
   "metadata": {},
   "outputs": [],
   "source": [
    "@dataclass\n",
    "class Point:\n",
    "    index: int\n",
    "    x: float\n",
    "    y: float\n",
    "        \n",
    "    @staticmethod\n",
    "    def euclid_dist(p1, p2):\n",
    "        return ((p1.x - p2.x)**2 + (p1.y - p2.y)**2)"
   ]
  },
  {
   "cell_type": "code",
   "execution_count": 32,
   "metadata": {},
   "outputs": [
    {
     "name": "stderr",
     "output_type": "stream",
     "text": [
      "  0%|          | 115/33707 [01:12<5:55:01,  1.58it/s]\n"
     ]
    }
   ],
   "source": [
    "points = []\n",
    "for line in a[1:]:\n",
    "    index, x, y = tuple(line.split(' '))\n",
    "    points.append( Point(int(index), float(x), float(y)) )"
   ]
  },
  {
   "cell_type": "code",
   "execution_count": 33,
   "metadata": {},
   "outputs": [],
   "source": [
    "import numpy as np \n",
    "\n",
    "def tsp_heuristic(points, start_v=1):\n",
    "    S = [p.index for p in points]\n",
    "    D = {p.index: p for p in points}\n",
    "    curr_v = start_v\n",
    "    S.remove(curr_v)\n",
    "    min_cost_cycle = 0 \n",
    "    pbar = tqdm(total=len(S))\n",
    "    while S:\n",
    "        min_dist, min_index = np.inf, None\n",
    "        for p in S:\n",
    "            dist = Point.euclid_dist(D[p], D[curr_v])\n",
    "            if dist < min_dist:\n",
    "                min_dist = dist\n",
    "                min_index = p\n",
    "            elif dist == min_dist and p < min_index:\n",
    "                min_index = p\n",
    "        curr_v = min_index\n",
    "        S.remove(curr_v)\n",
    "        min_cost_cycle += min_dist ** (1/2)\n",
    "        pbar.update(1)\n",
    "    min_cost_cycle += Point.euclid_dist(D[start_v], D[curr_v]) ** (1/2)\n",
    "    return min_cost_cycle"
   ]
  },
  {
   "cell_type": "code",
   "execution_count": 34,
   "metadata": {},
   "outputs": [
    {
     "data": {
      "application/vnd.jupyter.widget-view+json": {
       "model_id": "0a7d0a18f50f43e493720f2d2b2dda37",
       "version_major": 2,
       "version_minor": 0
      },
      "text/plain": [
       "HBox(children=(HTML(value=''), FloatProgress(value=0.0, max=33707.0), HTML(value='')))"
      ]
     },
     "metadata": {},
     "output_type": "display_data"
    },
    {
     "data": {
      "text/plain": [
       "1203406.5012708856"
      ]
     },
     "execution_count": 34,
     "metadata": {},
     "output_type": "execute_result"
    }
   ],
   "source": [
    "min_cost_cycle = tsp_heuristic(points)\n",
    "min_cost_cycle"
   ]
  },
  {
   "cell_type": "code",
   "execution_count": null,
   "metadata": {},
   "outputs": [],
   "source": []
  }
 ],
 "metadata": {
  "kernelspec": {
   "display_name": "venv3.9",
   "language": "python",
   "name": "venv3.9"
  },
  "language_info": {
   "codemirror_mode": {
    "name": "ipython",
    "version": 3
   },
   "file_extension": ".py",
   "mimetype": "text/x-python",
   "name": "python",
   "nbconvert_exporter": "python",
   "pygments_lexer": "ipython3",
   "version": "3.9.0"
  }
 },
 "nbformat": 4,
 "nbformat_minor": 4
}
