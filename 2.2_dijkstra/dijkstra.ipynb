{
 "cells": [
  {
   "cell_type": "code",
   "execution_count": 16,
   "metadata": {},
   "outputs": [],
   "source": [
    "from tqdm import tqdm\n",
    "from collections import Counter, defaultdict\n",
    "import random\n",
    "from copy import copy, deepcopy\n",
    "import numpy as np\n",
    "\n",
    "from dataclasses import dataclass, field\n",
    "import time"
   ]
  },
  {
   "cell_type": "code",
   "execution_count": 3,
   "metadata": {},
   "outputs": [],
   "source": [
    "# %%bash\n",
    "# FILE_NAME=\"dijkstraData.txt\"\n",
    "# LINK=\"https://d3c33hcgiwev3.cloudfront.net/_dcf1d02570e57d23ab526b1e33ba6f12_dijkstraData.txt?Expires=1618272000&Signature=Tiq7JQlTIpFGpeLb8oqcZx-Ynpw~mDXBlxWDxpyI91vQUFyhErkiJG9DLaNnRJcCgK8hBcX94KFkGvLMAE76TDF9g9v6e~GolRXA527rscMZU~VdycvLO5H6oOtptnIF28zOs10sJxHmRokqDDhmV2TSKlnNSQZC10WmqaJnLt0_&Key-Pair-Id=APKAJLTNE6QMUY6HBC5A\"\n",
    "\n",
    "# wget -O $FILE_NAME $LINK "
   ]
  },
  {
   "cell_type": "code",
   "execution_count": 6,
   "metadata": {},
   "outputs": [],
   "source": [
    "FILE_NAME=\"dijkstraData.txt\"\n",
    "\n",
    "with open(FILE_NAME) as file:\n",
    "    a = file.read().splitlines()"
   ]
  },
  {
   "cell_type": "code",
   "execution_count": 7,
   "metadata": {},
   "outputs": [
    {
     "data": {
      "text/plain": [
       "['1\\t80,982\\t163,8164\\t170,2620\\t145,648\\t200,8021\\t173,2069\\t92,647\\t26,4122\\t140,546\\t11,1913\\t160,6461\\t27,7905\\t40,9047\\t150,2183\\t61,9146\\t159,7420\\t198,1724\\t114,508\\t104,6647\\t30,4612\\t99,2367\\t138,7896\\t169,8700\\t49,2437\\t125,2909\\t117,2597\\t55,6399\\t',\n",
       " '2\\t42,1689\\t127,9365\\t5,8026\\t170,9342\\t131,7005\\t172,1438\\t34,315\\t30,2455\\t26,2328\\t6,8847\\t11,1873\\t17,5409\\t157,8643\\t159,1397\\t142,7731\\t182,7908\\t93,8177\\t',\n",
       " '3\\t57,1239\\t101,3381\\t43,7313\\t41,7212\\t91,2483\\t31,3031\\t167,3877\\t106,6521\\t76,7729\\t122,9640\\t144,285\\t44,2165\\t6,9006\\t177,7097\\t119,7711\\t',\n",
       " '4\\t162,3924\\t70,5285\\t195,2490\\t72,6508\\t126,2625\\t121,7639\\t31,399\\t118,3626\\t90,9446\\t127,6808\\t135,7582\\t159,6133\\t106,4769\\t52,9267\\t190,7536\\t78,8058\\t75,7044\\t116,6771\\t49,619\\t107,4383\\t89,6363\\t54,313\\t',\n",
       " '5\\t200,4009\\t112,1522\\t25,3496\\t23,9432\\t64,7836\\t56,8262\\t120,1862\\t2,8026\\t90,8919\\t142,1195\\t81,2469\\t182,8806\\t17,2514\\t83,8407\\t146,5308\\t147,1087\\t51,22\\t']"
      ]
     },
     "execution_count": 7,
     "metadata": {},
     "output_type": "execute_result"
    }
   ],
   "source": [
    "a[:5]"
   ]
  },
  {
   "cell_type": "markdown",
   "metadata": {},
   "source": [
    "# Dijkstra"
   ]
  },
  {
   "cell_type": "markdown",
   "metadata": {},
   "source": [
    "## With heap"
   ]
  },
  {
   "cell_type": "code",
   "execution_count": 8,
   "metadata": {},
   "outputs": [],
   "source": [
    "import heapq\n",
    "\n",
    "@dataclass\n",
    "class Edge:\n",
    "    src: int\n",
    "    dst: int\n",
    "    weight: int\n",
    "        \n",
    "@dataclass\n",
    "class Graph:\n",
    "    V: set\n",
    "    v_to_edgelist: dict"
   ]
  },
  {
   "cell_type": "code",
   "execution_count": 9,
   "metadata": {},
   "outputs": [],
   "source": [
    "V = set()\n",
    "v_to_edgelist = {}\n",
    "for x in a:\n",
    "    x = x.split('\\t')\n",
    "    src = int(x[0])\n",
    "    egdes = []\n",
    "    for y in x[1:-1]:\n",
    "        y = y.split(',')\n",
    "        egdes.append( Edge(src=src, dst=int(y[0]), weight=int(y[1])) )\n",
    "    V.add(src)\n",
    "    v_to_edgelist[src] = egdes"
   ]
  },
  {
   "cell_type": "code",
   "execution_count": 29,
   "metadata": {},
   "outputs": [],
   "source": [
    "def Dijkstra_SSSP(G, start_v):\n",
    "    G = deepcopy(G)\n",
    "    D = defaultdict(lambda: np.inf)\n",
    "    curr_v = start_v\n",
    "    G.V.remove(curr_v)\n",
    "    D[curr_v] = 0\n",
    "    \n",
    "    heap = []\n",
    "    while G.V:\n",
    "        if curr_v in G.v_to_edgelist:\n",
    "            edges = G.v_to_edgelist[curr_v]\n",
    "            for edge in edges:\n",
    "                new_dist = D[edge.src] + edge.weight\n",
    "                if new_dist < D[edge.dst]:\n",
    "                    D[edge.dst] = new_dist\n",
    "                    heapq.heappush(heap, (new_dist, edge.dst))\n",
    "        \n",
    "        dist, dst = heapq.heappop(heap)\n",
    "        while dst not in G.V: # clean heap from edges whos v are already in D \n",
    "            dist, dst = heapq.heappop(heap) # it will stop when finds dst that is in G.V (not explored)\n",
    "        G.V.remove(dst)\n",
    "        curr_v = dst\n",
    "    D = dict(D)\n",
    "    return D"
   ]
  },
  {
   "cell_type": "code",
   "execution_count": 30,
   "metadata": {},
   "outputs": [
    {
     "name": "stdout",
     "output_type": "stream",
     "text": [
      "CPU times: user 61.6 ms, sys: 2.1 ms, total: 63.7 ms\n",
      "Wall time: 62.4 ms\n"
     ]
    },
    {
     "data": {
      "text/plain": [
       "'2599,2610,2947,2052,2367,2399,2029,2442,2505,3068'"
      ]
     },
     "execution_count": 30,
     "metadata": {},
     "output_type": "execute_result"
    }
   ],
   "source": [
    "%%time\n",
    "G = Graph(V, v_to_edgelist)\n",
    "D = Dijkstra_SSSP(G, 1)\n",
    "targets = [7, 37, 59, 82, 99, 115, 133, 165, 188, 197]\n",
    "','.join([str(D[t]) for t in targets])"
   ]
  },
  {
   "cell_type": "markdown",
   "metadata": {},
   "source": [
    "## Greedy"
   ]
  },
  {
   "cell_type": "code",
   "execution_count": null,
   "metadata": {},
   "outputs": [],
   "source": [
    "D = dict()\n",
    "for x in a:\n",
    "    x = x.split('\\t')\n",
    "    D[int(x[0])] = [tuple(map(int, y.split(','))) for y in x[1:] if y != '']"
   ]
  },
  {
   "cell_type": "code",
   "execution_count": 22,
   "metadata": {},
   "outputs": [],
   "source": [
    "def dijkstra(D):\n",
    "    A = defaultdict(lambda:1000000)\n",
    "    X = set([1])\n",
    "    V = set(D.keys())\n",
    "    A[1] = 0\n",
    "    \n",
    "    while len(X) != len(V):\n",
    "        temp = []\n",
    "        for v in X:\n",
    "            for edge in D[v]:\n",
    "                to_v = edge[0]\n",
    "                if to_v not in X:\n",
    "                    length = edge[1]\n",
    "                    score = A[v] + length\n",
    "                    temp.append((to_v, score))\n",
    "        to_v, score = min(temp, key=lambda x: x[1])  \n",
    "        A[to_v] = score\n",
    "        X.add(to_v)\n",
    "    return A"
   ]
  },
  {
   "cell_type": "code",
   "execution_count": 24,
   "metadata": {},
   "outputs": [
    {
     "data": {
      "text/plain": [
       "[2599, 2610, 2947, 2052, 2367, 2399, 2029, 2442, 2505, 3068]"
      ]
     },
     "execution_count": 24,
     "metadata": {},
     "output_type": "execute_result"
    }
   ],
   "source": [
    "A = dijkstra(D)\n",
    "targets = [7, 37, 59, 82, 99, 115, 133, 165, 188, 197]\n",
    "[A[t] for t in targets]"
   ]
  },
  {
   "cell_type": "code",
   "execution_count": null,
   "metadata": {},
   "outputs": [],
   "source": [
    "# [2599, 2610, 2947, 2052, 2367, 2399, 2029, 2442, 2505, 3068]"
   ]
  }
 ],
 "metadata": {
  "kernelspec": {
   "display_name": "venv3.9",
   "language": "python",
   "name": "venv3.9"
  },
  "language_info": {
   "codemirror_mode": {
    "name": "ipython",
    "version": 3
   },
   "file_extension": ".py",
   "mimetype": "text/x-python",
   "name": "python",
   "nbconvert_exporter": "python",
   "pygments_lexer": "ipython3",
   "version": "3.9.0"
  }
 },
 "nbformat": 4,
 "nbformat_minor": 4
}
