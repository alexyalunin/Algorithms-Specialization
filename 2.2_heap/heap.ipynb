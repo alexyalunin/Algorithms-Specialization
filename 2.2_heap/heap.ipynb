{
 "cells": [
  {
   "cell_type": "code",
   "execution_count": 1,
   "metadata": {},
   "outputs": [],
   "source": [
    "import math \n",
    "\n",
    "class Heap:\n",
    "    def __init__(self, a=[]):\n",
    "        self.a = []\n",
    "        self.heapify(a)\n",
    "        \n",
    "    def heapify(self, a):\n",
    "        for x in a:\n",
    "            self.heappush(x)\n",
    "            \n",
    "    \n",
    "    def get_parent_index(self, child):\n",
    "        return int(math.floor((child-1)/2))\n",
    "    \n",
    "    def get_left_child_index(self, parent):\n",
    "        return parent * 2 + 1\n",
    "    \n",
    "    def get_right_child_index(self, parent):\n",
    "        return parent * 2 + 2\n",
    "    \n",
    "    def has_parent(self, child):\n",
    "        return self.get_parent_index(child) >=0\n",
    "    \n",
    "    def has_left_child(self, parent):\n",
    "        return self.get_left_child_index(parent) < len(self.a)\n",
    "        \n",
    "    def has_right_child(self, parent):\n",
    "        return self.get_right_child_index(parent) < len(self.a)\n",
    "        \n",
    "    \n",
    "    def get_min(self):\n",
    "        if len(self.a) == 0:\n",
    "            return None\n",
    "        return self.a[0]\n",
    "    \n",
    "    def heappush(self, e):\n",
    "        self.a.append(e)\n",
    "        self.up()\n",
    "        \n",
    "    def up(self):\n",
    "        a = self.a\n",
    "        i_child = len(a) - 1\n",
    "        i_parent = self.get_parent_index(i_child)\n",
    "        while self.has_parent(i_child) and a[i_parent] > a[i_child]:\n",
    "            a[i_parent], a[i_child] = a[i_child], a[i_parent]\n",
    "            i_child = i_parent\n",
    "            i_parent = self.get_parent_index(i_parent)\n",
    "            \n",
    "    def heappop(self):\n",
    "        a = self.a\n",
    "        if len(a) == 0:\n",
    "            return None\n",
    "        if len(a) == 1:\n",
    "            return a.pop()\n",
    "            \n",
    "        e = a[0]\n",
    "        a[0] = a[-1]\n",
    "        a.pop()\n",
    "        self.down()\n",
    "        return e\n",
    "    \n",
    "    def down(self):\n",
    "        a = self.a\n",
    "        i_parent = 0\n",
    "        while self.has_left_child(i_parent):\n",
    "            i_left = self.get_left_child_index(i_parent)\n",
    "            i_smallest_child = i_left\n",
    "            if self.has_right_child(i_parent):\n",
    "                i_right = self.get_right_child_index(i_parent)\n",
    "                if a[i_right] < a[i_left]:\n",
    "                    i_smallest_child = i_right\n",
    "            if a[i_parent] > a[i_smallest_child]:\n",
    "                a[i_parent], a[i_smallest_child] = a[i_smallest_child], a[i_parent]\n",
    "                i_parent = i_smallest_child\n",
    "            else:\n",
    "                # important break\n",
    "                break"
   ]
  },
  {
   "cell_type": "code",
   "execution_count": 20,
   "metadata": {},
   "outputs": [
    {
     "data": {
      "text/plain": [
       "[1, 2, 3, 5, 6, 8, 7]"
      ]
     },
     "execution_count": 20,
     "metadata": {},
     "output_type": "execute_result"
    }
   ],
   "source": [
    "a = [3, 5, 1, 2, 6, 8, 7]\n",
    "h = Heap(a)\n",
    "h.a"
   ]
  },
  {
   "cell_type": "code",
   "execution_count": 21,
   "metadata": {},
   "outputs": [
    {
     "data": {
      "text/plain": [
       "(1, [2, 5, 3, 7, 6, 8])"
      ]
     },
     "execution_count": 21,
     "metadata": {},
     "output_type": "execute_result"
    }
   ],
   "source": [
    "m = h.heappop()\n",
    "m, h.a"
   ]
  },
  {
   "cell_type": "code",
   "execution_count": 22,
   "metadata": {},
   "outputs": [
    {
     "data": {
      "text/plain": [
       "[2, 5, 3, 7, 6, 8, 4]"
      ]
     },
     "execution_count": 22,
     "metadata": {},
     "output_type": "execute_result"
    }
   ],
   "source": [
    "h.heappush(4)\n",
    "h.a"
   ]
  },
  {
   "cell_type": "markdown",
   "metadata": {},
   "source": [
    "## Heap python"
   ]
  },
  {
   "cell_type": "code",
   "execution_count": 23,
   "metadata": {},
   "outputs": [],
   "source": [
    "import heapq"
   ]
  },
  {
   "cell_type": "code",
   "execution_count": 24,
   "metadata": {},
   "outputs": [],
   "source": [
    "a = [3, 5, 1, 2, 6, 8, 7]"
   ]
  },
  {
   "cell_type": "code",
   "execution_count": 25,
   "metadata": {},
   "outputs": [
    {
     "data": {
      "text/plain": [
       "[1, 2, 3, 5, 6, 8, 7]"
      ]
     },
     "execution_count": 25,
     "metadata": {},
     "output_type": "execute_result"
    }
   ],
   "source": [
    "heapq.heapify(a)\n",
    "a"
   ]
  },
  {
   "cell_type": "code",
   "execution_count": 26,
   "metadata": {},
   "outputs": [
    {
     "data": {
      "text/plain": [
       "(1, [2, 5, 3, 7, 6, 8])"
      ]
     },
     "execution_count": 26,
     "metadata": {},
     "output_type": "execute_result"
    }
   ],
   "source": [
    "m = heapq.heappop(a)\n",
    "m, a"
   ]
  },
  {
   "cell_type": "code",
   "execution_count": 27,
   "metadata": {},
   "outputs": [],
   "source": [
    "heapq.heappush(a, 4)"
   ]
  },
  {
   "cell_type": "code",
   "execution_count": 28,
   "metadata": {},
   "outputs": [
    {
     "data": {
      "text/plain": [
       "[2, 5, 3, 7, 6, 8, 4]"
      ]
     },
     "execution_count": 28,
     "metadata": {},
     "output_type": "execute_result"
    }
   ],
   "source": [
    "a"
   ]
  },
  {
   "cell_type": "code",
   "execution_count": null,
   "metadata": {},
   "outputs": [],
   "source": []
  }
 ],
 "metadata": {
  "kernelspec": {
   "display_name": "venv3.9",
   "language": "python",
   "name": "venv3.9"
  },
  "language_info": {
   "codemirror_mode": {
    "name": "ipython",
    "version": 3
   },
   "file_extension": ".py",
   "mimetype": "text/x-python",
   "name": "python",
   "nbconvert_exporter": "python",
   "pygments_lexer": "ipython3",
   "version": "3.9.0"
  }
 },
 "nbformat": 4,
 "nbformat_minor": 4
}
