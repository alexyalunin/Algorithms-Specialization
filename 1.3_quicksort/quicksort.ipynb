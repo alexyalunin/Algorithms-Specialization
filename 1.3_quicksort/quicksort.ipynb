{
 "cells": [
  {
   "cell_type": "code",
   "execution_count": 12,
   "metadata": {},
   "outputs": [],
   "source": [
    "import numpy as np \n",
    "from copy import copy"
   ]
  },
  {
   "cell_type": "code",
   "execution_count": 2,
   "metadata": {},
   "outputs": [],
   "source": [
    "with open('QuickSort.txt', 'r') as file:\n",
    "    a = file.read().splitlines()\n",
    "    a = list(map(int, a))"
   ]
  },
  {
   "cell_type": "code",
   "execution_count": 15,
   "metadata": {},
   "outputs": [],
   "source": [
    "def median_of_three(A, l, r):\n",
    "    #     A[r-1], A[l] = A[l], A[r-1] 0, 6 -> 2  0,1,2,3,4,5, | 0, 5; 0,1,2,3,4 -> 2\n",
    "    m = (r+l-1)//2\n",
    "    a = A[l]\n",
    "    b = A[m]\n",
    "    c = A[r-1]\n",
    "    \n",
    "    if a <= b <= c or c <= b <= a:\n",
    "        A[l], A[m] = b, a\n",
    "    elif a <= c <= b or b <= c <= a:\n",
    "        A[l], A[r-1] = c, a\n",
    "    return A[l]"
   ]
  },
  {
   "cell_type": "code",
   "execution_count": 18,
   "metadata": {},
   "outputs": [
    {
     "data": {
      "text/plain": [
       "162085"
      ]
     },
     "execution_count": 18,
     "metadata": {},
     "output_type": "execute_result"
    }
   ],
   "source": [
    "counter_comparison = 0\n",
    "ms = []\n",
    "\n",
    "def partition(A, l, r):\n",
    "    # p = median_of_three(A, l, r)\n",
    "    p = A[l]\n",
    "    i = l + 1 # keeps bigger\n",
    "    for j in range(i, r):\n",
    "        if A[j] < p:\n",
    "            A[i], A[j] = A[j], A[i]\n",
    "            i += 1\n",
    "    A[i-1], A[l] = A[l], A[i-1]\n",
    "    return i-1\n",
    "\n",
    "\n",
    "def quick_sort(A, l, r):\n",
    "    global counter_comparison\n",
    "    if r - l <= 1: return A\n",
    "\n",
    "    counter_comparison += r - l - 1\n",
    "    p_i = partition(A, l, r)\n",
    "    quick_sort(A, l, p_i)\n",
    "    quick_sort(A, p_i+1, r)\n",
    "    return A\n",
    "\n",
    "\n",
    "nums = [x for x in a]\n",
    "nums_orig = copy(nums)\n",
    "\n",
    "nums = quick_sort(nums, 0, len(nums))\n",
    "assert(nums == sorted(nums_orig))\n",
    "counter_comparison"
   ]
  },
  {
   "cell_type": "code",
   "execution_count": null,
   "metadata": {},
   "outputs": [],
   "source": [
    "# 162085\n",
    "# 164123\n",
    "# 138382\n"
   ]
  },
  {
   "cell_type": "code",
   "execution_count": 3,
   "metadata": {},
   "outputs": [
    {
     "data": {
      "text/plain": [
       "(10000, 132877.1237954945)"
      ]
     },
     "execution_count": 3,
     "metadata": {},
     "output_type": "execute_result"
    }
   ],
   "source": [
    "n = len(a)\n",
    "n, n*np.log2(n)"
   ]
  }
 ],
 "metadata": {
  "kernelspec": {
   "display_name": "venv3.9",
   "language": "python",
   "name": "venv3.9"
  },
  "language_info": {
   "codemirror_mode": {
    "name": "ipython",
    "version": 3
   },
   "file_extension": ".py",
   "mimetype": "text/x-python",
   "name": "python",
   "nbconvert_exporter": "python",
   "pygments_lexer": "ipython3",
   "version": "3.9.0"
  }
 },
 "nbformat": 4,
 "nbformat_minor": 4
}
