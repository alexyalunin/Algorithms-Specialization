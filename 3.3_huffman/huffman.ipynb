{
 "cells": [
  {
   "cell_type": "code",
   "execution_count": 1,
   "metadata": {},
   "outputs": [],
   "source": [
    "from tqdm import tqdm\n",
    "from collections import Counter\n",
    "import random\n",
    "from copy import copy\n",
    "import numpy as np"
   ]
  },
  {
   "cell_type": "code",
   "execution_count": 2,
   "metadata": {},
   "outputs": [],
   "source": [
    "FILE_NAME=\"huffman.txt\""
   ]
  },
  {
   "cell_type": "code",
   "execution_count": 3,
   "metadata": {},
   "outputs": [
    {
     "name": "stderr",
     "output_type": "stream",
     "text": [
      "--2021-03-22 15:45:42--  https://d3c33hcgiwev3.cloudfront.net/_eed1bd08e2fa58bbe94b24c06a20dcdb_huffman.txt?Expires=1616544000&Signature=bca9ZhRSWAcxL0id~mdgiYTDVzpXX3bO3TMcCHYsPuTizTJRlD76ZCl1nIO8Hlhmf1g4L23r2mS94-FJDtLxgMzcimbRJvVSWHVG7TA762Nf5qoNlLISNCrinphRDs319XxFkjdn0JjfL10jC53fRP3b3o4C7lkQZQP~a6OMc8I_&Key-Pair-Id=APKAJLTNE6QMUY6HBC5A\n",
      "Resolving d3c33hcgiwev3.cloudfront.net (d3c33hcgiwev3.cloudfront.net)... 13.32.23.52, 13.32.23.122, 13.32.23.170, ...\n",
      "Connecting to d3c33hcgiwev3.cloudfront.net (d3c33hcgiwev3.cloudfront.net)|13.32.23.52|:443... connected.\n",
      "HTTP request sent, awaiting response... 200 OK\n",
      "Length: 7888 (7,7K) [text/plain]\n",
      "Saving to: ‘huffman.txt’\n",
      "\n",
      "     0K .......                                               100%  301M=0s\n",
      "\n",
      "2021-03-22 15:45:43 (301 MB/s) - ‘huffman.txt’ saved [7888/7888]\n",
      "\n"
     ]
    }
   ],
   "source": [
    "%%bash\n",
    "FILE_NAME=\"huffman.txt\"\n",
    "LINK=\"https://d3c33hcgiwev3.cloudfront.net/_eed1bd08e2fa58bbe94b24c06a20dcdb_huffman.txt?Expires=1616544000&Signature=bca9ZhRSWAcxL0id~mdgiYTDVzpXX3bO3TMcCHYsPuTizTJRlD76ZCl1nIO8Hlhmf1g4L23r2mS94-FJDtLxgMzcimbRJvVSWHVG7TA762Nf5qoNlLISNCrinphRDs319XxFkjdn0JjfL10jC53fRP3b3o4C7lkQZQP~a6OMc8I_&Key-Pair-Id=APKAJLTNE6QMUY6HBC5A\"\n",
    "\n",
    "wget -O $FILE_NAME $LINK "
   ]
  },
  {
   "cell_type": "code",
   "execution_count": 3,
   "metadata": {},
   "outputs": [
    {
     "name": "stdout",
     "output_type": "stream",
     "text": [
      "total 24\n",
      "-rw-r--r--  1 Alexander  staff   3.5K Apr 11 14:26 huffman.ipynb\n",
      "-rw-r--r--  1 Alexander  staff   7.7K Dec  2  2016 huffman.txt\n"
     ]
    }
   ],
   "source": [
    "! ls -lh"
   ]
  },
  {
   "cell_type": "code",
   "execution_count": 29,
   "metadata": {},
   "outputs": [],
   "source": [
    "with open(FILE_NAME) as file:\n",
    "    a = file.read().splitlines()"
   ]
  },
  {
   "cell_type": "code",
   "execution_count": 30,
   "metadata": {},
   "outputs": [],
   "source": [
    "n_sym = int(a[0])\n",
    "weights = [int(x) for x in a[1:]]"
   ]
  },
  {
   "cell_type": "code",
   "execution_count": 31,
   "metadata": {},
   "outputs": [
    {
     "data": {
      "text/plain": [
       "(1000,\n",
       " 1000,\n",
       " [7540662,\n",
       "  6852892,\n",
       "  3235725,\n",
       "  8045172,\n",
       "  2667794,\n",
       "  2595511,\n",
       "  7030103,\n",
       "  5882478,\n",
       "  2731795,\n",
       "  8630567])"
      ]
     },
     "execution_count": 31,
     "metadata": {},
     "output_type": "execute_result"
    }
   ],
   "source": [
    "n_sym, len(weights), weights[:10]"
   ]
  },
  {
   "cell_type": "markdown",
   "metadata": {},
   "source": [
    "# Huffman"
   ]
  },
  {
   "cell_type": "code",
   "execution_count": 38,
   "metadata": {},
   "outputs": [],
   "source": [
    "import heapq\n",
    "\n",
    "def huffman_length(weights):\n",
    "    heap = [(x, 0, 0) for x in weights]\n",
    "    heapq.heapify(heap)\n",
    "    while len(heap) > 1:\n",
    "        w1, l1_max, l1_min = heapq.heappop(heap)\n",
    "        w2, l2_max, l2_min = heapq.heappop(heap)\n",
    "        w = w1 + w2\n",
    "        l_max = max(l1_max, l2_max) + 1\n",
    "        l_min = min(l1_min, l2_min) + 1\n",
    "        heapq.heappush(heap, (w, l_max, l_min))\n",
    "    return heap[0][1], heap[0][2]"
   ]
  },
  {
   "cell_type": "code",
   "execution_count": 39,
   "metadata": {},
   "outputs": [
    {
     "data": {
      "text/plain": [
       "(19, 9)"
      ]
     },
     "execution_count": 39,
     "metadata": {},
     "output_type": "execute_result"
    }
   ],
   "source": [
    "huffman_length(weights)"
   ]
  },
  {
   "cell_type": "code",
   "execution_count": null,
   "metadata": {},
   "outputs": [],
   "source": []
  }
 ],
 "metadata": {
  "kernelspec": {
   "display_name": "venv3.9",
   "language": "python",
   "name": "venv3.9"
  },
  "language_info": {
   "codemirror_mode": {
    "name": "ipython",
    "version": 3
   },
   "file_extension": ".py",
   "mimetype": "text/x-python",
   "name": "python",
   "nbconvert_exporter": "python",
   "pygments_lexer": "ipython3",
   "version": "3.9.0"
  }
 },
 "nbformat": 4,
 "nbformat_minor": 4
}
