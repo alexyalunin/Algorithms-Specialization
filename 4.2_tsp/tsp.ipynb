{
 "cells": [
  {
   "cell_type": "code",
   "execution_count": 1,
   "metadata": {},
   "outputs": [],
   "source": [
    "from tqdm import tqdm\n",
    "from collections import Counter\n",
    "import random\n",
    "from copy import copy\n",
    "import numpy as np\n",
    "from dataclasses import dataclass, field"
   ]
  },
  {
   "cell_type": "code",
   "execution_count": 4,
   "metadata": {},
   "outputs": [],
   "source": [
    "with open(\"tsp.txt\") as file:\n",
    "    a = file.read().splitlines()"
   ]
  },
  {
   "cell_type": "code",
   "execution_count": 11,
   "metadata": {},
   "outputs": [
    {
     "data": {
      "text/plain": [
       "(25,\n",
       " ['20833.3333 17100.0000',\n",
       "  '20900.0000 17066.6667',\n",
       "  '21300.0000 13016.6667',\n",
       "  '21600.0000 14150.0000',\n",
       "  '21600.0000 14966.6667',\n",
       "  '21600.0000 16500.0000',\n",
       "  '22183.3333 13133.3333',\n",
       "  '22583.3333 14300.0000',\n",
       "  '22683.3333 12716.6667',\n",
       "  '23616.6667 15866.6667',\n",
       "  '23700.0000 15933.3333',\n",
       "  '23883.3333 14533.3333',\n",
       "  '24166.6667 13250.0000',\n",
       "  '25149.1667 12365.8333',\n",
       "  '26133.3333 14500.0000',\n",
       "  '26150.0000 10550.0000',\n",
       "  '26283.3333 12766.6667',\n",
       "  '26433.3333 13433.3333',\n",
       "  '26550.0000 13850.0000',\n",
       "  '26733.3333 11683.3333',\n",
       "  '27026.1111 13051.9444',\n",
       "  '27096.1111 13415.8333',\n",
       "  '27153.6111 13203.3333',\n",
       "  '27166.6667 9833.3333',\n",
       "  '27233.3333 10450.0000'])"
      ]
     },
     "execution_count": 11,
     "metadata": {},
     "output_type": "execute_result"
    }
   ],
   "source": [
    "num_v = int(a[0])\n",
    "num_v, a[1:]"
   ]
  },
  {
   "cell_type": "code",
   "execution_count": 18,
   "metadata": {},
   "outputs": [],
   "source": [
    "@dataclass\n",
    "class Point:\n",
    "    x: float\n",
    "    y: float\n",
    "        \n",
    "    @staticmethod\n",
    "    def euclid_dist(p1, p2):\n",
    "        return ((p1.x - p2.x)**2 + (p1.y - p2.y)**2) ** (1/2)"
   ]
  },
  {
   "cell_type": "code",
   "execution_count": 16,
   "metadata": {},
   "outputs": [],
   "source": [
    "points = []\n",
    "for line in a[1:]:\n",
    "    x, y = tuple(map(float, line.split(' ')))\n",
    "    points.append(Point(x, y))"
   ]
  },
  {
   "cell_type": "code",
   "execution_count": 91,
   "metadata": {},
   "outputs": [],
   "source": [
    "def set_to_decimal(S, num_v):\n",
    "    \"\"\"\n",
    "    ex.: {3, 7, 17} -> 00100010000...1000 -> 4456704\n",
    "    \"\"\"\n",
    "    res_bits = []\n",
    "    for i in range(1, num_v):\n",
    "        if i in S:\n",
    "            res_bits.append('1')\n",
    "        else:\n",
    "            res_bits.append('0')\n",
    "    return int(''.join(res_bits), 2)"
   ]
  },
  {
   "cell_type": "code",
   "execution_count": 92,
   "metadata": {},
   "outputs": [],
   "source": [
    "import numpy as np \n",
    "import itertools\n",
    "\n",
    "def tsp(points):\n",
    "    start_v = 0\n",
    "    num_v = len(points)\n",
    "    num_subsets = 2**(num_v-1)\n",
    "    A = np.zeros((num_subsets, num_v))\n",
    "    A[:,start_v] = np.inf\n",
    "    A[0,start_v] = 0\n",
    "    for m in tqdm(range(1, num_v)):\n",
    "        for S in itertools.combinations(range(1, num_v), m):\n",
    "            S = set(S)\n",
    "            dec = set_to_decimal(S, num_v)\n",
    "            for j in S:\n",
    "                S_wo_j = copy(S)\n",
    "                S_wo_j.remove(j)\n",
    "                dec_j = set_to_decimal(S_wo_j, num_v)\n",
    "                S_wo_j.add(0)\n",
    "                min_dist_to_j = np.inf\n",
    "                for k in S_wo_j:\n",
    "                    dist_kj = A[dec_j, k] + Point.euclid_dist(points[k], points[j])\n",
    "                    min_dist_to_j = min(min_dist_to_j, dist_kj)\n",
    "                A[dec, j] = min_dist_to_j\n",
    "    min_cost_cycle = np.inf\n",
    "    for j in range(1, num_v):\n",
    "        S = set(range(1,num_v))\n",
    "        dec = set_to_decimal(S, num_v)\n",
    "        min_cost_cycle = min(min_cost_cycle, A[dec, j] +\n",
    "                             Point.euclid_dist(points[start_v], points[j]))\n",
    "    return min_cost_cycle"
   ]
  },
  {
   "cell_type": "code",
   "execution_count": 93,
   "metadata": {},
   "outputs": [
    {
     "name": "stderr",
     "output_type": "stream",
     "text": [
      "100%|██████████| 24/24 [1:19:51<00:00, 199.65s/it]  \n"
     ]
    },
    {
     "data": {
      "text/plain": [
       "26442.73030895475"
      ]
     },
     "execution_count": 93,
     "metadata": {},
     "output_type": "execute_result"
    }
   ],
   "source": [
    "min_cost_cycle = tsp(points)\n",
    "min_cost_cycle"
   ]
  },
  {
   "cell_type": "code",
   "execution_count": null,
   "metadata": {},
   "outputs": [],
   "source": []
  }
 ],
 "metadata": {
  "kernelspec": {
   "display_name": "venv3.9",
   "language": "python",
   "name": "venv3.9"
  },
  "language_info": {
   "codemirror_mode": {
    "name": "ipython",
    "version": 3
   },
   "file_extension": ".py",
   "mimetype": "text/x-python",
   "name": "python",
   "nbconvert_exporter": "python",
   "pygments_lexer": "ipython3",
   "version": "3.9.0"
  }
 },
 "nbformat": 4,
 "nbformat_minor": 4
}
