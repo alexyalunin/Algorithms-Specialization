{
 "cells": [
  {
   "cell_type": "code",
   "execution_count": 1,
   "metadata": {},
   "outputs": [],
   "source": [
    "from tqdm import tqdm\n",
    "from collections import Counter\n",
    "import random\n",
    "from copy import copy\n",
    "import numpy as np\n",
    "from dataclasses import dataclass, field"
   ]
  },
  {
   "cell_type": "code",
   "execution_count": 41,
   "metadata": {},
   "outputs": [
    {
     "name": "stderr",
     "output_type": "stream",
     "text": [
      "--2021-04-16 17:35:26--  https://d3c33hcgiwev3.cloudfront.net/_6dfda29c18c77fd14511ba8964c2e265_knapsack1.txt?Expires=1618617600&Signature=LZlPVnblJ~m~8Q7mToEGyC0fMvoZSyxfNdA2RPRYwGEYX4Hxwbo-dKEGkJVeM~nGHwN0Z5z-YYccwNXq6LJbWRz60GXATrn~xAi5ujpOL2URtO6PRxMkQNUyVhDYuyzxDT-tAUE0A5q~KNiuG3LxA91LwEdXX8hDfx5Ld~iPXQk_&Key-Pair-Id=APKAJLTNE6QMUY6HBC5A\n",
      "Resolving d3c33hcgiwev3.cloudfront.net (d3c33hcgiwev3.cloudfront.net)... 52.85.114.45, 52.85.114.74, 52.85.114.40, ...\n",
      "Connecting to d3c33hcgiwev3.cloudfront.net (d3c33hcgiwev3.cloudfront.net)|52.85.114.45|:443... connected.\n",
      "HTTP request sent, awaiting response... 200 OK\n",
      "Length: 987 [text/plain]\n",
      "Saving to: ‘knapsack1.txt’\n",
      "\n",
      "     0K                                                       100%  134M=0s\n",
      "\n",
      "2021-04-16 17:35:26 (134 MB/s) - ‘knapsack1.txt’ saved [987/987]\n",
      "\n"
     ]
    }
   ],
   "source": [
    "%%bash\n",
    "FILE_NAME=\"knapsack1.txt\"\n",
    "LINK=\"https://d3c33hcgiwev3.cloudfront.net/_6dfda29c18c77fd14511ba8964c2e265_knapsack1.txt?Expires=1618617600&Signature=LZlPVnblJ~m~8Q7mToEGyC0fMvoZSyxfNdA2RPRYwGEYX4Hxwbo-dKEGkJVeM~nGHwN0Z5z-YYccwNXq6LJbWRz60GXATrn~xAi5ujpOL2URtO6PRxMkQNUyVhDYuyzxDT-tAUE0A5q~KNiuG3LxA91LwEdXX8hDfx5Ld~iPXQk_&Key-Pair-Id=APKAJLTNE6QMUY6HBC5A\"\n",
    "\n",
    "wget -O $FILE_NAME $LINK "
   ]
  },
  {
   "cell_type": "code",
   "execution_count": 23,
   "metadata": {},
   "outputs": [
    {
     "name": "stderr",
     "output_type": "stream",
     "text": [
      "--2021-04-16 03:59:07--  https://d3c33hcgiwev3.cloudfront.net/_6dfda29c18c77fd14511ba8964c2e265_knapsack_big.txt?Expires=1618617600&Signature=CHGw6NNzSdAF6~2s5CXS0GvCnePN4Vnjqv9kuTsFff10m5mtX2WTzklcf0iH2KeSHcM~yUNPcMB-7bbe4xEbQb6s5v~KnTtZVrFfXlqII6ZqkHGLxQBg05mWK8l7yitAUiZqWViPvjzG~Y27jYor8aAzimpNwBugDU5AjSP5U8Y_&Key-Pair-Id=APKAJLTNE6QMUY6HBC5A\n",
      "Resolving d3c33hcgiwev3.cloudfront.net (d3c33hcgiwev3.cloudfront.net)... 52.85.114.40, 52.85.114.45, 52.85.114.74, ...\n",
      "Connecting to d3c33hcgiwev3.cloudfront.net (d3c33hcgiwev3.cloudfront.net)|52.85.114.40|:443... connected.\n",
      "HTTP request sent, awaiting response... 200 OK\n",
      "Length: 25570 (25K) [text/plain]\n",
      "Saving to: ‘knapsack_big.txt’\n",
      "\n",
      "     0K .......... .......... ....                            100% 22,6M=0,001s\n",
      "\n",
      "2021-04-16 03:59:08 (22,6 MB/s) - ‘knapsack_big.txt’ saved [25570/25570]\n",
      "\n"
     ]
    }
   ],
   "source": [
    "%%bash\n",
    "FILE_NAME=\"knapsack_big.txt\"\n",
    "LINK=\"https://d3c33hcgiwev3.cloudfront.net/_6dfda29c18c77fd14511ba8964c2e265_knapsack_big.txt?Expires=1618617600&Signature=CHGw6NNzSdAF6~2s5CXS0GvCnePN4Vnjqv9kuTsFff10m5mtX2WTzklcf0iH2KeSHcM~yUNPcMB-7bbe4xEbQb6s5v~KnTtZVrFfXlqII6ZqkHGLxQBg05mWK8l7yitAUiZqWViPvjzG~Y27jYor8aAzimpNwBugDU5AjSP5U8Y_&Key-Pair-Id=APKAJLTNE6QMUY6HBC5A\"\n",
    "\n",
    "wget -O $FILE_NAME $LINK "
   ]
  },
  {
   "cell_type": "code",
   "execution_count": 42,
   "metadata": {},
   "outputs": [
    {
     "name": "stdout",
     "output_type": "stream",
     "text": [
      "total 120\n",
      "-rw-r--r--  1 Alexander  staff    27K Apr 16 17:32 knapsack.ipynb\n",
      "-rw-r--r--  1 Alexander  staff   987B Mar 29  2016 knapsack1.txt\n",
      "-rw-r--r--  1 Alexander  staff    25K Mar 29  2016 knapsack_big.txt\n"
     ]
    }
   ],
   "source": [
    "! ls -lh"
   ]
  },
  {
   "cell_type": "code",
   "execution_count": 45,
   "metadata": {},
   "outputs": [],
   "source": [
    "from dataclasses import dataclass\n",
    "@dataclass\n",
    "class Item:\n",
    "    size: int\n",
    "    value: int"
   ]
  },
  {
   "cell_type": "markdown",
   "metadata": {},
   "source": [
    "# Knapsack"
   ]
  },
  {
   "cell_type": "code",
   "execution_count": 60,
   "metadata": {},
   "outputs": [],
   "source": [
    "FILE_NAME=\"knapsack1.txt\""
   ]
  },
  {
   "cell_type": "code",
   "execution_count": 61,
   "metadata": {},
   "outputs": [],
   "source": [
    "with open(FILE_NAME) as file:\n",
    "    a = file.read().splitlines()"
   ]
  },
  {
   "cell_type": "code",
   "execution_count": 62,
   "metadata": {},
   "outputs": [
    {
     "data": {
      "text/plain": [
       "(10000, 100)"
      ]
     },
     "execution_count": 62,
     "metadata": {},
     "output_type": "execute_result"
    }
   ],
   "source": [
    "knapsack_size, number_of_items = (int(x) for x in a[0].split(' '))\n",
    "knapsack_size, number_of_items"
   ]
  },
  {
   "cell_type": "code",
   "execution_count": 63,
   "metadata": {},
   "outputs": [
    {
     "data": {
      "text/plain": [
       "['16808 250',\n",
       " '50074 659',\n",
       " '8931 273',\n",
       " '27545 879',\n",
       " '77924 710',\n",
       " '64441 166',\n",
       " '84493 43',\n",
       " '7988 504',\n",
       " '82328 730']"
      ]
     },
     "execution_count": 63,
     "metadata": {},
     "output_type": "execute_result"
    }
   ],
   "source": [
    "a[1:10]"
   ]
  },
  {
   "cell_type": "code",
   "execution_count": 64,
   "metadata": {},
   "outputs": [],
   "source": [
    "items = [ tuple(map(int, x.split(' '))) for x in a[1:] ]\n",
    "items = [ Item(size=x[1], value=x[0]) for x in items ]"
   ]
  },
  {
   "cell_type": "code",
   "execution_count": 65,
   "metadata": {},
   "outputs": [
    {
     "data": {
      "text/plain": [
       "[Item(size=250, value=16808),\n",
       " Item(size=659, value=50074),\n",
       " Item(size=273, value=8931)]"
      ]
     },
     "execution_count": 65,
     "metadata": {},
     "output_type": "execute_result"
    }
   ],
   "source": [
    "items[:3]"
   ]
  },
  {
   "cell_type": "code",
   "execution_count": 73,
   "metadata": {},
   "outputs": [],
   "source": [
    "import numpy as np\n",
    "\n",
    "def reconstruct_knapsack(A, items):\n",
    "    item_num, budget = A.shape\n",
    "    item_num -= 1\n",
    "    budget -= 1\n",
    "    choosen_items = []\n",
    "    while budget > 0 and item_num > 0:\n",
    "        if A[item_num, budget] == A[item_num-1, budget]:\n",
    "            item_num -= 1\n",
    "        else:\n",
    "            choosen_items.append(item_num)\n",
    "            budget -= items[item_num-1].size\n",
    "            item_num -= 1\n",
    "    return choosen_items\n",
    "            \n",
    "\n",
    "def knapsack(budget, items):\n",
    "    n = len(items)\n",
    "    A = np.zeros((n+1, budget+1), dtype=np.int)\n",
    "    A[0, :] = 0\n",
    "    for i in range(1, n+1):\n",
    "        new_item = items[i-1]\n",
    "        for j in range(1, budget+1):\n",
    "            if new_item.size > j:\n",
    "                A[i, j] = A[i-1, j]\n",
    "            else:\n",
    "                A[i, j] = max(A[i-1, j], \n",
    "                              A[i-1, j-new_item.size] + new_item.value)\n",
    "    choosen_items = reconstruct_knapsack(A, items)\n",
    "    return A, choosen_items"
   ]
  },
  {
   "cell_type": "code",
   "execution_count": 77,
   "metadata": {},
   "outputs": [
    {
     "data": {
      "text/plain": [
       "2493893"
      ]
     },
     "execution_count": 77,
     "metadata": {},
     "output_type": "execute_result"
    }
   ],
   "source": [
    "A, choosen_items = knapsack(knapsack_size, items)\n",
    "A[-1, -1]"
   ]
  },
  {
   "cell_type": "code",
   "execution_count": 78,
   "metadata": {},
   "outputs": [
    {
     "data": {
      "text/plain": [
       "(array([[0, 0, 0, 0, 0, 0, 0],\n",
       "        [0, 0, 0, 0, 3, 3, 3],\n",
       "        [0, 0, 0, 2, 3, 3, 3],\n",
       "        [0, 0, 4, 4, 4, 6, 7],\n",
       "        [0, 0, 4, 4, 4, 8, 8]]),\n",
       " [4, 3])"
      ]
     },
     "execution_count": 78,
     "metadata": {},
     "output_type": "execute_result"
    }
   ],
   "source": [
    "knapsack(budget=6, items = [ \n",
    "    Item(size=4, value=3),\n",
    "    Item(size=3, value=2),\n",
    "    Item(size=2, value=4),\n",
    "    Item(size=3, value=4)\n",
    "])"
   ]
  },
  {
   "cell_type": "markdown",
   "metadata": {},
   "source": [
    "# Knapsack big"
   ]
  },
  {
   "cell_type": "code",
   "execution_count": 34,
   "metadata": {},
   "outputs": [],
   "source": [
    "FILE_NAME=\"knapsack_big.txt\""
   ]
  },
  {
   "cell_type": "code",
   "execution_count": 35,
   "metadata": {},
   "outputs": [
    {
     "data": {
      "text/plain": [
       "(2000000, 2000)"
      ]
     },
     "execution_count": 35,
     "metadata": {},
     "output_type": "execute_result"
    }
   ],
   "source": [
    "with open(FILE_NAME) as file:\n",
    "    a = file.read().splitlines()\n",
    "\n",
    "knapsack_size, number_of_items = (int(x) for x in a[0].split(' '))\n",
    "knapsack_size, number_of_items"
   ]
  },
  {
   "cell_type": "code",
   "execution_count": 36,
   "metadata": {},
   "outputs": [],
   "source": [
    "items = [ tuple(map(int, x.split(' '))) for x in a[1:] ]\n",
    "items = [ Item(value=x[0], size=x[1]) for x in items ]"
   ]
  },
  {
   "cell_type": "code",
   "execution_count": 37,
   "metadata": {},
   "outputs": [
    {
     "data": {
      "text/plain": [
       "[Item(value=16808, size=241486),\n",
       " Item(value=50074, size=834558),\n",
       " Item(value=8931, size=738037),\n",
       " Item(value=27545, size=212860),\n",
       " Item(value=77924, size=494349)]"
      ]
     },
     "execution_count": 37,
     "metadata": {},
     "output_type": "execute_result"
    }
   ],
   "source": [
    "items[:5]"
   ]
  },
  {
   "cell_type": "code",
   "execution_count": 38,
   "metadata": {},
   "outputs": [],
   "source": [
    "import numpy as np\n",
    "\n",
    "def rec(A, items, n_items, budget):\n",
    "    if n_items < 0 or budget < 0:\n",
    "        return 0\n",
    "    if A[n_items, budget] != -1:\n",
    "        return A[n_items, budget]\n",
    "    \n",
    "    new_item = items[n_items-1]\n",
    "    a1 = rec(A, items, n_items-1, budget)\n",
    "    if budget-new_item.size < 0:\n",
    "        a2 = 0\n",
    "    else:\n",
    "        a2 = rec(A, items, n_items-1, budget-new_item.size) + new_item.value\n",
    "    A[n_items, budget] = max(a1, a2)\n",
    "\n",
    "    return A[n_items, budget]\n",
    "    \n",
    "    \n",
    "def knapsack_big(budget, items):\n",
    "    n = len(items)\n",
    "    A = np.zeros((n+1, budget+1), dtype=np.int) - 1\n",
    "    A[0, :] = 0\n",
    "    return A, rec(A, items, n, budget)"
   ]
  },
  {
   "cell_type": "code",
   "execution_count": 39,
   "metadata": {},
   "outputs": [
    {
     "name": "stdout",
     "output_type": "stream",
     "text": [
      "CPU times: user 50.7 s, sys: 27.2 s, total: 1min 17s\n",
      "Wall time: 1min 22s\n"
     ]
    },
    {
     "data": {
      "text/plain": [
       "4243395"
      ]
     },
     "execution_count": 39,
     "metadata": {},
     "output_type": "execute_result"
    }
   ],
   "source": [
    "%%time\n",
    "A, v = knapsack_big(knapsack_size, items)\n",
    "v"
   ]
  },
  {
   "cell_type": "code",
   "execution_count": 41,
   "metadata": {},
   "outputs": [
    {
     "data": {
      "text/plain": [
       "array([[      0,       0,       0, ...,       0,       0,       0],\n",
       "       [     -1,      -1,      -1, ...,      -1,      -1,   16808],\n",
       "       [     -1,      -1,      -1, ...,      -1,      -1,   66882],\n",
       "       ...,\n",
       "       [     -1,      -1,      -1, ...,      -1,      -1, 4243395],\n",
       "       [     -1,      -1,      -1, ...,      -1,      -1, 4243395],\n",
       "       [     -1,      -1,      -1, ...,      -1,      -1, 4243395]])"
      ]
     },
     "execution_count": 41,
     "metadata": {},
     "output_type": "execute_result"
    }
   ],
   "source": [
    "A"
   ]
  },
  {
   "cell_type": "code",
   "execution_count": 40,
   "metadata": {},
   "outputs": [],
   "source": [
    "# knapsack_big(budget=6, items = [ \n",
    "#     Item(value=3, size=4),\n",
    "#     Item(value=2, size=3),\n",
    "#     Item(value=4, size=2),\n",
    "#     Item(value=4, size=3)\n",
    "# ])"
   ]
  },
  {
   "cell_type": "code",
   "execution_count": null,
   "metadata": {},
   "outputs": [],
   "source": []
  },
  {
   "cell_type": "code",
   "execution_count": null,
   "metadata": {},
   "outputs": [],
   "source": []
  }
 ],
 "metadata": {
  "kernelspec": {
   "display_name": "venv3.9",
   "language": "python",
   "name": "venv3.9"
  },
  "language_info": {
   "codemirror_mode": {
    "name": "ipython",
    "version": 3
   },
   "file_extension": ".py",
   "mimetype": "text/x-python",
   "name": "python",
   "nbconvert_exporter": "python",
   "pygments_lexer": "ipython3",
   "version": "3.9.0"
  }
 },
 "nbformat": 4,
 "nbformat_minor": 4
}
