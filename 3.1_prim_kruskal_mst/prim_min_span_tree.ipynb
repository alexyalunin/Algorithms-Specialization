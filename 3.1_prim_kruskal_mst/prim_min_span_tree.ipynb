{
 "cells": [
  {
   "cell_type": "code",
   "execution_count": 1,
   "metadata": {},
   "outputs": [],
   "source": [
    "from tqdm import tqdm\n",
    "from collections import Counter\n",
    "import random\n",
    "from copy import copy\n",
    "import numpy as np"
   ]
  },
  {
   "cell_type": "code",
   "execution_count": 2,
   "metadata": {},
   "outputs": [],
   "source": [
    "FILE_NAME=\"edges.txt\""
   ]
  },
  {
   "cell_type": "code",
   "execution_count": 3,
   "metadata": {},
   "outputs": [
    {
     "name": "stderr",
     "output_type": "stream",
     "text": [
      "--2021-03-19 17:51:02--  https://d3c33hcgiwev3.cloudfront.net/_d4f3531eac1d289525141e95a2fea52f_edges.txt?Expires=1616284800&Signature=WexgAzJvRL2d8C8PTcWWXm3wHdXu3yLvUtsFU7SC8Ap5iyzm63G65m4NMcsGYbVUzXO9c2GdNw3yEpav3BUOqQZqloMHfU92ltKp1m0vUIWerCxbhmlnoJpO78p8kuUv9uyzoBugC9onSFKmUxnmVp-R~NGe7dPAHMq5Gjqwv6s_&Key-Pair-Id=APKAJLTNE6QMUY6HBC5A\n",
      "Resolving d3c33hcgiwev3.cloudfront.net (d3c33hcgiwev3.cloudfront.net)... 52.85.114.40, 52.85.114.22, 52.85.114.74, ...\n",
      "Connecting to d3c33hcgiwev3.cloudfront.net (d3c33hcgiwev3.cloudfront.net)|52.85.114.40|:443... connected.\n",
      "HTTP request sent, awaiting response... 200 OK\n",
      "Length: 28291 (28K) [text/plain]\n",
      "Saving to: ‘edges.txt’\n",
      "\n",
      "     0K .......... .......... .......                         100% 3,09M=0,009s\n",
      "\n",
      "2021-03-19 17:51:03 (3,09 MB/s) - ‘edges.txt’ saved [28291/28291]\n",
      "\n"
     ]
    }
   ],
   "source": [
    "%%bash\n",
    "FILE_NAME=\"edges.txt\"\n",
    "LINK=\"https://d3c33hcgiwev3.cloudfront.net/_d4f3531eac1d289525141e95a2fea52f_edges.txt?Expires=1616284800&Signature=WexgAzJvRL2d8C8PTcWWXm3wHdXu3yLvUtsFU7SC8Ap5iyzm63G65m4NMcsGYbVUzXO9c2GdNw3yEpav3BUOqQZqloMHfU92ltKp1m0vUIWerCxbhmlnoJpO78p8kuUv9uyzoBugC9onSFKmUxnmVp-R~NGe7dPAHMq5Gjqwv6s_&Key-Pair-Id=APKAJLTNE6QMUY6HBC5A\"\n",
    "\n",
    "wget -O $FILE_NAME $LINK "
   ]
  },
  {
   "cell_type": "code",
   "execution_count": 3,
   "metadata": {},
   "outputs": [
    {
     "name": "stdout",
     "output_type": "stream",
     "text": [
      "total 96\n",
      "-rw-r--r--  1 Alexander  staff    28K Mar 29  2016 edges.txt\n",
      "-rw-r--r--  1 Alexander  staff    17K Mar 22 00:47 prim_min_span_tree.ipynb\n"
     ]
    }
   ],
   "source": [
    "! ls -lh"
   ]
  },
  {
   "cell_type": "code",
   "execution_count": 20,
   "metadata": {},
   "outputs": [],
   "source": [
    "with open(FILE_NAME) as file:\n",
    "    a = file.read().splitlines()"
   ]
  },
  {
   "cell_type": "code",
   "execution_count": 21,
   "metadata": {},
   "outputs": [],
   "source": [
    "n_nodes, n_endes = tuple(map(int, a[0].split(' ')))"
   ]
  },
  {
   "cell_type": "code",
   "execution_count": 22,
   "metadata": {},
   "outputs": [
    {
     "data": {
      "text/plain": [
       "[(1, 2, 6807),\n",
       " (2, 3, -8874),\n",
       " (3, 4, -1055),\n",
       " (4, 5, 4414),\n",
       " (5, 6, 1728),\n",
       " (6, 7, -2237),\n",
       " (7, 8, -7507),\n",
       " (8, 9, 7990),\n",
       " (9, 10, -5012),\n",
       " (10, 11, 7353)]"
      ]
     },
     "execution_count": 22,
     "metadata": {},
     "output_type": "execute_result"
    }
   ],
   "source": [
    "edges[:10]"
   ]
  },
  {
   "cell_type": "code",
   "execution_count": null,
   "metadata": {},
   "outputs": [],
   "source": [
    "from dataclasses import dataclass\n",
    "\n",
    "@dataclass \n",
    "class Edge:\n",
    "    src: int\n",
    "    dst: int\n",
    "    weight: int\n",
    "        \n",
    "    # fix for python heap when sorting tuples \n",
    "    def __le__(self,other):\n",
    "        return True\n",
    "    \n",
    "    def __lt__(self, other):\n",
    "        return True\n",
    "          \n",
    "@dataclass\n",
    "class Graph:\n",
    "    V: set\n",
    "    v_to_edgelist: dict\n",
    "        \n",
    "\n",
    "V = set()\n",
    "v_to_edgelist = {}\n",
    "for edge in edges:\n",
    "    e = Edge(src=edge[0], dst=edge[1], weight=edge[2])\n",
    "    e2 = Edge(src=edge[1], dst=edge[0], weight=edge[2])\n",
    "    if e.src in v_to_edgelist:\n",
    "        v_to_edgelist[e.src].append(e)\n",
    "    else:\n",
    "        v_to_edgelist[e.src] = [e]\n",
    "        \n",
    "    if e2.src in v_to_edgelist:\n",
    "        v_to_edgelist[e2.src].append(e2)\n",
    "    else:\n",
    "        v_to_edgelist[e2.src] = [e2]\n",
    "    \n",
    "    V.add(e.src)\n",
    "    V.add(e.dst)\n",
    "    \n",
    "G = Graph(V=V, v_to_edgelist=v_to_edgelist)\n"
   ]
  },
  {
   "cell_type": "markdown",
   "metadata": {},
   "source": [
    "# Prim"
   ]
  },
  {
   "cell_type": "code",
   "execution_count": 71,
   "metadata": {},
   "outputs": [],
   "source": [
    "import heapq\n",
    "\n",
    "def prim_mst(G, start_v):\n",
    "    mst_cost = 0\n",
    "    mst = []\n",
    "    curr_v = start_v\n",
    "    heap = []\n",
    "    X = set([curr_v]) # explored\n",
    "\n",
    "    while len(X) != len(G.V):\n",
    "        for edge in G.v_to_edgelist[curr_v]:\n",
    "            if edge.dst not in X:\n",
    "                heapq.heappush(heap, (edge.weight, edge))\n",
    "        \n",
    "        weight, edge = heapq.heappop(heap)\n",
    "        while edge.dst in X:\n",
    "            weight, edge = heapq.heappop(heap)\n",
    "        mst_cost += weight\n",
    "        mst.append(edge)\n",
    "        X.add(edge.dst)\n",
    "        curr_v = edge.dst\n",
    "    return mst_cost, mst"
   ]
  },
  {
   "cell_type": "code",
   "execution_count": 72,
   "metadata": {},
   "outputs": [
    {
     "data": {
      "text/plain": [
       "-3612829"
      ]
     },
     "execution_count": 72,
     "metadata": {},
     "output_type": "execute_result"
    }
   ],
   "source": [
    "mst_cost, mst = prim_mst(G, 1)\n",
    "mst_cost"
   ]
  },
  {
   "cell_type": "markdown",
   "metadata": {},
   "source": [
    "# Kruskal"
   ]
  },
  {
   "cell_type": "markdown",
   "metadata": {},
   "source": [
    "https://github.com/sh2439/Algo_stanford/blob/master/C3%3A%20Greedy%20Algo/clustering_small.py \\\n",
    "https://algotree.org/algorithms/minimum_spanning_tree/kruskals/"
   ]
  },
  {
   "cell_type": "code",
   "execution_count": 74,
   "metadata": {},
   "outputs": [],
   "source": [
    "class UnionFind:\n",
    "    def __init__(self,n):\n",
    "        self.parent = list(range(n))\n",
    "        self.rank = [0] * n\n",
    "        # self.n_clusters = n\n",
    "    \n",
    "    def find(self, x):\n",
    "        if self.parent[x] != x:\n",
    "            # path compression\n",
    "            self.parent[x] = self.find(self.parent[x])\n",
    "        return self.parent[x]\n",
    "    \n",
    "    def count(self):\n",
    "        return self.n_clusters\n",
    "        \n",
    "    def union(self, x,y):\n",
    "        root1 = self.find(x)\n",
    "        root2 = self.find(y)\n",
    "        \n",
    "        if root1 == root2:\n",
    "            return False\n",
    "        \n",
    "        # self.n_clusters -= 1\n",
    "        # union by rank\n",
    "        if self.rank[root1] == self.rank[root2]:\n",
    "            self.parent[root2] = root1\n",
    "            self.rank[root1] += 1\n",
    "        elif self.rank[root1] > self.rank[root2]:\n",
    "            self.parent[root2] = root1\n",
    "        else:\n",
    "            self.parent[root1] = root2\n",
    "        return True\n",
    "            \n",
    "    def connected(self, x, y):\n",
    "        return self.find(x) == self.find(y)"
   ]
  },
  {
   "cell_type": "code",
   "execution_count": 76,
   "metadata": {},
   "outputs": [],
   "source": [
    "from dataclasses import dataclass\n",
    "@dataclass\n",
    "class Edge:\n",
    "    src: int\n",
    "    dst: int\n",
    "    weight: int\n",
    "        \n",
    "    \n",
    "def kruskal_mst(num_nodes, edgelist):\n",
    "    mst = []\n",
    "    mst_cost = 0\n",
    "    # Sort objects of an Edge class based on attribute (weight)\n",
    "    edgelist.sort(key=lambda Edge : Edge.weight)\n",
    "\n",
    "    U = UnionFind(num_nodes)\n",
    "    # working on sorted list\n",
    "    for edge in tqdm(edgelist):\n",
    "        united = U.union(edge.src, edge.dst)\n",
    "        if united:\n",
    "            mst.append(edge)\n",
    "            mst_cost += edge.weight\n",
    "    return mst_cost, mst"
   ]
  },
  {
   "cell_type": "code",
   "execution_count": 79,
   "metadata": {},
   "outputs": [
    {
     "name": "stderr",
     "output_type": "stream",
     "text": [
      "100%|██████████| 2184/2184 [00:00<00:00, 275036.33it/s]"
     ]
    },
    {
     "name": "stdout",
     "output_type": "stream",
     "text": [
      "CPU times: user 11.4 ms, sys: 2.16 ms, total: 13.5 ms\n",
      "Wall time: 13.4 ms\n"
     ]
    },
    {
     "name": "stderr",
     "output_type": "stream",
     "text": [
      "\n"
     ]
    },
    {
     "data": {
      "text/plain": [
       "-3612829"
      ]
     },
     "execution_count": 79,
     "metadata": {},
     "output_type": "execute_result"
    }
   ],
   "source": [
    "%%time\n",
    "# subtract one so vertices start from 0\n",
    "mst_cost, mst = kruskal_mst(n_nodes, [Edge(x[0]-1, x[1]-1, x[2]) for x in edges])\n",
    "mst_cost"
   ]
  },
  {
   "cell_type": "markdown",
   "metadata": {},
   "source": [
    "# Trash"
   ]
  },
  {
   "cell_type": "code",
   "execution_count": 30,
   "metadata": {},
   "outputs": [],
   "source": [
    "e_orig = [Edge(np.random.randint(0,100000), np.random.randint(0,100000), np.random.randint(-1000,1000)) for i in range(1_000_000)]"
   ]
  },
  {
   "cell_type": "code",
   "execution_count": 31,
   "metadata": {},
   "outputs": [
    {
     "name": "stderr",
     "output_type": "stream",
     "text": [
      "100%|██████████| 1000000/1000000 [00:03<00:00, 283611.03it/s]"
     ]
    },
    {
     "name": "stdout",
     "output_type": "stream",
     "text": [
      "Edges of minimum spanning tree are in Graph 1 : \n",
      "Cost of minimum spanning tree : -88038421\n",
      "5836773\n",
      "CPU times: user 4.11 s, sys: 67.7 ms, total: 4.18 s\n",
      "Wall time: 4.18 s\n"
     ]
    },
    {
     "name": "stderr",
     "output_type": "stream",
     "text": [
      "\n"
     ]
    }
   ],
   "source": [
    "%%time\n",
    "e = copy(e_orig)\n",
    "g1 = Graph(len(e), e)\n",
    "g1.KruskalMST()"
   ]
  },
  {
   "cell_type": "code",
   "execution_count": 33,
   "metadata": {},
   "outputs": [
    {
     "name": "stderr",
     "output_type": "stream",
     "text": [
      "100%|██████████| 1000000/1000000 [00:02<00:00, 381272.25it/s]"
     ]
    },
    {
     "name": "stdout",
     "output_type": "stream",
     "text": [
      "Edges of minimum spanning tree are in Graph 1 : \n",
      "Cost of minimum spanning tree : -88038421\n",
      "3951267\n",
      "CPU times: user 3.2 s, sys: 49.3 ms, total: 3.25 s\n",
      "Wall time: 3.25 s\n"
     ]
    },
    {
     "name": "stderr",
     "output_type": "stream",
     "text": [
      "\n"
     ]
    }
   ],
   "source": [
    "%%time\n",
    "e = copy(e_orig)\n",
    "g1 = Graph(len(e), e)\n",
    "g1.KruskalMST()"
   ]
  },
  {
   "cell_type": "code",
   "execution_count": 42,
   "metadata": {},
   "outputs": [
    {
     "name": "stdout",
     "output_type": "stream",
     "text": [
      "Edges of minimum spanning tree are in Graph 1 : \n",
      "Cost of minimum spanning tree : 9\n"
     ]
    }
   ],
   "source": [
    "# num_nodes = 6\n",
    "# e1 = Edge(0, 1, 4);\n",
    "# e2 = Edge(0, 2, 1);\n",
    "# e3 = Edge(0, 3, 5);\n",
    "# e4 = Edge(1, 3, 2);\n",
    "# e5 = Edge(1, 4, 3);\n",
    "# e6 = Edge(1, 5, 3);\n",
    "# e7 = Edge(2, 3, 2);\n",
    "# e8 = Edge(2, 4, 8);\n",
    "# e9 = Edge(3, 4, 1);\n",
    "# e10 = Edge(4, 5, 3);\n",
    "\n",
    "# g1 = Graph(num_nodes, [e1, e2, e3, e4, e5, e6, e7, e8, e9, e10])\n",
    "# g1.KruskalMST()"
   ]
  },
  {
   "cell_type": "code",
   "execution_count": 51,
   "metadata": {},
   "outputs": [],
   "source": [
    "with open('../scc/SCC.txt') as file:\n",
    "    a = file.read().splitlines()"
   ]
  },
  {
   "cell_type": "code",
   "execution_count": 55,
   "metadata": {},
   "outputs": [],
   "source": [
    "b = [x.split(' ') for x in a]"
   ]
  },
  {
   "cell_type": "code",
   "execution_count": 57,
   "metadata": {},
   "outputs": [],
   "source": [
    "c = [(int(x[0]), int(x[1])) for x in b]"
   ]
  },
  {
   "cell_type": "code",
   "execution_count": 65,
   "metadata": {},
   "outputs": [],
   "source": [
    "import numpy as np"
   ]
  },
  {
   "cell_type": "code",
   "execution_count": 72,
   "metadata": {},
   "outputs": [],
   "source": [
    "many_edges = [Edge(x[0]-1, x[1]-1, np.random.randint(-1000, 1000)) for x in c]"
   ]
  },
  {
   "cell_type": "code",
   "execution_count": 82,
   "metadata": {},
   "outputs": [],
   "source": [
    "e = copy(many_edges)\n",
    "g1 = Graph(len(e), e)"
   ]
  },
  {
   "cell_type": "code",
   "execution_count": 83,
   "metadata": {},
   "outputs": [
    {
     "name": "stdout",
     "output_type": "stream",
     "text": [
      "started\n"
     ]
    },
    {
     "ename": "KeyboardInterrupt",
     "evalue": "",
     "output_type": "error",
     "traceback": [
      "\u001b[0;31m---------------------------------------------------------------------------\u001b[0m",
      "\u001b[0;31mKeyboardInterrupt\u001b[0m                         Traceback (most recent call last)",
      "\u001b[0;32m<timed exec>\u001b[0m in \u001b[0;36m<module>\u001b[0;34m\u001b[0m\n",
      "\u001b[0;32m<ipython-input-81-5b2a28445092>\u001b[0m in \u001b[0;36mKruskalMST\u001b[0;34m(self)\u001b[0m\n\u001b[1;32m     23\u001b[0m         \u001b[0mprint\u001b[0m\u001b[0;34m(\u001b[0m\u001b[0;34m'started'\u001b[0m\u001b[0;34m)\u001b[0m\u001b[0;34m\u001b[0m\u001b[0;34m\u001b[0m\u001b[0m\n\u001b[1;32m     24\u001b[0m         \u001b[0;31m# Sort objects of an Edge class based on attribute (weight)\u001b[0m\u001b[0;34m\u001b[0m\u001b[0;34m\u001b[0m\u001b[0;34m\u001b[0m\u001b[0m\n\u001b[0;32m---> 25\u001b[0;31m         \u001b[0mself\u001b[0m\u001b[0;34m.\u001b[0m\u001b[0medgelist\u001b[0m\u001b[0;34m.\u001b[0m\u001b[0msort\u001b[0m\u001b[0;34m(\u001b[0m\u001b[0mkey\u001b[0m\u001b[0;34m=\u001b[0m\u001b[0;32mlambda\u001b[0m \u001b[0mEdge\u001b[0m \u001b[0;34m:\u001b[0m \u001b[0mEdge\u001b[0m\u001b[0;34m.\u001b[0m\u001b[0mweight\u001b[0m\u001b[0;34m)\u001b[0m\u001b[0;34m\u001b[0m\u001b[0;34m\u001b[0m\u001b[0m\n\u001b[0m\u001b[1;32m     26\u001b[0m \u001b[0;34m\u001b[0m\u001b[0m\n\u001b[1;32m     27\u001b[0m         \u001b[0;31m# union find (2 extra arrays)\u001b[0m\u001b[0;34m\u001b[0m\u001b[0;34m\u001b[0m\u001b[0;34m\u001b[0m\u001b[0m\n",
      "\u001b[0;32m<ipython-input-81-5b2a28445092>\u001b[0m in \u001b[0;36m<lambda>\u001b[0;34m(Edge)\u001b[0m\n\u001b[1;32m     23\u001b[0m         \u001b[0mprint\u001b[0m\u001b[0;34m(\u001b[0m\u001b[0;34m'started'\u001b[0m\u001b[0;34m)\u001b[0m\u001b[0;34m\u001b[0m\u001b[0;34m\u001b[0m\u001b[0m\n\u001b[1;32m     24\u001b[0m         \u001b[0;31m# Sort objects of an Edge class based on attribute (weight)\u001b[0m\u001b[0;34m\u001b[0m\u001b[0;34m\u001b[0m\u001b[0;34m\u001b[0m\u001b[0m\n\u001b[0;32m---> 25\u001b[0;31m         \u001b[0mself\u001b[0m\u001b[0;34m.\u001b[0m\u001b[0medgelist\u001b[0m\u001b[0;34m.\u001b[0m\u001b[0msort\u001b[0m\u001b[0;34m(\u001b[0m\u001b[0mkey\u001b[0m\u001b[0;34m=\u001b[0m\u001b[0;32mlambda\u001b[0m \u001b[0mEdge\u001b[0m \u001b[0;34m:\u001b[0m \u001b[0mEdge\u001b[0m\u001b[0;34m.\u001b[0m\u001b[0mweight\u001b[0m\u001b[0;34m)\u001b[0m\u001b[0;34m\u001b[0m\u001b[0;34m\u001b[0m\u001b[0m\n\u001b[0m\u001b[1;32m     26\u001b[0m \u001b[0;34m\u001b[0m\u001b[0m\n\u001b[1;32m     27\u001b[0m         \u001b[0;31m# union find (2 extra arrays)\u001b[0m\u001b[0;34m\u001b[0m\u001b[0;34m\u001b[0m\u001b[0;34m\u001b[0m\u001b[0m\n",
      "\u001b[0;31mKeyboardInterrupt\u001b[0m: "
     ]
    }
   ],
   "source": [
    "%%time\n",
    "g1.KruskalMST()\n",
    "counter"
   ]
  },
  {
   "cell_type": "code",
   "execution_count": 75,
   "metadata": {},
   "outputs": [
    {
     "data": {
      "text/plain": [
       "5105043"
      ]
     },
     "execution_count": 75,
     "metadata": {},
     "output_type": "execute_result"
    }
   ],
   "source": [
    "len(e)"
   ]
  },
  {
   "cell_type": "code",
   "execution_count": null,
   "metadata": {},
   "outputs": [],
   "source": []
  }
 ],
 "metadata": {
  "kernelspec": {
   "display_name": "venv3.9",
   "language": "python",
   "name": "venv3.9"
  },
  "language_info": {
   "codemirror_mode": {
    "name": "ipython",
    "version": 3
   },
   "file_extension": ".py",
   "mimetype": "text/x-python",
   "name": "python",
   "nbconvert_exporter": "python",
   "pygments_lexer": "ipython3",
   "version": "3.9.0"
  }
 },
 "nbformat": 4,
 "nbformat_minor": 4
}
