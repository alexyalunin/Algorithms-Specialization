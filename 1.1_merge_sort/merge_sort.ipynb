{
 "cells": [
  {
   "cell_type": "code",
   "execution_count": 3,
   "metadata": {},
   "outputs": [],
   "source": [
    "import random"
   ]
  },
  {
   "cell_type": "code",
   "execution_count": 9,
   "metadata": {},
   "outputs": [],
   "source": [
    "def merge_sort(A, l, r):\n",
    "    if r - l <= 1: return\n",
    "    m = int((l + r) / 2) # вверх \n",
    "    merge_sort(A, l, m)\n",
    "    merge_sort(A, m, r)\n",
    "    merge(A, l, m, r)\n",
    "    return A\n",
    "\n",
    "def merge(A, l, m, r):\n",
    "    i1 = l\n",
    "    i2 = m\n",
    "    res = []\n",
    "    while i1 < m and i2 < r:\n",
    "        if A[i1] < A[i2]:\n",
    "            res.append(A[i1])\n",
    "            i1 += 1\n",
    "        else:\n",
    "            res.append(A[i2])\n",
    "            i2 += 1\n",
    "    res.extend(A[i1:m])\n",
    "    res.extend(A[i2:r])\n",
    "    A[l:r] = res"
   ]
  },
  {
   "cell_type": "code",
   "execution_count": 10,
   "metadata": {},
   "outputs": [
    {
     "name": "stdout",
     "output_type": "stream",
     "text": [
      "[-99, -98, -98, -97, -96, -95, -95, -95, -94, -92, -91, -91, -87, -87, -85, -84, -84, -84, -83, -82, -81, -80, -80, -80, -79, -78, -76, -76, -75, -75, -74, -74, -74, -73, -73, -72, -71, -71, -68, -67, -64, -62, -58, -58, -57, -56, -55, -54, -53, -50, -50, -49, -49, -48, -46, -46, -45, -44, -43, -43, -42, -41, -41, -41, -41, -39, -38, -37, -36, -34, -34, -33, -33, -32, -32, -32, -31, -26, -24, -23, -23, -20, -20, -19, -18, -18, -16, -16, -16, -16, -8, -8, -7, -6, -5, -5, -4, -3, -2, -2, 0, 1, 1, 2, 4, 5, 6, 6, 6, 7, 9, 11, 13, 13, 14, 15, 18, 19, 19, 20, 20, 21, 21, 22, 22, 23, 23, 26, 27, 29, 30, 30, 31, 31, 32, 32, 34, 34, 36, 36, 36, 36, 38, 39, 41, 42, 42, 42, 44, 46, 47, 48, 49, 49, 49, 50, 51, 54, 54, 54, 55, 55, 56, 59, 60, 61, 61, 65, 67, 70, 70, 71, 73, 73, 73, 75, 77, 78, 78, 78, 83, 83, 84, 84, 87, 88, 88, 90, 90, 94, 95, 95, 95, 97, 97, 97, 98, 99, 99, 99]\n"
     ]
    }
   ],
   "source": [
    "A = [random.randint(-100,100) for i in range(200)]\n",
    "print(merge_sort(A, 0, len(A)))"
   ]
  },
  {
   "cell_type": "code",
   "execution_count": null,
   "metadata": {},
   "outputs": [],
   "source": []
  }
 ],
 "metadata": {
  "kernelspec": {
   "display_name": "venv3.9",
   "language": "python",
   "name": "venv3.9"
  },
  "language_info": {
   "codemirror_mode": {
    "name": "ipython",
    "version": 3
   },
   "file_extension": ".py",
   "mimetype": "text/x-python",
   "name": "python",
   "nbconvert_exporter": "python",
   "pygments_lexer": "ipython3",
   "version": "3.9.0"
  }
 },
 "nbformat": 4,
 "nbformat_minor": 4
}
