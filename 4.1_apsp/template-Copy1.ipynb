{
 "cells": [
  {
   "cell_type": "code",
   "execution_count": 87,
   "metadata": {},
   "outputs": [],
   "source": [
    "from tqdm import tqdm\n",
    "from collections import Counter, defaultdict\n",
    "import random\n",
    "from copy import copy, deepcopy\n",
    "import numpy as np\n",
    "from dataclasses import dataclass, field"
   ]
  },
  {
   "cell_type": "code",
   "execution_count": null,
   "metadata": {},
   "outputs": [],
   "source": [
    "import heapq\n",
    "from dataclasses import dataclass, field\n",
    "\n",
    "@dataclass\n",
    "class Edge:\n",
    "    src: int\n",
    "    dst: int\n",
    "    weight: int\n",
    "        \n",
    "@dataclass\n",
    "class Graph:\n",
    "    V: set\n",
    "    v_to_edgelist: dict"
   ]
  },
  {
   "cell_type": "code",
   "execution_count": 3,
   "metadata": {},
   "outputs": [],
   "source": [
    "FILE_NAME=\"dijkstraData.txt\""
   ]
  },
  {
   "cell_type": "code",
   "execution_count": 1,
   "metadata": {},
   "outputs": [
    {
     "name": "stdout",
     "output_type": "stream",
     "text": [
      "total 29952\n",
      "-rw-r--r--  1 Alexander  staff   498K Apr 22 02:05 g1.txt\n",
      "-rw-r--r--  1 Alexander  staff   498K Apr 22 02:05 g2.txt\n",
      "-rw-r--r--  1 Alexander  staff   498K Apr 22 02:05 g3.txt\n",
      "-rw-r--r--  1 Alexander  staff    13M Apr 22 02:05 large.txt\n",
      "-rw-r--r--  1 Alexander  staff   4.0K Apr 22 02:04 template-Copy1.ipynb\n"
     ]
    }
   ],
   "source": [
    "! ls -lh"
   ]
  },
  {
   "cell_type": "code",
   "execution_count": 2,
   "metadata": {},
   "outputs": [],
   "source": [
    "with open(\"g1.txt\") as file:\n",
    "    a = file.read().splitlines()"
   ]
  },
  {
   "cell_type": "code",
   "execution_count": 6,
   "metadata": {},
   "outputs": [
    {
     "data": {
      "text/plain": [
       "(1000, 47978)"
      ]
     },
     "execution_count": 6,
     "metadata": {},
     "output_type": "execute_result"
    }
   ],
   "source": [
    "num_v, num_e = (int(x) for x in a[0].split(' '))\n",
    "num_v, num_e"
   ]
  },
  {
   "cell_type": "code",
   "execution_count": 7,
   "metadata": {},
   "outputs": [
    {
     "data": {
      "text/plain": [
       "['1 14 6', '1 25 47', '1 70 22', '1 82 31', '1 98 17']"
      ]
     },
     "execution_count": 7,
     "metadata": {},
     "output_type": "execute_result"
    }
   ],
   "source": [
    "a[1:6]"
   ]
  },
  {
   "cell_type": "code",
   "execution_count": 20,
   "metadata": {},
   "outputs": [],
   "source": [
    "V = set()\n",
    "v_to_edgelist = {}\n",
    "for x in a[1:]:\n",
    "    x = x.split(' ')\n",
    "    src = int(x[0])\n",
    "    dst = int(x[1])\n",
    "    weight = int(x[2])\n",
    "    edge = Edge(src=src, dst=dst, weight=weight)\n",
    "    V.add(src)\n",
    "    if src in v_to_edgelist:\n",
    "        v_to_edgelist[src].append(edge)\n",
    "    else:\n",
    "        v_to_edgelist[src] = [edge]"
   ]
  },
  {
   "cell_type": "code",
   "execution_count": 21,
   "metadata": {},
   "outputs": [],
   "source": [
    "G = Graph(V, v_to_edgelist)"
   ]
  },
  {
   "cell_type": "markdown",
   "metadata": {},
   "source": [
    "# Floyd-Warshall (APSP)"
   ]
  },
  {
   "cell_type": "code",
   "execution_count": 16,
   "metadata": {},
   "outputs": [],
   "source": [
    "def Floyd_Warshall_APSP(G):\n",
    "    num_v = len(G.V)\n",
    "    A = np.full((num_v+1, num_v+1, num_v+1), np.inf)\n",
    "    for i in range(num_v):\n",
    "        A[i,i,0] = 0\n",
    "    for edges in G.v_to_edgelist.values():\n",
    "        for edge in edges:\n",
    "            A[edge.src, edge.dst, 0] = edge.weight\n",
    "    \n",
    "    for k in tqdm(range(1, num_v+1)): # num of allowed edges\n",
    "        for i in range(1, num_v+1): # from each src\n",
    "            for j in range(1, num_v+1): # to each dst\n",
    "                A[i,j,k] = min(A[i,j,k-1], A[i,k,k-1] + A[k,j,k-1])\n",
    "    for i in range(1, num_v+1):\n",
    "        if A[i,i,-1] < 0:\n",
    "            return None\n",
    "    return A[:,:,-2]"
   ]
  },
  {
   "cell_type": "code",
   "execution_count": 17,
   "metadata": {},
   "outputs": [],
   "source": [
    "def read_graph(file_name):\n",
    "    with open(file_name) as file:\n",
    "        a = file.read().splitlines()\n",
    "    num_v, num_e = (int(x) for x in a[0].split(' '))\n",
    "    V = set()\n",
    "    v_to_edgelist = {}\n",
    "    for x in a[1:]:\n",
    "        x = x.split(' ')\n",
    "        src = int(x[0])\n",
    "        dst = int(x[1])\n",
    "        weight = int(x[2])\n",
    "        edge = Edge(src=src, dst=dst, weight=weight)\n",
    "        V.add(src)\n",
    "        V.add(dst)\n",
    "        if src in v_to_edgelist:\n",
    "            v_to_edgelist[src].append(edge)\n",
    "        else:\n",
    "            v_to_edgelist[src] = [edge]\n",
    "    G = Graph(V, v_to_edgelist)\n",
    "    return G"
   ]
  },
  {
   "cell_type": "code",
   "execution_count": 18,
   "metadata": {},
   "outputs": [
    {
     "name": "stdout",
     "output_type": "stream",
     "text": [
      "The jupyternotify extension is already loaded. To reload it, use:\n",
      "  %reload_ext jupyternotify\n"
     ]
    }
   ],
   "source": [
    "%load_ext jupyternotify"
   ]
  },
  {
   "cell_type": "code",
   "execution_count": 19,
   "metadata": {},
   "outputs": [
    {
     "name": "stdout",
     "output_type": "stream",
     "text": [
      "g1.txt\n"
     ]
    },
    {
     "name": "stderr",
     "output_type": "stream",
     "text": [
      "100%|██████████| 1000/1000 [22:49<00:00,  1.37s/it]\n"
     ]
    },
    {
     "name": "stdout",
     "output_type": "stream",
     "text": [
      "cycle\n",
      "g2.txt\n"
     ]
    },
    {
     "name": "stderr",
     "output_type": "stream",
     "text": [
      "100%|██████████| 1000/1000 [24:01<00:00,  1.44s/it]\n"
     ]
    },
    {
     "name": "stdout",
     "output_type": "stream",
     "text": [
      "cycle\n",
      "g3.txt\n"
     ]
    },
    {
     "name": "stderr",
     "output_type": "stream",
     "text": [
      "100%|██████████| 1000/1000 [24:01<00:00,  1.44s/it]\n"
     ]
    },
    {
     "ename": "ValueError",
     "evalue": "The truth value of an array with more than one element is ambiguous. Use a.any() or a.all()",
     "output_type": "error",
     "traceback": [
      "\u001b[0;31m---------------------------------------------------------------------------\u001b[0m",
      "\u001b[0;31mValueError\u001b[0m                                Traceback (most recent call last)",
      "\u001b[0;32m<ipython-input-19-699f64681c84>\u001b[0m in \u001b[0;36m<module>\u001b[0;34m\u001b[0m\n\u001b[1;32m      4\u001b[0m     \u001b[0mA\u001b[0m \u001b[0;34m=\u001b[0m \u001b[0mFloyd_Warshall\u001b[0m\u001b[0;34m(\u001b[0m\u001b[0mG\u001b[0m\u001b[0;34m)\u001b[0m\u001b[0;34m\u001b[0m\u001b[0;34m\u001b[0m\u001b[0m\n\u001b[1;32m      5\u001b[0m     \u001b[0;32mif\u001b[0m \u001b[0mA\u001b[0m \u001b[0;32mis\u001b[0m \u001b[0;32mnot\u001b[0m \u001b[0;32mNone\u001b[0m\u001b[0;34m:\u001b[0m\u001b[0;34m\u001b[0m\u001b[0;34m\u001b[0m\u001b[0m\n\u001b[0;32m----> 6\u001b[0;31m         \u001b[0mprint\u001b[0m\u001b[0;34m(\u001b[0m\u001b[0mmin\u001b[0m\u001b[0;34m(\u001b[0m\u001b[0mA\u001b[0m\u001b[0;34m)\u001b[0m\u001b[0;34m)\u001b[0m\u001b[0;34m\u001b[0m\u001b[0;34m\u001b[0m\u001b[0m\n\u001b[0m\u001b[1;32m      7\u001b[0m     \u001b[0;32melse\u001b[0m\u001b[0;34m:\u001b[0m\u001b[0;34m\u001b[0m\u001b[0;34m\u001b[0m\u001b[0m\n\u001b[1;32m      8\u001b[0m         \u001b[0mprint\u001b[0m\u001b[0;34m(\u001b[0m\u001b[0;34m'cycle'\u001b[0m\u001b[0;34m)\u001b[0m\u001b[0;34m\u001b[0m\u001b[0;34m\u001b[0m\u001b[0m\n",
      "\u001b[0;31mValueError\u001b[0m: The truth value of an array with more than one element is ambiguous. Use a.any() or a.all()"
     ]
    },
    {
     "data": {
      "application/javascript": [
       "$(document).ready(\n",
       "    function() {\n",
       "        function appendUniqueDiv(){\n",
       "            // append a div with our uuid so we can check that it's already\n",
       "            // been sent and avoid duplicates on page reload\n",
       "            var notifiedDiv = document.createElement(\"div\")\n",
       "            notifiedDiv.id = \"6ad3b90d-502b-45f6-b148-757bdc0166d1\"\n",
       "            element.append(notifiedDiv)\n",
       "        }\n",
       "\n",
       "        // only send notifications if the pageload is complete; this will\n",
       "        // help stop extra notifications when a saved notebook is loaded,\n",
       "        // which during testing gives us state \"interactive\", not \"complete\"\n",
       "        if (document.readyState === 'complete') {\n",
       "            // check for the div that signifies that the notification\n",
       "            // was already sent\n",
       "            if (document.getElementById(\"6ad3b90d-502b-45f6-b148-757bdc0166d1\") === null) {\n",
       "                var notificationPayload = {\"requireInteraction\": false, \"icon\": \"/static/base/images/favicon.ico\", \"body\": \"Cell execution has finished!\"};\n",
       "                if (Notification.permission !== 'denied') {\n",
       "                    if (Notification.permission !== 'granted') { \n",
       "                        Notification.requestPermission(function (permission) {\n",
       "                            if(!('permission' in Notification)) {\n",
       "                                Notification.permission = permission\n",
       "                            }\n",
       "                        })\n",
       "                    }\n",
       "                    if (Notification.permission === 'granted') {\n",
       "                    var notification = new Notification(\"Jupyter Notebook\", notificationPayload)\n",
       "                    appendUniqueDiv()\n",
       "                    notification.onclick = function () {\n",
       "                        window.focus();\n",
       "                        this.close();\n",
       "                        };\n",
       "                    } \n",
       "                }     \n",
       "            }\n",
       "        }\n",
       "    }\n",
       ")\n"
      ],
      "text/plain": [
       "<IPython.core.display.Javascript object>"
      ]
     },
     "metadata": {},
     "output_type": "display_data"
    }
   ],
   "source": [
    "%%notify\n",
    "for file in ['g1.txt', 'g2.txt', 'g3.txt']:\n",
    "    print(file)\n",
    "    G = read_graph(file)\n",
    "    A = Floyd_Warshall_APSP(G)\n",
    "    if A is not None:\n",
    "        print(A.min())\n",
    "    else:\n",
    "        print('cycle')"
   ]
  },
  {
   "cell_type": "code",
   "execution_count": 21,
   "metadata": {},
   "outputs": [
    {
     "data": {
      "text/plain": [
       "-19.0"
      ]
     },
     "execution_count": 21,
     "metadata": {},
     "output_type": "execute_result"
    }
   ],
   "source": [
    "A.min()"
   ]
  },
  {
   "cell_type": "code",
   "execution_count": 160,
   "metadata": {},
   "outputs": [],
   "source": [
    "def Dijkstra_SSSP(G, start_v):\n",
    "    G = deepcopy(G)\n",
    "    D = defaultdict(lambda: np.inf)\n",
    "    curr_v = start_v\n",
    "    G.V.remove(curr_v)\n",
    "    D[curr_v] = 0\n",
    "    \n",
    "    heap = []\n",
    "    while G.V:\n",
    "        if curr_v in G.v_to_edgelist:\n",
    "            edges = G.v_to_edgelist[curr_v]\n",
    "            for edge in edges:\n",
    "                dist = min(D[edge.dst], D[edge.src] + edge.weight)\n",
    "                D[edge.dst] = dist\n",
    "                heapq.heappush(heap, (dist, edge.dst))\n",
    "        \n",
    "        if len(heap) == 0: break\n",
    "        dist, dst = heapq.heappop(heap)\n",
    "        flag = False\n",
    "        while dst not in G.V: # it will stop when finds dst that is in G.V (not explored)\n",
    "            if len(heap) == 0: \n",
    "                flag = True\n",
    "                break\n",
    "            dist, dst = heapq.heappop(heap) # clean heap from edges whos v are already in D\n",
    "        if flag: break\n",
    "        D[dst] = dist\n",
    "        G.V.remove(dst)\n",
    "        curr_v = dst\n",
    "    D = dict(D)\n",
    "    return D"
   ]
  },
  {
   "cell_type": "code",
   "execution_count": 161,
   "metadata": {},
   "outputs": [
    {
     "data": {
      "text/plain": [
       "{0: 0, 1: 2, 3: 1, 2: 5}"
      ]
     },
     "execution_count": 161,
     "metadata": {},
     "output_type": "execute_result"
    }
   ],
   "source": [
    "G = read_graph('test_dijkstra.txt')\n",
    "A = Dijkstra_SSSP(G, 0)\n",
    "A"
   ]
  },
  {
   "cell_type": "code",
   "execution_count": 145,
   "metadata": {},
   "outputs": [
    {
     "data": {
      "text/plain": [
       "{0: 0, 1: 2, 2: 3, 3: 4, 4: 6}"
      ]
     },
     "execution_count": 145,
     "metadata": {},
     "output_type": "execute_result"
    }
   ],
   "source": [
    "G = read_graph('test_bellman.txt')\n",
    "A = Dijkstra_SSSP(G, 0)\n",
    "A"
   ]
  },
  {
   "cell_type": "code",
   "execution_count": 157,
   "metadata": {},
   "outputs": [],
   "source": [
    "def Bellman_Ford_SSSP(G):\n",
    "    num_v = len(G.V)\n",
    "    v_to_in_edges = {}\n",
    "    # assume zero is source vertex\n",
    "    v_to_in_edges[0] = []\n",
    "    for v, edges in G.v_to_edgelist.items():\n",
    "        for edge in edges:\n",
    "            dst = edge.dst\n",
    "            if dst in v_to_in_edges:\n",
    "                v_to_in_edges[dst].append(edge)\n",
    "            else:\n",
    "                v_to_in_edges[dst] = [edge]\n",
    "    A = np.zeros((num_v+1, num_v)) # num_allowed_edges [0-n] x numerated verted \n",
    "    for v in G.V:\n",
    "        A[0,v] = np.inf\n",
    "    A[0,0] = 0\n",
    "    for i in tqdm(range(1, num_v+1)): # num allowed edges\n",
    "        for v in G.V:\n",
    "            paths_to_v = []\n",
    "            for in_edge in v_to_in_edges[v]:\n",
    "                paths_to_v.append(A[i-1, in_edge.src] + in_edge.weight)\n",
    "            if len(paths_to_v) == 0:\n",
    "                A[i,v] = A[i-1,v]\n",
    "            else:\n",
    "                A[i,v] = min(A[i-1,v], min(paths_to_v))\n",
    "    for v in G.V:\n",
    "        if A[num_v-1, v] != A[num_v, v]:\n",
    "            return None\n",
    "    return A[-2,:]"
   ]
  },
  {
   "cell_type": "code",
   "execution_count": 126,
   "metadata": {},
   "outputs": [
    {
     "name": "stderr",
     "output_type": "stream",
     "text": [
      "100%|██████████| 5/5 [00:00<00:00, 35424.86it/s]\n"
     ]
    },
    {
     "data": {
      "text/plain": [
       "array([0., 2., 3., 4., 6.])"
      ]
     },
     "execution_count": 126,
     "metadata": {},
     "output_type": "execute_result"
    }
   ],
   "source": [
    "G = read_graph('test_bellman.txt')\n",
    "A = Bellman_Ford_SSSP(G)\n",
    "A"
   ]
  },
  {
   "cell_type": "code",
   "execution_count": 166,
   "metadata": {},
   "outputs": [],
   "source": [
    "def Johnson_APSP(G):\n",
    "    # assume 0 is not in G.V\n",
    "    # 1. add edges from 0 to each v with weight 0\n",
    "    G = deepcopy(G)\n",
    "    G_zero = deepcopy(G)\n",
    "    G_zero.v_to_edgelist[0] = []\n",
    "    for v in G_zero.V:\n",
    "        G_zero.v_to_edgelist[0].append(Edge(src=0, dst=v, weight=0))\n",
    "    G_zero.V.add(0)\n",
    "    # 2. calc ps with Bellman_Ford_SSSP or halt\n",
    "    A = Bellman_Ford_SSSP(G_zero) # distances from 0 to each vertex or None if cycle\n",
    "    if A is None:\n",
    "        return None\n",
    "    # 3. reweight\n",
    "    for edges in G.v_to_edgelist.values():\n",
    "        for edge in edges:\n",
    "            edge.weight = edge.weight + A[edge.src] - A[edge.dst]\n",
    "    # 4. for each v run Dijkstra\n",
    "    res = np.inf\n",
    "    for src in tqdm(G.V):\n",
    "        D = Dijkstra_SSSP(G, src)\n",
    "        for dst, path_len in D.items():\n",
    "            # 5. reweight\n",
    "            res = min(res, path_len - A[src] + A[dst])\n",
    "    return res"
   ]
  },
  {
   "cell_type": "code",
   "execution_count": 165,
   "metadata": {},
   "outputs": [
    {
     "name": "stderr",
     "output_type": "stream",
     "text": [
      "100%|██████████| 5/5 [00:00<00:00, 18995.94it/s]\n",
      "100%|██████████| 5/5 [00:00<00:00, 2902.23it/s]\n"
     ]
    },
    {
     "data": {
      "text/plain": [
       "-3.0"
      ]
     },
     "execution_count": 165,
     "metadata": {},
     "output_type": "execute_result"
    }
   ],
   "source": [
    "G = read_graph('test_bellman.txt')\n",
    "A = Johnson_APSP(G)\n",
    "A"
   ]
  },
  {
   "cell_type": "code",
   "execution_count": null,
   "metadata": {},
   "outputs": [
    {
     "name": "stdout",
     "output_type": "stream",
     "text": [
      "g1.txt\n"
     ]
    },
    {
     "name": "stderr",
     "output_type": "stream",
     "text": [
      "100%|██████████| 1001/1001 [00:58<00:00, 17.14it/s]\n"
     ]
    },
    {
     "name": "stdout",
     "output_type": "stream",
     "text": [
      "cycle\n",
      "g2.txt\n"
     ]
    },
    {
     "name": "stderr",
     "output_type": "stream",
     "text": [
      "100%|██████████| 1001/1001 [00:59<00:00, 16.92it/s]\n"
     ]
    },
    {
     "name": "stdout",
     "output_type": "stream",
     "text": [
      "cycle\n",
      "g3.txt\n"
     ]
    },
    {
     "name": "stderr",
     "output_type": "stream",
     "text": [
      "100%|██████████| 1001/1001 [00:57<00:00, 17.34it/s]\n",
      " 10%|█         | 103/1000 [01:24<12:27,  1.20it/s]"
     ]
    }
   ],
   "source": [
    "for file in ['g1.txt', 'g2.txt', 'g3.txt']:\n",
    "    print(file)\n",
    "    G = read_graph(file)\n",
    "    A = Johnson_APSP(G)\n",
    "    if A is not None:\n",
    "        print(A.min())\n",
    "    else:\n",
    "        print('cycle')"
   ]
  },
  {
   "cell_type": "code",
   "execution_count": null,
   "metadata": {},
   "outputs": [],
   "source": []
  }
 ],
 "metadata": {
  "kernelspec": {
   "display_name": "venv3.9",
   "language": "python",
   "name": "venv3.9"
  },
  "language_info": {
   "codemirror_mode": {
    "name": "ipython",
    "version": 3
   },
   "file_extension": ".py",
   "mimetype": "text/x-python",
   "name": "python",
   "nbconvert_exporter": "python",
   "pygments_lexer": "ipython3",
   "version": "3.9.0"
  }
 },
 "nbformat": 4,
 "nbformat_minor": 4
}
