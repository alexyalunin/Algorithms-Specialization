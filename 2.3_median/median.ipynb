{
 "cells": [
  {
   "cell_type": "code",
   "execution_count": 1,
   "metadata": {},
   "outputs": [],
   "source": [
    "from tqdm import tqdm\n",
    "from collections import Counter, defaultdict\n",
    "import random\n",
    "import copy"
   ]
  },
  {
   "cell_type": "code",
   "execution_count": 2,
   "metadata": {},
   "outputs": [],
   "source": [
    "FILE_NAME=\"Median.txt\""
   ]
  },
  {
   "cell_type": "code",
   "execution_count": 4,
   "metadata": {},
   "outputs": [
    {
     "name": "stderr",
     "output_type": "stream",
     "text": [
      "--2021-04-11 20:30:23--  https://d3c33hcgiwev3.cloudfront.net/_6ec67df2804ff4b58ab21c12edcb21f8_Median.txt?Expires=1618272000&Signature=VIAfbUtZdcXpij3v8sLRRYc82AzKenYcp3W2pgazV46o5~FGt-Bt9niiNsz1P48K~18LX4VCsVNWthnDY1BUE-~D9JsDWz58txK--v0rZj~Q8oUO1maeUL0~dbjjy~DsiAVd4blusZOYrDWbM1Bzy3IRa1FIjxwh2SpE~TeblDs_&Key-Pair-Id=APKAJLTNE6QMUY6HBC5A\n",
      "Resolving d3c33hcgiwev3.cloudfront.net (d3c33hcgiwev3.cloudfront.net)... 52.85.114.45, 52.85.114.40, 52.85.114.74, ...\n",
      "Connecting to d3c33hcgiwev3.cloudfront.net (d3c33hcgiwev3.cloudfront.net)|52.85.114.45|:443... connected.\n",
      "HTTP request sent, awaiting response... 200 OK\n",
      "Length: 58894 (58K) [text/plain]\n",
      "Saving to: ‘Median.txt’\n",
      "\n",
      "     0K .......... .......... .......... .......... .......... 86%  484K 0s\n",
      "    50K .......                                               100% 2,41M=0,1s\n",
      "\n",
      "2021-04-11 20:30:24 (540 KB/s) - ‘Median.txt’ saved [58894/58894]\n",
      "\n"
     ]
    }
   ],
   "source": [
    "%%bash\n",
    "FILE_NAME=\"Median.txt\"\n",
    "LINK=\"https://d3c33hcgiwev3.cloudfront.net/_6ec67df2804ff4b58ab21c12edcb21f8_Median.txt?Expires=1618272000&Signature=VIAfbUtZdcXpij3v8sLRRYc82AzKenYcp3W2pgazV46o5~FGt-Bt9niiNsz1P48K~18LX4VCsVNWthnDY1BUE-~D9JsDWz58txK--v0rZj~Q8oUO1maeUL0~dbjjy~DsiAVd4blusZOYrDWbM1Bzy3IRa1FIjxwh2SpE~TeblDs_&Key-Pair-Id=APKAJLTNE6QMUY6HBC5A\"\n",
    "\n",
    "wget -O $FILE_NAME $LINK "
   ]
  },
  {
   "cell_type": "code",
   "execution_count": 5,
   "metadata": {},
   "outputs": [
    {
     "name": "stdout",
     "output_type": "stream",
     "text": [
      "total 152\n",
      "-rw-r--r--  1 Alexander  staff    58K Apr  4  2016 Median.txt\n",
      "-rw-r--r--  1 Alexander  staff    14K Apr 11 20:30 median.ipynb\n"
     ]
    }
   ],
   "source": [
    "! ls -lh"
   ]
  },
  {
   "cell_type": "code",
   "execution_count": 7,
   "metadata": {},
   "outputs": [],
   "source": [
    "with open(FILE_NAME) as file:\n",
    "    a = file.read().splitlines()\n",
    "a = [int(x) for x in a]"
   ]
  },
  {
   "cell_type": "code",
   "execution_count": 8,
   "metadata": {},
   "outputs": [
    {
     "data": {
      "text/plain": [
       "(10000, [6331, 2793, 1640, 9290, 225, 625, 6195, 2303, 5685, 1354])"
      ]
     },
     "execution_count": 8,
     "metadata": {},
     "output_type": "execute_result"
    }
   ],
   "source": [
    "len(a), a[:10]"
   ]
  },
  {
   "cell_type": "markdown",
   "metadata": {},
   "source": [
    "## Heap based solution "
   ]
  },
  {
   "cell_type": "code",
   "execution_count": 20,
   "metadata": {},
   "outputs": [],
   "source": [
    "import heapq\n",
    "\n",
    "def get_medians_via_heap(A: list):\n",
    "    l_heap = [] # outputs max\n",
    "    r_heap = [] # outputs min\n",
    "    m = A[0] # first median\n",
    "    ms = [m]\n",
    "\n",
    "    for x in A[1:]:\n",
    "        if x <= m:\n",
    "            heapq.heappush(l_heap, (-1) * x)\n",
    "        else:\n",
    "            heapq.heappush(r_heap, x)\n",
    "\n",
    "        diff = len(r_heap) - len(l_heap)\n",
    "        if diff == 0 or diff == 1: # 1 1 1, 0 1 1\n",
    "            pass\n",
    "        elif diff == 2: # 0 1 2\n",
    "            el = heapq.heappop(r_heap) \n",
    "            heapq.heappush(l_heap, (-1) * m)\n",
    "            m = el\n",
    "        elif diff < 0: # 1 1 0\n",
    "            el = heapq.heappop(l_heap) * (-1)\n",
    "            heapq.heappush(r_heap, m)\n",
    "            m = el\n",
    "        else:\n",
    "            raise\n",
    "        ms.append(m)\n",
    "    return ms"
   ]
  },
  {
   "cell_type": "code",
   "execution_count": 22,
   "metadata": {},
   "outputs": [
    {
     "data": {
      "text/plain": [
       "1213"
      ]
     },
     "execution_count": 22,
     "metadata": {},
     "output_type": "execute_result"
    }
   ],
   "source": [
    "medians = get_medians_via_heap(a)\n",
    "sum(medians) % 10000"
   ]
  },
  {
   "cell_type": "markdown",
   "metadata": {},
   "source": [
    "# search-tree-based"
   ]
  },
  {
   "cell_type": "markdown",
   "metadata": {},
   "source": [
    "not done"
   ]
  },
  {
   "cell_type": "code",
   "execution_count": 17,
   "metadata": {},
   "outputs": [],
   "source": [
    "class Tree:\n",
    "    value: int\n",
    "    left: object\n",
    "    right: object\n",
    "    \n",
    "    def __init__(self, value, left=None, right=None):\n",
    "        self.value = value\n",
    "        self.left = left\n",
    "        self.right = right\n",
    "        \n",
    "    def get_size(self):\n",
    "        return self.get_left_size() + self.get_right_size() + 1\n",
    "        \n",
    "    def get_left_size(self):\n",
    "        return self.left.get_size()\n",
    "    \n",
    "    def get_right_size(self):\n",
    "        return self.right.get_size()"
   ]
  },
  {
   "cell_type": "code",
   "execution_count": 18,
   "metadata": {},
   "outputs": [
    {
     "ename": "IndentationError",
     "evalue": "expected an indented block (<ipython-input-18-18495b9dc8f5>, line 19)",
     "output_type": "error",
     "traceback": [
      "\u001b[0;36m  File \u001b[0;32m\"<ipython-input-18-18495b9dc8f5>\"\u001b[0;36m, line \u001b[0;32m19\u001b[0m\n\u001b[0;31m    elif len_diff < 0: # 1 1 0\u001b[0m\n\u001b[0m    ^\u001b[0m\n\u001b[0;31mIndentationError\u001b[0m\u001b[0;31m:\u001b[0m expected an indented block\n"
     ]
    }
   ],
   "source": [
    "def insert_into_tree(value, tree):\n",
    "    if value <= tree.value:\n",
    "        if tree.left is None:\n",
    "            tree.left = Tree(value=value)\n",
    "        else:\n",
    "            insert_into_tree(value, tree.left)\n",
    "    else:\n",
    "        if tree.right is None:\n",
    "            tree.right = Tree(value=value)\n",
    "        else:\n",
    "            insert_into_tree(value, tree.right)\n",
    "    \n",
    "def balance_tree(tree):\n",
    "    len_diff = tree.get_right_size() - tree.get_left_size()\n",
    "    if len_diff == 0 or len_diff == 1: # 1 1 1, 0 1 1\n",
    "        pass\n",
    "    elif len_diff == 2: # 0 1 2\n",
    "        \n",
    "    elif len_diff < 0: # 1 1 0\n",
    "        \n",
    "    else:\n",
    "        raise \n",
    "    \n",
    "    \n",
    "def get_medians_via_bst(a):\n",
    "    root = Tree(a[0])\n",
    "    res_medians = [root.value]\n",
    "    for x in a[1:]:\n",
    "        insert_into_tree(value, root)\n",
    "        balance_tree(root)\n",
    "        res_medians.append(root.value)\n",
    "    return res_medians\n",
    "        "
   ]
  },
  {
   "cell_type": "code",
   "execution_count": null,
   "metadata": {},
   "outputs": [],
   "source": [
    "medians = get_medians_via_bst(a)"
   ]
  },
  {
   "cell_type": "code",
   "execution_count": null,
   "metadata": {},
   "outputs": [],
   "source": []
  }
 ],
 "metadata": {
  "kernelspec": {
   "display_name": "venv3.9",
   "language": "python",
   "name": "venv3.9"
  },
  "language_info": {
   "codemirror_mode": {
    "name": "ipython",
    "version": 3
   },
   "file_extension": ".py",
   "mimetype": "text/x-python",
   "name": "python",
   "nbconvert_exporter": "python",
   "pygments_lexer": "ipython3",
   "version": "3.9.0"
  }
 },
 "nbformat": 4,
 "nbformat_minor": 4
}
